{
 "cells": [
  {
   "cell_type": "markdown",
   "metadata": {
    "_uuid": "d1fec9c31f47607b0e9530447327ec509310e6d6"
   },
   "source": [
    "# Topic Modeling with Gensim\n",
    "In this notebook we will extract topics from our collection of questions using Latent Dirichlet Allocation (LDA) and the Gensim package.\n",
    "\n",
    "Gensim markets itself as \"topic modelling for humans\" and its really fast.\n",
    "\n",
    "According to [NLP for Hackers](https://nlpforhackers.io/topic-modeling/) topic modeling is:\n",
    " - Dimensinality Reduction - We reduce dimensionality by representing a text in its topic space instead of its word space.\n",
    " - Unsupervised Learning - Topic modeling is similar to clustering.\n",
    " - A Form of Tagging - Topic modeling applys multiple tags to a text. (Similar to the tags applied to this kernel above!)\n",
    " \n",
    " Topic modeling is useful for many situations, including our task of text classification.\n",
    " \n",
    "From the [gensim documentation](https://radimrehurek.com/gensim/tut2.html#transformation-interface) Latent Semantic Indexing (LSI) is a form of dimensionality reduction where documents are transformed into a latent space of lower dimensionality.\n",
    "\n",
    "LDA is a probabilistic extension of LSA (aka multinomial PCA).  LDA’s topics can be interpreted as probability distributions over words. These distributions are, just like with LSA, inferred automatically from a training corpus. Documents are in turn interpreted as a (soft) mixture of these topics (again, just like with LSA)."
   ]
  },
  {
   "cell_type": "code",
   "execution_count": 1,
   "metadata": {},
   "outputs": [
    {
     "name": "stdout",
     "output_type": "stream",
     "text": [
      "Requirement already satisfied: pyLDAvis in c:\\users\\sudheer\\anaconda3\\lib\\site-packages (2.1.2)\n",
      "Requirement already satisfied: scipy>=0.18.0 in c:\\users\\sudheer\\anaconda3\\lib\\site-packages (from pyLDAvis) (1.3.2)\n",
      "Requirement already satisfied: jinja2>=2.7.2 in c:\\users\\sudheer\\anaconda3\\lib\\site-packages (from pyLDAvis) (2.10.3)\n",
      "Requirement already satisfied: pandas>=0.17.0 in c:\\users\\sudheer\\anaconda3\\lib\\site-packages (from pyLDAvis) (1.0.0)\n",
      "Requirement already satisfied: joblib>=0.8.4 in c:\\users\\sudheer\\anaconda3\\lib\\site-packages (from pyLDAvis) (0.14.1)\n",
      "Requirement already satisfied: wheel>=0.23.0 in c:\\users\\sudheer\\anaconda3\\lib\\site-packages (from pyLDAvis) (0.34.1)\n",
      "Requirement already satisfied: funcy in c:\\users\\sudheer\\anaconda3\\lib\\site-packages (from pyLDAvis) (1.14)\n",
      "Requirement already satisfied: pytest in c:\\users\\sudheer\\anaconda3\\lib\\site-packages (from pyLDAvis) (5.3.4)\n",
      "Requirement already satisfied: future in c:\\users\\sudheer\\anaconda3\\lib\\site-packages (from pyLDAvis) (0.18.2)\n",
      "Requirement already satisfied: numexpr in c:\\users\\sudheer\\anaconda3\\lib\\site-packages (from pyLDAvis) (2.7.0)\n",
      "Requirement already satisfied: numpy>=1.9.2 in c:\\users\\sudheer\\anaconda3\\lib\\site-packages (from pyLDAvis) (1.18.1)\n",
      "Requirement already satisfied: MarkupSafe>=0.23 in c:\\users\\sudheer\\anaconda3\\lib\\site-packages (from jinja2>=2.7.2->pyLDAvis) (1.1.1)\n",
      "Requirement already satisfied: pytz>=2017.2 in c:\\users\\sudheer\\anaconda3\\lib\\site-packages (from pandas>=0.17.0->pyLDAvis) (2019.3)\n",
      "Requirement already satisfied: python-dateutil>=2.6.1 in c:\\users\\sudheer\\anaconda3\\lib\\site-packages (from pandas>=0.17.0->pyLDAvis) (2.8.1)\n",
      "Requirement already satisfied: py>=1.5.0 in c:\\users\\sudheer\\anaconda3\\lib\\site-packages (from pytest->pyLDAvis) (1.8.1)\n",
      "Requirement already satisfied: packaging in c:\\users\\sudheer\\anaconda3\\lib\\site-packages (from pytest->pyLDAvis) (20.1)\n",
      "Requirement already satisfied: attrs>=17.4.0 in c:\\users\\sudheer\\anaconda3\\lib\\site-packages (from pytest->pyLDAvis) (19.3.0)\n",
      "Requirement already satisfied: more-itertools>=4.0.0 in c:\\users\\sudheer\\anaconda3\\lib\\site-packages (from pytest->pyLDAvis) (8.0.2)\n",
      "Requirement already satisfied: pluggy<1.0,>=0.12 in c:\\users\\sudheer\\anaconda3\\lib\\site-packages (from pytest->pyLDAvis) (0.13.1)\n",
      "Requirement already satisfied: wcwidth in c:\\users\\sudheer\\anaconda3\\lib\\site-packages (from pytest->pyLDAvis) (0.1.7)\n",
      "Requirement already satisfied: importlib-metadata>=0.12 in c:\\users\\sudheer\\anaconda3\\lib\\site-packages (from pytest->pyLDAvis) (1.4.0)\n",
      "Requirement already satisfied: atomicwrites>=1.0 in c:\\users\\sudheer\\anaconda3\\lib\\site-packages (from pytest->pyLDAvis) (1.3.0)\n",
      "Requirement already satisfied: colorama in c:\\users\\sudheer\\anaconda3\\lib\\site-packages (from pytest->pyLDAvis) (0.4.3)\n",
      "Requirement already satisfied: six>=1.5 in c:\\users\\sudheer\\anaconda3\\lib\\site-packages (from python-dateutil>=2.6.1->pandas>=0.17.0->pyLDAvis) (1.14.0)\n",
      "Requirement already satisfied: pyparsing>=2.0.2 in c:\\users\\sudheer\\anaconda3\\lib\\site-packages (from packaging->pytest->pyLDAvis) (2.4.6)\n",
      "Requirement already satisfied: zipp>=0.5 in c:\\users\\sudheer\\anaconda3\\lib\\site-packages (from importlib-metadata>=0.12->pytest->pyLDAvis) (0.6.0)\n"
     ]
    }
   ],
   "source": [
    "!pip install pyLDAvis"
   ]
  },
  {
   "cell_type": "code",
   "execution_count": 2,
   "metadata": {
    "_cell_guid": "b1076dfc-b9ad-4769-8c92-a6c4dae69d19",
    "_uuid": "8f2839f25d086af736a60e9eeb907d3b93b6e0e5"
   },
   "outputs": [],
   "source": [
    "# import packages\n",
    "import numpy as np\n",
    "import pandas as pd\n",
    "\n",
    "import matplotlib.pyplot as plt\n",
    "import seaborn as sns\n",
    "\n",
    "import spacy\n",
    "import nltk\n",
    "import re\n",
    "\n",
    "from gensim import corpora, models, similarities\n",
    "import pyLDAvis.gensim\n",
    "\n",
    "from sklearn.feature_extraction.text import TfidfVectorizer\n",
    "from sklearn.model_selection import train_test_split\n",
    "from sklearn.metrics import f1_score\n",
    "from sklearn.metrics import classification_report\n",
    "from sklearn.metrics import confusion_matrix\n",
    "\n",
    "np.random.seed(27)"
   ]
  },
  {
   "cell_type": "code",
   "execution_count": 3,
   "metadata": {
    "_uuid": "cad72c35f00a7fd19af1f893f3f07de30d1ab665"
   },
   "outputs": [],
   "source": [
    "# setting up default plotting parameters\n",
    "%matplotlib inline\n",
    "\n",
    "plt.rcParams['figure.figsize'] = [15.0, 7.0]\n",
    "plt.rcParams.update({'font.size': 22,})\n",
    "\n",
    "sns.set_palette('Set2')\n",
    "sns.set_style('white')\n",
    "sns.set_context('talk', font_scale=0.8)"
   ]
  },
  {
   "cell_type": "code",
   "execution_count": 4,
   "metadata": {
    "_cell_guid": "79c7e3d0-c299-4dcb-8224-4455121ee9b0",
    "_uuid": "d629ff2d2480ee46fbb7e2d37f6b5fab8052498a"
   },
   "outputs": [],
   "source": [
    "# suppress warnings\n",
    "import warnings\n",
    "warnings.filterwarnings('ignore')"
   ]
  },
  {
   "cell_type": "code",
   "execution_count": 5,
   "metadata": {
    "_uuid": "a9a8e39c484e93a93b42718a82247ee3903b4898"
   },
   "outputs": [
    {
     "data": {
      "text/html": [
       "<div>\n",
       "<style scoped>\n",
       "    .dataframe tbody tr th:only-of-type {\n",
       "        vertical-align: middle;\n",
       "    }\n",
       "\n",
       "    .dataframe tbody tr th {\n",
       "        vertical-align: top;\n",
       "    }\n",
       "\n",
       "    .dataframe thead th {\n",
       "        text-align: right;\n",
       "    }\n",
       "</style>\n",
       "<table border=\"1\" class=\"dataframe\">\n",
       "  <thead>\n",
       "    <tr style=\"text-align: right;\">\n",
       "      <th></th>\n",
       "      <th>qid</th>\n",
       "      <th>question_text</th>\n",
       "      <th>target</th>\n",
       "    </tr>\n",
       "  </thead>\n",
       "  <tbody>\n",
       "    <tr>\n",
       "      <th>0</th>\n",
       "      <td>00002165364db923c7e6</td>\n",
       "      <td>How did Quebec nationalists see their province...</td>\n",
       "      <td>0</td>\n",
       "    </tr>\n",
       "    <tr>\n",
       "      <th>1</th>\n",
       "      <td>000032939017120e6e44</td>\n",
       "      <td>Do you have an adopted dog, how would you enco...</td>\n",
       "      <td>0</td>\n",
       "    </tr>\n",
       "    <tr>\n",
       "      <th>2</th>\n",
       "      <td>0000412ca6e4628ce2cf</td>\n",
       "      <td>Why does velocity affect time? Does velocity a...</td>\n",
       "      <td>0</td>\n",
       "    </tr>\n",
       "    <tr>\n",
       "      <th>3</th>\n",
       "      <td>000042bf85aa498cd78e</td>\n",
       "      <td>How did Otto von Guericke used the Magdeburg h...</td>\n",
       "      <td>0</td>\n",
       "    </tr>\n",
       "    <tr>\n",
       "      <th>4</th>\n",
       "      <td>0000455dfa3e01eae3af</td>\n",
       "      <td>Can I convert montra helicon D to a mountain b...</td>\n",
       "      <td>0</td>\n",
       "    </tr>\n",
       "  </tbody>\n",
       "</table>\n",
       "</div>"
      ],
      "text/plain": [
       "                    qid                                      question_text  \\\n",
       "0  00002165364db923c7e6  How did Quebec nationalists see their province...   \n",
       "1  000032939017120e6e44  Do you have an adopted dog, how would you enco...   \n",
       "2  0000412ca6e4628ce2cf  Why does velocity affect time? Does velocity a...   \n",
       "3  000042bf85aa498cd78e  How did Otto von Guericke used the Magdeburg h...   \n",
       "4  0000455dfa3e01eae3af  Can I convert montra helicon D to a mountain b...   \n",
       "\n",
       "   target  \n",
       "0       0  \n",
       "1       0  \n",
       "2       0  \n",
       "3       0  \n",
       "4       0  "
      ]
     },
     "execution_count": 5,
     "metadata": {},
     "output_type": "execute_result"
    }
   ],
   "source": [
    "train = pd.read_csv('../SUDHEER/train.csv')\n",
    "test = pd.read_csv('../SUDHEER/test.csv')\n",
    "train.head()"
   ]
  },
  {
   "cell_type": "code",
   "execution_count": 6,
   "metadata": {
    "_uuid": "4a61184af866d976ed9f5950069a9a532d1014e7"
   },
   "outputs": [],
   "source": [
    "contractions = {\n",
    "\"ain't\": \"is not\",\n",
    "\"aren't\": \"are not\",\n",
    "\"can't\": \"cannot\",\n",
    "\"can't've\": \"cannot have\",\n",
    "\"'cause\": \"because\",\n",
    "\"could've\": \"could have\",\n",
    "\"couldn't\": \"could not\",\n",
    "\"couldn't've\": \"could not have\",\n",
    "\"didn't\": \"did not\",\n",
    "\"doesn't\": \"does not\",\n",
    "\"don't\": \"do not\",\n",
    "\"hadn't\": \"had not\",\n",
    "\"hadn't've\": \"had not have\",\n",
    "\"hasn't\": \"has not\",\n",
    "\"haven't\": \"have not\",\n",
    "\"he'd\": \"he would\",\n",
    "\"he'd've\": \"he would have\",\n",
    "\"he'll\": \"he will\",\n",
    "\"he'll've\": \"he he will have\",\n",
    "\"he's\": \"he is\",\n",
    "\"how'd\": \"how did\",\n",
    "\"how'd'y\": \"how do you\",\n",
    "\"how'll\": \"how will\",\n",
    "\"how's\": \"how is\",\n",
    "\"I'd\": \"I would\",\n",
    "\"I'd've\": \"I would have\",\n",
    "\"I'll\": \"I will\",\n",
    "\"I'll've\": \"I will have\",\n",
    "\"I'm\": \"I am\",\n",
    "\"I've\": \"I have\",\n",
    "\"i'd\": \"i would\",\n",
    "\"i'd've\": \"i would have\",\n",
    "\"i'll\": \"i will\",\n",
    "\"i'll've\": \"i will have\",\n",
    "\"i'm\": \"i am\",\n",
    "\"i've\": \"i have\",\n",
    "\"isn't\": \"is not\",\n",
    "\"it'd\": \"it would\",\n",
    "\"it'd've\": \"it would have\",\n",
    "\"it'll\": \"it will\",\n",
    "\"it'll've\": \"it will have\",\n",
    "\"it's\": \"it is\",\n",
    "\"let's\": \"let us\",\n",
    "\"ma'am\": \"madam\",\n",
    "\"mayn't\": \"may not\",\n",
    "\"might've\": \"might have\",\n",
    "\"mightn't\": \"might not\",\n",
    "\"mightn't've\": \"might not have\",\n",
    "\"must've\": \"must have\",\n",
    "\"mustn't\": \"must not\",\n",
    "\"mustn't've\": \"must not have\",\n",
    "\"needn't\": \"need not\",\n",
    "\"needn't've\": \"need not have\",\n",
    "\"o'clock\": \"of the clock\",\n",
    "\"oughtn't\": \"ought not\",\n",
    "\"oughtn't've\": \"ought not have\",\n",
    "\"shan't\": \"shall not\",\n",
    "\"sha'n't\": \"shall not\",\n",
    "\"shan't've\": \"shall not have\",\n",
    "\"she'd\": \"she would\",\n",
    "\"she'd've\": \"she would have\",\n",
    "\"she'll\": \"she will\",\n",
    "\"she'll've\": \"she will have\",\n",
    "\"she's\": \"she is\",\n",
    "\"should've\": \"should have\",\n",
    "\"shouldn't\": \"should not\",\n",
    "\"shouldn't've\": \"should not have\",\n",
    "\"so've\": \"so have\",\n",
    "\"so's\": \"so as\",\n",
    "\"that'd\": \"that would\",\n",
    "\"that'd've\": \"that would have\",\n",
    "\"that's\": \"that is\",\n",
    "\"there'd\": \"there would\",\n",
    "\"there'd've\": \"there would have\",\n",
    "\"there's\": \"there is\",\n",
    "\"they'd\": \"they would\",\n",
    "\"they'd've\": \"they would have\",\n",
    "\"they'll\": \"they will\",\n",
    "\"they'll've\": \"they will have\",\n",
    "\"they're\": \"they are\",\n",
    "\"they've\": \"they have\",\n",
    "\"to've\": \"to have\",\n",
    "\"wasn't\": \"was not\",\n",
    "\"we'd\": \"we would\",\n",
    "\"we'd've\": \"we would have\",\n",
    "\"we'll\": \"we will\",\n",
    "\"we'll've\": \"we will have\",\n",
    "\"we're\": \"we are\",\n",
    "\"we've\": \"we have\",\n",
    "\"weren't\": \"were not\",\n",
    "\"what'll\": \"what will\",\n",
    "\"what'll've\": \"what will have\",\n",
    "\"what're\": \"what are\",\n",
    "\"what's\": \"what is\",\n",
    "\"what've\": \"what have\",\n",
    "\"when's\": \"when is\",\n",
    "\"when've\": \"when have\",\n",
    "\"where'd\": \"where did\",\n",
    "\"where's\": \"where is\",\n",
    "\"where've\": \"where have\",\n",
    "\"who'll\": \"who will\",\n",
    "\"who'll've\": \"who will have\",\n",
    "\"who's\": \"who is\",\n",
    "\"who've\": \"who have\",\n",
    "\"why's\": \"why is\",\n",
    "\"why've\": \"why have\",\n",
    "\"will've\": \"will have\",\n",
    "\"won't\": \"will not\",\n",
    "\"won't've\": \"will not have\",\n",
    "\"would've\": \"would have\",\n",
    "\"wouldn't\": \"would not\",\n",
    "\"wouldn't've\": \"would not have\",\n",
    "\"y'all\": \"you all\",\n",
    "\"y'all'd\": \"you all would\",\n",
    "\"y'all'd've\": \"you all would have\",\n",
    "\"y'all're\": \"you all are\",\n",
    "\"y'all've\": \"you all have\",\n",
    "\"you'd\": \"you would\",\n",
    "\"you'd've\": \"you would have\",\n",
    "\"you'll\": \"you will\",\n",
    "\"you'll've\": \"you will have\",\n",
    "\"you're\": \"you are\",\n",
    "\"you've\": \"you have\"\n",
    "}\n",
    "\n",
    "c_re = re.compile('(%s)' % '|'.join(contractions.keys()))\n",
    "\n",
    "def expandContractions(text, c_re=c_re):\n",
    "    def replace(match):\n",
    "        return contractions[match.group(0)]\n",
    "    return c_re.sub(replace, text)"
   ]
  },
  {
   "cell_type": "code",
   "execution_count": 7,
   "metadata": {
    "_uuid": "05eddc246d57b9083e660f5bc871ac4dfc24d8db"
   },
   "outputs": [
    {
     "data": {
      "text/plain": [
       "['download_microsoft', 'word', 'window', 'hungarian']"
      ]
     },
     "execution_count": 7,
     "metadata": {},
     "output_type": "execute_result"
    }
   ],
   "source": [
    "from gensim.parsing.preprocessing import preprocess_string\n",
    "from gensim.parsing.preprocessing import strip_tags, strip_punctuation, strip_numeric, stem_text\n",
    "from gensim.parsing.preprocessing import strip_multiple_whitespaces, strip_non_alphanum, remove_stopwords, strip_short\n",
    "\n",
    "CUSTOM_FILTERS = [lambda x: x.lower(), #lowercase\n",
    "                  strip_tags, # remove html tags\n",
    "                  strip_punctuation, # replace punctuation with space\n",
    "                  strip_multiple_whitespaces,# remove repeating whitespaces\n",
    "                  strip_non_alphanum, # remove non-alphanumeric characters\n",
    "                  strip_numeric, # remove numbers\n",
    "                  remove_stopwords,# remove stopwords\n",
    "                  strip_short, # remove words less than minsize=3 characters long\n",
    "                  stem_text,\n",
    "                 ]\n",
    "def gensim_preprocess(docs):\n",
    "    # clean text\n",
    "    docs = [expandContractions(doc) for doc in docs]\n",
    "    docs = [preprocess_string(text, CUSTOM_FILTERS) for text in docs]\n",
    "    # create the bigram and trigram models\n",
    "    bigram = models.Phrases(docs, min_count=1, threshold=1)\n",
    "    trigram = models.Phrases(bigram[docs], min_count=1, threshold=1)  \n",
    "    # phraser is faster\n",
    "    bigram_mod = models.phrases.Phraser(bigram)\n",
    "    trigram_mod = models.phrases.Phraser(trigram)\n",
    "    # apply to docs\n",
    "    docs = trigram_mod[bigram_mod[docs]]\n",
    "    #docs = [' '.join(text) for text in docs]\n",
    "    return docs\n",
    "\n",
    "train_clean = gensim_preprocess(train.question_text)\n",
    "train_clean[43]"
   ]
  },
  {
   "cell_type": "code",
   "execution_count": 8,
   "metadata": {
    "_uuid": "be23d2a586d30420c3919959e02b37b5d908fc10"
   },
   "outputs": [],
   "source": [
    "# Create Dictionary from our ngram texts containing number of times token appears in training set\n",
    "train_dictionary = corpora.Dictionary(train_clean)\n",
    "\n",
    "# filter out extremes\n",
    "train_dictionary.filter_extremes(no_below=0.1, # filter tokens appearing in <1% of documents\n",
    "                                     no_above=0.7, # filter tokens appearing in >70% of documents\n",
    "                                     keep_n=100000) # after above filters keep only the 100000 most frequent tokens\n",
    "\n",
    "# For each document create dictionary with how many words and number of times the words appear\n",
    "train_corpus = [train_dictionary.doc2bow(text) for text in train_clean]"
   ]
  },
  {
   "cell_type": "code",
   "execution_count": 9,
   "metadata": {
    "_uuid": "e01dd3c9b5c6ed526bb8832abaf992e50f3b6845"
   },
   "outputs": [
    {
     "data": {
      "text/plain": [
       "[[('nation', 1), ('provinc', 1)]]"
      ]
     },
     "execution_count": 9,
     "metadata": {},
     "output_type": "execute_result"
    }
   ],
   "source": [
    "# view human readable output\n",
    "[[(train_dictionary[id], freq) for id, freq in cp] for cp in train_corpus[:1]]"
   ]
  },
  {
   "cell_type": "code",
   "execution_count": 10,
   "metadata": {
    "_uuid": "772ae9dfa7618aca79cb33cf91de326f468ff22b"
   },
   "outputs": [],
   "source": [
    "# initialize tfidf model\n",
    "tfidfi = models.TfidfModel(train_corpus)\n",
    "# apply transformation to entire corpus\n",
    "train_tfidf = tfidfi[train_corpus]"
   ]
  },
  {
   "cell_type": "code",
   "execution_count": 11,
   "metadata": {
    "_uuid": "d74fd6010e877a54dfbcecd7d8bbf115852ef930"
   },
   "outputs": [
    {
     "name": "stdout",
     "output_type": "stream",
     "text": [
      "Wall time: 6min 33s\n"
     ]
    }
   ],
   "source": [
    "# https://radimrehurek.com/gensim/tut2.html#transformation-interface\n",
    "# LDA on tfidf\n",
    "%time train_lda = models.LdaMulticore(train_tfidf, num_topics=10, id2word=train_dictionary, passes=2, workers=6)"
   ]
  },
  {
   "cell_type": "code",
   "execution_count": 12,
   "metadata": {
    "_uuid": "3bc8840999350b1f9554fb494bfe4a8a550bffac"
   },
   "outputs": [
    {
     "data": {
      "text/plain": [
       "[(0,\n",
       "  '0.017*\"best\" + 0.015*\"best_wai\" + 0.010*\"peopl\" + 0.008*\"women\" + 0.008*\"human\" + 0.008*\"onlin\" + 0.008*\"colleg\" + 0.007*\"month\" + 0.006*\"design\" + 0.006*\"market\"'),\n",
       " (1,\n",
       "  '0.014*\"import\" + 0.012*\"exampl\" + 0.010*\"us\" + 0.007*\"movi\" + 0.007*\"histori\" + 0.007*\"number\" + 0.007*\"school\" + 0.006*\"websit\" + 0.006*\"valu\" + 0.006*\"possibl\"'),\n",
       " (2,\n",
       "  '0.020*\"differ\" + 0.014*\"quora\" + 0.010*\"known\" + 0.009*\"engin\" + 0.009*\"univers\" + 0.008*\"world\" + 0.007*\"class\" + 0.006*\"product\" + 0.006*\"experi\" + 0.006*\"futur\"'),\n",
       " (3,\n",
       "  '0.015*\"like\" + 0.012*\"work\" + 0.010*\"know\" + 0.010*\"monei\" + 0.008*\"china\" + 0.008*\"busi\" + 0.008*\"relationship\" + 0.008*\"form\" + 0.007*\"person\" + 0.007*\"free\"'),\n",
       " (4,\n",
       "  '0.009*\"learn\" + 0.009*\"develop\" + 0.008*\"book\" + 0.008*\"girl\" + 0.007*\"year_old\" + 0.007*\"prepar\" + 0.007*\"sex\" + 0.006*\"cost\" + 0.006*\"exist\" + 0.006*\"app\"'),\n",
       " (5,\n",
       "  '0.009*\"time\" + 0.008*\"caus\" + 0.008*\"dai\" + 0.007*\"benefit\" + 0.007*\"anim\" + 0.007*\"bad\" + 0.006*\"languag\" + 0.006*\"home\" + 0.006*\"advantag\" + 0.005*\"real\"'),\n",
       " (6,\n",
       "  '0.007*\"ag\" + 0.007*\"look_like\" + 0.006*\"parent\" + 0.006*\"start\" + 0.005*\"stori\" + 0.005*\"problem\" + 0.005*\"bui\" + 0.005*\"reason\" + 0.005*\"natur\" + 0.005*\"determin\"'),\n",
       " (7,\n",
       "  '0.021*\"mean\" + 0.010*\"think\" + 0.008*\"year\" + 0.007*\"function\" + 0.007*\"opinion\" + 0.006*\"effect\" + 0.006*\"live\" + 0.006*\"thing\" + 0.006*\"plai\" + 0.006*\"read\"'),\n",
       " (8,\n",
       "  '0.010*\"happen\" + 0.007*\"better\" + 0.006*\"write\" + 0.005*\"pakistan\" + 0.005*\"follow\" + 0.005*\"feel_like\" + 0.005*\"woman\" + 0.004*\"state\" + 0.004*\"children\" + 0.004*\"religion\"'),\n",
       " (9,\n",
       "  '0.018*\"india\" + 0.012*\"good\" + 0.012*\"life\" + 0.010*\"love\" + 0.007*\"student\" + 0.007*\"friend\" + 0.007*\"studi\" + 0.007*\"countri\" + 0.006*\"question\" + 0.006*\"word\"')]"
      ]
     },
     "execution_count": 12,
     "metadata": {},
     "output_type": "execute_result"
    }
   ],
   "source": [
    "train_lda.show_topics()"
   ]
  },
  {
   "cell_type": "code",
   "execution_count": 13,
   "metadata": {
    "_uuid": "9803c1cce6d9319a5179ba96eb5fd2c46f3e42f1"
   },
   "outputs": [
    {
     "data": {
      "text/html": [
       "\n",
       "<link rel=\"stylesheet\" type=\"text/css\" href=\"https://cdn.rawgit.com/bmabey/pyLDAvis/files/ldavis.v1.0.0.css\">\n",
       "\n",
       "\n",
       "<div id=\"ldavis_el1443618000689513684040099725\"></div>\n",
       "<script type=\"text/javascript\">\n",
       "\n",
       "var ldavis_el1443618000689513684040099725_data = {\"mdsDat\": {\"x\": [0.001558062704052807, 0.012996853777055919, -0.12125638172149127, 0.33150224531333783, -0.016158371932341126, 0.020220430748973985, 0.06353312519897235, -0.16776085456039894, -0.07335371232548797, -0.051281397202673606], \"y\": [0.018048618836795573, -0.08542340099480225, 0.026848026221277434, -0.09871562756375347, 0.033113531413501644, -0.12453910860552748, 0.34037835154816665, -0.11411032591855523, 0.019370643435582674, -0.014970708372685538], \"topics\": [1, 2, 3, 4, 5, 6, 7, 8, 9, 10], \"cluster\": [1, 1, 1, 1, 1, 1, 1, 1, 1, 1], \"Freq\": [10.815603256225586, 10.238897323608398, 10.032554626464844, 9.96550178527832, 9.914048194885254, 9.89765453338623, 9.893970489501953, 9.859880447387695, 9.849759101867676, 9.532133102416992]}, \"tinfo\": {\"Term\": [\"best_wai\", \"import\", \"quora\", \"exampl\", \"mean\", \"love\", \"differ\", \"known\", \"monei\", \"engin\", \"develop\", \"life\", \"learn\", \"human\", \"relationship\", \"busi\", \"china\", \"women\", \"onlin\", \"univers\", \"colleg\", \"form\", \"benefit\", \"movi\", \"india\", \"caus\", \"histori\", \"book\", \"ag\", \"best\", \"english\", \"signific\", \"date\", \"treat\", \"achiev\", \"differ_type\", \"video\", \"doctor\", \"check\", \"israel\", \"card\", \"condit\", \"factor\", \"california\", \"modi\", \"brand\", \"kolkata\", \"hair\", \"peopl_like\", \"russian\", \"canada\", \"german\", \"artist\", \"address\", \"head\", \"mexico\", \"civil_engin\", \"cast\", \"part\", \"world_war\", \"answer\", \"activ\", \"bank\", \"difficult\", \"film\", \"prevent\", \"love\", \"featur\", \"sign\", \"knowledg\", \"situat\", \"great\", \"respons\", \"organ\", \"word\", \"store\", \"question\", \"student\", \"life\", \"studi\", \"nation\", \"friend\", \"improv\", \"india\", \"good\", \"offic\", \"creat\", \"countri\", \"compani\", \"feel\", \"help\", \"websit\", \"valu\", \"scienc\", \"kid\", \"food\", \"meant\", \"best_book\", \"review\", \"movi\", \"subject\", \"night\", \"child\", \"success\", \"defin\", \"exampl\", \"pune\", \"air\", \"pain\", \"laptop\", \"north_korea\", \"percentag\", \"islam\", \"window\", \"light\", \"fail\", \"bangalor\", \"cell\", \"concept\", \"paid\", \"instagram\", \"import\", \"histori\", \"number\", \"law\", \"method\", \"brain\", \"special\", \"mother\", \"event\", \"hour\", \"game\", \"school\", \"russia\", \"power\", \"us\", \"practic\", \"usa\", \"indian\", \"job\", \"possibl\", \"wai\", \"america\", \"advantag\", \"dog\", \"benefit\", \"anim\", \"languag\", \"technolog\", \"phone\", \"japan\", \"music\", \"cat\", \"delhi\", \"space\", \"iphon\", \"name\", \"teenag\", \"mechan_engin\", \"plant\", \"narcissist\", \"produc\", \"procedur\", \"structur\", \"invest\", \"salari\", \"water\", \"download\", \"sentenc\", \"color\", \"art\", \"marri\", \"late\", \"real\", \"boi\", \"theori\", \"sound\", \"impact\", \"add\", \"cut\", \"caus\", \"applic\", \"bad\", \"home\", \"charg\", \"dai\", \"car\", \"time\", \"type\", \"want\", \"make\", \"known\", \"engin\", \"characterist\", \"famou\", \"exam\", \"favorit\", \"die\", \"serv\", \"facebook\", \"code\", \"avail\", \"youtub\", \"intellig\", \"mobil\", \"easi\", \"programm\", \"institut\", \"planet\", \"strategi\", \"favourit\", \"cheat\", \"sport\", \"smart\", \"question_ask\", \"bitcoin\", \"bore\", \"earn_monei\", \"dead\", \"goal\", \"separ\", \"quora\", \"account\", \"class\", \"cours\", \"origin\", \"old\", \"secur\", \"japanes\", \"ey\", \"master\", \"degre\", \"charact\", \"servic\", \"product\", \"physic\", \"univers\", \"futur\", \"differ\", \"experi\", \"world\", \"common\", \"similar\", \"role\", \"todai\", \"long\", \"australia\", \"war\", \"rate\", \"mark\", \"donald_trump\", \"internet\", \"safe\", \"measur\", \"danger\", \"good_bad_neighborhood\", \"father\", \"treatment\", \"attract\", \"babi\", \"hack\", \"disadvantag\", \"electr\", \"startup\", \"foreign\", \"relationship\", \"cool\", \"train\", \"hindi\", \"chemistri\", \"economi\", \"dubai\", \"style\", \"gun\", \"bibl\", \"comment\", \"busi\", \"monei\", \"form\", \"partner\", \"polit\", \"electron\", \"social\", \"free\", \"replac\", \"commun\", \"china\", \"materi\", \"skill\", \"purpos\", \"plan\", \"point\", \"work\", \"like\", \"know\", \"person\", \"fix\", \"american\", \"tell\", \"app\", \"popular\", \"sex\", \"gai\", \"prepar\", \"travel\", \"site\", \"score\", \"hyderabad\", \"math\", \"advic_move\", \"rank\", \"establish\", \"motiv\", \"definit\", \"scope\", \"actor\", \"biggest\", \"hurt\", \"miss\", \"java\", \"best_friend\", \"star\", \"masturb\", \"popul\", \"machin\", \"weight\", \"arab\", \"diseas\", \"turkei\", \"cost\", \"increas\", \"process\", \"death\", \"solut\", \"okai\", \"develop\", \"equal\", \"marriag\", \"presid\", \"taken\", \"year_old\", \"learn\", \"care\", \"unit_state\", \"book\", \"research\", \"girl\", \"exist\", \"choos\", \"hous\", \"program\", \"view\", \"kill\", \"colleg\", \"pro_con\", \"worth\", \"step\", \"best_wai\", \"best_place\", \"manufactur\", \"teach\", \"societi\", \"trust\", \"rich\", \"neet\", \"certif\", \"econom\", \"london\", \"grade\", \"like_live\", \"pet\", \"brother\", \"coach\", \"blood\", \"critic\", \"beat\", \"politician\", \"video_game\", \"germani\", \"novel\", \"memori\", \"graduat\", \"new_zealand\", \"design\", \"onlin\", \"correct\", \"second\", \"challeng\", \"limit\", \"test\", \"human\", \"market\", \"interview\", \"remov\", \"di\", \"advic\", \"women\", \"big\", \"expens\", \"cultur\", \"month\", \"men\", \"famili\", \"best\", \"run\", \"govern\", \"peopl\", \"relat\", \"chang\", \"present\", \"need\", \"function\", \"hard\", \"eat\", \"major_accomplish\", \"tip\", \"invent\", \"happi\", \"calcul\", \"win\", \"social_media\", \"main\", \"visit\", \"discov\", \"exactli\", \"muslim\", \"convert\", \"mba\", \"custom\", \"opinion\", \"beauti\", \"nigeria\", \"mind\", \"amazon\", \"philippin\", \"employe\", \"writer\", \"reduc\", \"accomplish\", \"fake\", \"busi_travel\", \"com\", \"hate\", \"high_school\", \"rid\", \"price\", \"paper\", \"plai\", \"interest\", \"expect\", \"fight\", \"model\", \"perform\", \"europ\", \"qualiti\", \"read\", \"mean\", \"citi\", \"think\", \"live\", \"stop\", \"year\", \"effect\", \"thing\", \"wrong\", \"come\", \"pakistan\", \"feel_like\", \"sleep\", \"girlfriend\", \"song\", \"fast\", \"religion\", \"softwar\", \"googl\", \"solv\", \"peopl_think\", \"chennai\", \"network\", \"stand\", \"woman\", \"good_idea\", \"energi\", \"worst\", \"pregnant\", \"celebr\", \"black\", \"wife\", \"drive\", \"prove\", \"best_thing\", \"altern\", \"occur\", \"reaction\", \"unit\", \"iit\", \"career\", \"grow\", \"period\", \"liber\", \"wear\", \"team\", \"handl\", \"let\", \"group\", \"week\", \"follow\", \"male\", \"share\", \"children\", \"write\", \"deal\", \"happen\", \"better\", \"state\", \"end\", \"right\", \"mumbai\", \"dream\", \"depress\", \"watch\", \"god\", \"industri\", \"us_tip_start_work\", \"boyfriend\", \"teacher\", \"natur\", \"singapor\", \"psycholog\", \"properti\", \"moment\", \"integr\", \"determin\", \"android\", \"seri\", \"profit\", \"skin\", \"like_work\", \"crush\", \"advantag_disadvantag\", \"french\", \"stock\", \"symbol\", \"cryptocurr\", \"clean\", \"emot\", \"mathemat\", \"look_like\", \"earth\", \"ag\", \"parent\", \"educ\", \"earn\", \"parti\", \"techniqu\", \"stori\", \"heard\", \"explain\", \"influenc\", \"chines\", \"bui\", \"problem\", \"connect\", \"reason\", \"start\", \"man\", \"gener\"], \"Freq\": [5264.0, 5352.0, 5105.0, 4554.0, 12080.0, 3914.0, 13725.0, 3489.0, 3456.0, 3356.0, 3293.0, 6401.0, 3536.0, 3055.0, 2906.0, 2951.0, 3234.0, 3153.0, 2817.0, 3346.0, 2704.0, 2775.0, 2701.0, 2725.0, 13525.0, 3088.0, 2610.0, 3588.0, 2489.0, 12924.0, 2021.6666259765625, 1436.4827880859375, 1982.5316162109375, 1635.8575439453125, 1241.5224609375, 1202.9556884765625, 1283.1649169921875, 1465.505615234375, 1203.50927734375, 1145.2489013671875, 935.9073486328125, 956.738037109375, 862.1619262695312, 925.6213989257812, 832.8233642578125, 836.3903198242188, 785.2001953125, 812.651123046875, 940.3253173828125, 909.5510864257812, 2265.081298828125, 1053.157470703125, 711.7421264648438, 782.601318359375, 1139.461669921875, 671.652099609375, 731.9662475585938, 679.0479125976562, 681.556884765625, 652.7742919921875, 2230.024658203125, 1685.366455078125, 1325.271484375, 1454.338623046875, 1007.506591796875, 1582.57861328125, 3846.20263671875, 1011.1585693359375, 1430.7528076171875, 1017.6392822265625, 1034.760986328125, 1624.604736328125, 1195.4434814453125, 1521.4219970703125, 2299.971923828125, 1115.7366943359375, 2333.637451171875, 2808.613037109375, 4664.00439453125, 2726.797119140625, 1486.0592041015625, 2741.884521484375, 1815.3165283203125, 6839.7470703125, 4708.80419921875, 1371.942626953125, 1948.5872802734375, 2603.254638671875, 2046.83056640625, 2205.359130859375, 1496.018310546875, 2270.111083984375, 2235.834716796875, 2129.786865234375, 1756.19482421875, 1701.9486083984375, 1330.422119140625, 1277.9246826171875, 1334.7120361328125, 2720.538818359375, 1221.6260986328125, 1222.3687744140625, 1564.87158203125, 2075.495849609375, 1050.73046875, 4544.6357421875, 1007.8425903320312, 909.1724243164062, 917.2576293945312, 890.283203125, 878.6390991210938, 882.8931274414062, 1186.2333984375, 916.626953125, 1178.0535888671875, 1116.7279052734375, 1613.2049560546875, 774.1279907226562, 918.8367309570312, 885.3541259765625, 769.7010498046875, 5305.64501953125, 2602.815185546875, 2472.204833984375, 1717.5716552734375, 1220.4747314453125, 1053.543212890625, 1276.2098388671875, 1179.5823974609375, 939.6734008789062, 1255.98583984375, 1814.781005859375, 2402.155029296875, 1286.744873046875, 1937.127197265625, 3813.1884765625, 1351.362548828125, 1736.594970703125, 2020.426025390625, 2002.582275390625, 2197.90087890625, 1759.10400390625, 1310.3929443359375, 2034.5291748046875, 1852.2601318359375, 2698.330810546875, 2462.8232421875, 2128.34814453125, 1584.5128173828125, 1754.4093017578125, 1389.2066650390625, 1460.8570556640625, 1447.6722412109375, 1650.8319091796875, 1307.0537109375, 1163.051513671875, 1189.318115234375, 1020.6784057617188, 1020.1275634765625, 1040.3001708984375, 970.83447265625, 1246.624267578125, 960.3679809570312, 1052.308349609375, 1421.43603515625, 926.4423217773438, 1863.0172119140625, 950.1791381835938, 835.7587890625, 899.6848754882812, 841.3546752929688, 1167.7296142578125, 819.9065551757812, 1953.3001708984375, 1251.7025146484375, 1073.2667236328125, 1017.3773193359375, 1124.5699462890625, 1045.9266357421875, 1073.271484375, 2755.063232421875, 1637.3680419921875, 2353.7587890625, 2052.23291015625, 1194.157470703125, 2730.22802734375, 1473.70751953125, 3341.652587890625, 1325.7052001953125, 1470.7113037109375, 1242.27734375, 3486.79638671875, 3352.8896484375, 1918.7779541015625, 1891.177001953125, 2020.1495361328125, 1912.8414306640625, 1563.7735595703125, 1346.815185546875, 1474.7310791015625, 1316.6490478515625, 1186.4117431640625, 1221.3251953125, 1045.4842529296875, 879.2174682617188, 1088.5128173828125, 831.368408203125, 753.7532348632812, 812.1665649414062, 808.4183349609375, 739.0702514648438, 728.5357055664062, 739.2848510742188, 767.386474609375, 669.0556030273438, 702.5631103515625, 666.4891357421875, 664.6588134765625, 700.1542358398438, 716.5389404296875, 748.3300170898438, 5036.86474609375, 2167.06787109375, 2468.580810546875, 1997.786376953125, 2108.136962890625, 1855.771240234375, 1021.7684326171875, 972.687255859375, 1062.16796875, 853.1381225585938, 1354.0284423828125, 1277.03271484375, 1758.2669677734375, 2327.66357421875, 1607.42529296875, 3066.33642578125, 2262.24560546875, 7311.787109375, 2277.327880859375, 3043.223388671875, 1549.9287109375, 1496.7418212890625, 1446.473388671875, 1654.1295166015625, 1703.9185791015625, 1696.5364990234375, 1609.041015625, 1530.6278076171875, 1237.4984130859375, 1964.612060546875, 1220.8726806640625, 1953.3917236328125, 1078.4039306640625, 1389.45556640625, 989.049072265625, 1035.2196044921875, 1004.9081420898438, 1300.66162109375, 1125.8076171875, 871.4840698242188, 865.6112060546875, 919.80615234375, 932.6595458984375, 913.9325561523438, 2898.1708984375, 832.8071899414062, 1665.0322265625, 737.010986328125, 720.9976196289062, 712.2821044921875, 768.2385864257812, 723.8259887695312, 790.4921875, 673.128662109375, 755.8103637695312, 2923.515869140625, 3414.72705078125, 2745.843505859375, 1036.3992919921875, 1414.98193359375, 872.20703125, 856.2326049804688, 2385.399658203125, 1127.52685546875, 1952.3865966796875, 2995.926513671875, 1079.8338623046875, 972.18017578125, 2373.54443359375, 1372.756591796875, 1588.5618896484375, 4377.95751953125, 5363.64306640625, 3544.686767578125, 2428.694580078125, 1133.42822265625, 1165.0501708984375, 1118.4615478515625, 2017.2120361328125, 1909.998046875, 2353.803955078125, 1223.673095703125, 2389.46484375, 1372.97216796875, 1508.919921875, 1167.893310546875, 1087.66943359375, 1323.4332275390625, 1037.492431640625, 1260.1795654296875, 1022.0294799804688, 1075.2135009765625, 915.5288696289062, 897.3765258789062, 831.5576782226562, 864.9124145507812, 1038.1746826171875, 866.5040893554688, 790.1604614257812, 778.2605590820312, 774.0296630859375, 738.000732421875, 823.5092163085938, 725.288330078125, 748.9014892578125, 700.905029296875, 691.63671875, 699.70654296875, 2128.994140625, 1486.255615234375, 1970.0648193359375, 1151.14599609375, 1289.3531494140625, 1174.3421630859375, 3237.895751953125, 912.448486328125, 1085.432861328125, 1328.37451171875, 892.0841064453125, 2434.656005859375, 3304.269287109375, 1376.204345703125, 1854.0379638671875, 2981.6259765625, 1155.1041259765625, 2741.376220703125, 2078.5283203125, 1591.21923828125, 1319.922607421875, 1468.2861328125, 1343.7255859375, 1311.52783203125, 2699.75439453125, 1289.2490234375, 1556.730712890625, 1158.28173828125, 5254.55224609375, 1160.34130859375, 1094.7508544921875, 1068.9434814453125, 1447.365234375, 891.7320556640625, 885.5053100585938, 820.725830078125, 793.4254760742188, 1069.3856201171875, 796.890380859375, 804.4405517578125, 726.572265625, 717.10888671875, 723.118408203125, 705.7496948242188, 708.6834106445312, 703.8672485351562, 742.5939331054688, 675.2095947265625, 648.8285522460938, 1536.4864501953125, 671.9246826171875, 673.3466796875, 1032.8341064453125, 623.9284057617188, 2251.544677734375, 2798.87890625, 1457.0885009765625, 963.2808837890625, 1252.329345703125, 1113.257568359375, 2064.649658203125, 3005.019287109375, 2213.3974609375, 1255.9921875, 1615.985595703125, 836.7703857421875, 954.3270263671875, 3014.30810546875, 1424.93798828125, 1131.896240234375, 1440.45654296875, 2356.88916015625, 2138.065673828125, 1622.665771484375, 5928.23095703125, 1362.43017578125, 1404.5162353515625, 3559.447021484375, 1601.5615234375, 1977.28759765625, 1205.8394775390625, 1670.946533203125, 2449.354736328125, 1961.36572265625, 1691.782470703125, 1549.370361328125, 1495.72607421875, 1355.263916015625, 1379.1468505859375, 1313.2125244140625, 1650.3287353515625, 1105.1927490234375, 1171.8184814453125, 1064.46435546875, 974.2777099609375, 1306.1103515625, 1935.2337646484375, 995.7882690429688, 934.232666015625, 909.331787109375, 2308.717041015625, 893.1334228515625, 828.1658325195312, 1193.98583984375, 854.9721069335938, 805.9638061523438, 826.3777465820312, 789.7594604492188, 878.1148071289062, 779.7590942382812, 815.4222412109375, 755.4337158203125, 1334.1490478515625, 1770.9486083984375, 1250.690185546875, 1078.11083984375, 1100.2060546875, 1083.1820068359375, 2027.832763671875, 1845.842529296875, 1745.498779296875, 1296.6192626953125, 1621.2835693359375, 1503.1278076171875, 1490.423095703125, 1029.219482421875, 1973.7681884765625, 7413.25390625, 1320.763916015625, 3723.460205078125, 2112.836669921875, 1903.5936279296875, 2812.42626953125, 2154.656005859375, 2097.790283203125, 1602.8936767578125, 1771.13916015625, 1928.867431640625, 1833.643310546875, 1381.6905517578125, 1329.423095703125, 1535.887939453125, 1369.23095703125, 1561.53662109375, 1182.8367919921875, 1436.17431640625, 1169.5032958984375, 1084.09326171875, 1011.5222778320312, 978.544189453125, 1160.0062255859375, 1663.262451171875, 1012.6510009765625, 930.540283203125, 971.707763671875, 885.2531127929688, 905.6715698242188, 1270.32568359375, 949.864990234375, 979.10791015625, 1012.0687255859375, 939.8203125, 853.806884765625, 879.7940673828125, 837.8339233398438, 886.599853515625, 852.5194091796875, 1469.0955810546875, 1243.1539306640625, 1177.0728759765625, 1298.447998046875, 999.3638305664062, 1057.9052734375, 975.0109252929688, 1183.314697265625, 1530.75146484375, 1376.2314453125, 1848.998779296875, 1076.60888671875, 1334.6214599609375, 1569.217529296875, 2071.936767578125, 1494.530029296875, 3570.217041015625, 2318.322998046875, 1586.1800537109375, 1449.7652587890625, 1474.4439697265625, 1508.100830078125, 1486.412353515625, 1428.580810546875, 1595.710205078125, 1479.8323974609375, 1486.6370849609375, 1186.5186767578125, 1103.82275390625, 1270.036376953125, 1666.013427734375, 1012.2451782226562, 976.7915649414062, 899.7463989257812, 895.37548828125, 877.9423217773438, 1609.3873291015625, 857.8242797851562, 1143.7105712890625, 810.6882934570312, 794.9487915039062, 766.7050170898438, 756.3521728515625, 747.462646484375, 772.0194091796875, 739.7173461914062, 712.0718383789062, 692.1387939453125, 747.312255859375, 700.9632568359375, 819.896728515625, 2266.416015625, 1524.626220703125, 2465.5654296875, 1983.9710693359375, 1513.8143310546875, 1107.19775390625, 1054.9373779296875, 816.2353515625, 1829.2183837890625, 1029.6536865234375, 1448.2716064453125, 1352.2745361328125, 1235.4034423828125, 1782.953857421875, 1785.01904296875, 1266.70361328125, 1764.885986328125, 1958.43896484375, 1083.4393310546875, 1109.8798828125], \"Total\": [5264.0, 5352.0, 5105.0, 4554.0, 12080.0, 3914.0, 13725.0, 3489.0, 3456.0, 3356.0, 3293.0, 6401.0, 3536.0, 3055.0, 2906.0, 2951.0, 3234.0, 3153.0, 2817.0, 3346.0, 2704.0, 2775.0, 2701.0, 2725.0, 13525.0, 3088.0, 2610.0, 3588.0, 2489.0, 12924.0, 2024.2890625, 1438.6968994140625, 1985.61328125, 1638.509765625, 1243.7908935546875, 1205.1553955078125, 1285.5828857421875, 1468.3294677734375, 1205.9708251953125, 1147.6297607421875, 938.1345825195312, 959.0916137695312, 864.3209838867188, 927.9564208984375, 835.0164794921875, 838.6519165039062, 787.3390502929688, 814.875, 942.9556884765625, 912.1301879882812, 2271.51904296875, 1056.201904296875, 713.89404296875, 784.9821166992188, 1143.1002197265625, 673.8009033203125, 734.3318481445312, 681.3131103515625, 683.8573608398438, 654.9860229492188, 2240.649658203125, 1695.104248046875, 1330.3878173828125, 1462.919921875, 1011.2188720703125, 1595.74609375, 3914.50146484375, 1015.7383422851562, 1448.3182373046875, 1023.1222534179688, 1041.51904296875, 1654.5443115234375, 1211.2255859375, 1563.513427734375, 2421.42431640625, 1129.121337890625, 2619.223388671875, 3255.03076171875, 6401.154296875, 3367.90771484375, 1619.08056640625, 3464.8095703125, 2122.53759765625, 13525.5361328125, 10562.662109375, 1533.70556640625, 2931.79736328125, 5891.642578125, 3603.076171875, 4440.14501953125, 4134.19921875, 2272.4609375, 2238.58740234375, 2132.437744140625, 1758.6910400390625, 1704.656005859375, 1332.5711669921875, 1280.0750732421875, 1337.13037109375, 2725.4951171875, 1223.9971923828125, 1224.75341796875, 1567.9884033203125, 2079.75732421875, 1052.8984375, 4554.40966796875, 1010.0546875, 911.3685302734375, 919.493896484375, 892.5695190429688, 880.9139404296875, 885.20556640625, 1189.3651123046875, 919.0591430664062, 1181.2291259765625, 1119.7900390625, 1617.6494140625, 776.2769165039062, 921.412841796875, 887.90771484375, 771.9336547851562, 5352.5927734375, 2610.9482421875, 2483.991455078125, 1724.1361083984375, 1224.0770263671875, 1056.738037109375, 1284.3983154296875, 1187.1845703125, 942.6201782226562, 1278.3968505859375, 1976.5850830078125, 3190.516845703125, 1397.1119384765625, 2600.642578125, 8937.947265625, 1552.0269775390625, 2586.528076171875, 3640.75146484375, 3863.147216796875, 6703.55615234375, 5395.8896484375, 2399.34375, 2036.783935546875, 1854.5966796875, 2701.904052734375, 2466.13818359375, 2131.34521484375, 1586.8463134765625, 1757.0977783203125, 1391.4652099609375, 1463.27783203125, 1450.0782470703125, 1653.9288330078125, 1309.516357421875, 1165.251953125, 1191.6829833984375, 1022.8209228515625, 1022.2810668945312, 1042.5128173828125, 972.9931640625, 1249.442626953125, 962.5524291992188, 1054.733642578125, 1424.7703857421875, 928.640380859375, 1867.450439453125, 952.507080078125, 837.948974609375, 902.0678100585938, 843.6297607421875, 1171.0152587890625, 822.2205200195312, 1966.997802734375, 1256.324462890625, 1076.5692138671875, 1020.3125, 1129.79052734375, 1049.787109375, 1082.9366455078125, 3088.249755859375, 1747.9364013671875, 2853.27734375, 2415.396728515625, 1279.5731201171875, 5440.37158203125, 1893.8133544921875, 8852.2060546875, 2841.749267578125, 4729.1025390625, 3560.310791015625, 3489.111328125, 3356.648193359375, 1920.9542236328125, 1893.3385009765625, 2022.48095703125, 1915.118896484375, 1566.014404296875, 1349.082763671875, 1477.49755859375, 1319.1646728515625, 1188.734375, 1223.735595703125, 1047.952880859375, 881.4248657226562, 1091.325927734375, 833.5439453125, 755.9136352539062, 814.5049438476562, 810.7607421875, 741.23046875, 730.6832275390625, 741.4974365234375, 769.75634765625, 671.1898803710938, 704.81103515625, 668.6409912109375, 666.8161010742188, 702.4282836914062, 718.8713989257812, 750.7769775390625, 5105.06689453125, 2177.79052734375, 2484.10009765625, 2009.2811279296875, 2122.205322265625, 1870.0443115234375, 1025.53076171875, 975.986572265625, 1067.7562255859375, 856.6434326171875, 1367.9051513671875, 1293.15869140625, 1802.634521484375, 2415.7041015625, 1652.6531982421875, 3346.7587890625, 2715.76123046875, 13725.4580078125, 3549.01171875, 5644.88818359375, 2043.079345703125, 1939.8914794921875, 1928.2664794921875, 2797.833740234375, 4208.3740234375, 1699.01123046875, 1611.4090576171875, 1533.1646728515625, 1239.79931640625, 1968.447998046875, 1223.266845703125, 1957.4296875, 1080.6746826171875, 1392.4315185546875, 991.1787109375, 1037.4852294921875, 1007.140869140625, 1303.62109375, 1128.3953857421875, 873.6158447265625, 867.7517700195312, 922.1364135742188, 935.1444091796875, 916.431396484375, 2906.18359375, 835.129150390625, 1669.8084716796875, 739.1445922851562, 723.1375122070312, 714.4315795898438, 770.6318359375, 726.1173095703125, 793.0147705078125, 675.3156127929688, 758.282958984375, 2951.283935546875, 3456.502685546875, 2775.5048828125, 1039.9873046875, 1425.3648681640625, 875.1647338867188, 859.8336181640625, 2421.6396484375, 1136.0616455078125, 2032.422607421875, 3234.205078125, 1113.0360107421875, 993.1573486328125, 2926.515869140625, 1564.788818359375, 2022.65673828125, 9347.8310546875, 14075.51171875, 8687.916015625, 6039.30224609375, 1351.1112060546875, 2703.666259765625, 2842.315185546875, 2019.4437255859375, 1912.2752685546875, 2356.969482421875, 1225.836669921875, 2393.73779296875, 1375.4320068359375, 1511.712158203125, 1170.1070556640625, 1089.850341796875, 1326.1656494140625, 1039.6348876953125, 1262.861572265625, 1024.211181640625, 1077.6436767578125, 917.732421875, 899.5380859375, 833.7472534179688, 867.20361328125, 1040.9459228515625, 868.8297119140625, 792.3137817382812, 780.4135131835938, 776.2177734375, 740.1588745117188, 825.9552001953125, 727.4794311523438, 751.1669311523438, 703.07958984375, 693.822021484375, 701.9576416015625, 2136.373291015625, 1492.8289794921875, 1986.408447265625, 1156.553955078125, 1296.9874267578125, 1180.875, 3293.3154296875, 916.5048217773438, 1094.435302734375, 1350.458984375, 896.5065307617188, 2555.65283203125, 3536.2041015625, 1424.1553955078125, 1987.3309326171875, 3588.0556640625, 1205.52587890625, 3472.396728515625, 2482.9140625, 2299.151611328125, 1674.7032470703125, 2423.853759765625, 1925.9306640625, 1873.3341064453125, 2704.174560546875, 1291.397705078125, 1559.564697265625, 1160.4764404296875, 5264.55908203125, 1162.605224609375, 1096.914794921875, 1071.126708984375, 1450.3421630859375, 893.9894409179688, 887.8098754882812, 822.8641357421875, 795.6160278320312, 1072.3699951171875, 799.1605834960938, 806.7750854492188, 728.7078247070312, 719.2416381835938, 725.2777099609375, 707.889892578125, 710.8552856445312, 706.0382080078125, 744.9530029296875, 677.4089965820312, 650.9751586914062, 1541.6243896484375, 674.1828002929688, 675.6441040039062, 1036.3648681640625, 626.0709228515625, 2259.9853515625, 2817.4462890625, 1462.36474609375, 966.7225952148438, 1260.878173828125, 1119.954345703125, 2090.376953125, 3055.20703125, 2254.790283203125, 1269.122314453125, 1643.7017822265625, 841.3682250976562, 962.75341796875, 3153.9169921875, 1473.4403076171875, 1162.1153564453125, 1507.3885498046875, 2656.28515625, 2510.61376953125, 1934.7545166015625, 12924.763671875, 1636.00341796875, 1735.1810302734375, 10476.5849609375, 2476.2236328125, 4437.7001953125, 1449.370361328125, 4769.31787109375, 2452.1416015625, 1963.9111328125, 1694.0701904296875, 1551.522216796875, 1497.9744873046875, 1357.501953125, 1381.5223388671875, 1315.5428466796875, 1653.69482421875, 1107.4688720703125, 1174.2652587890625, 1066.803466796875, 976.435546875, 1309.03369140625, 1939.6424560546875, 998.0623168945312, 936.38427734375, 911.6004028320312, 2314.481201171875, 895.4102172851562, 830.322265625, 1197.1080322265625, 857.2422485351562, 808.1185913085938, 828.5999145507812, 791.9130249023438, 880.5306396484375, 781.9082641601562, 817.672607421875, 757.5665283203125, 1338.0172119140625, 1781.3975830078125, 1254.53125, 1081.4837646484375, 1104.075439453125, 1088.7738037109375, 2053.169677734375, 1869.9613037109375, 1770.490234375, 1308.814208984375, 1650.7742919921875, 1529.12451171875, 1532.2393798828125, 1035.2083740234375, 2217.738525390625, 12080.232421875, 1460.2149658203125, 9802.388671875, 3781.063720703125, 3159.37109375, 7219.26806640625, 4282.34912109375, 4503.009765625, 2616.94873046875, 4920.24169921875, 1931.2039794921875, 1836.0775146484375, 1383.8505859375, 1331.5693359375, 1538.6368408203125, 1371.719482421875, 1564.465087890625, 1185.0609130859375, 1439.022216796875, 1171.915283203125, 1086.340576171875, 1013.6868896484375, 980.708251953125, 1162.5977783203125, 1666.9844970703125, 1015.00048828125, 932.7027587890625, 973.9737548828125, 887.3972778320312, 907.9136352539062, 1273.4803466796875, 952.2479858398438, 981.621337890625, 1014.7030029296875, 942.29345703125, 856.0615234375, 882.1266479492188, 840.0741577148438, 889.0806884765625, 854.90869140625, 1473.3529052734375, 1247.00244140625, 1180.980224609375, 1304.991455078125, 1002.749267578125, 1063.089111328125, 982.4029541015625, 1218.6072998046875, 1633.7799072265625, 1472.043212890625, 2136.306396484375, 1112.5274658203125, 1479.196533203125, 1855.16064453125, 2818.200927734375, 1956.93798828125, 8613.8896484375, 5881.70849609375, 2735.793212890625, 2222.861083984375, 3443.177490234375, 1510.289794921875, 1488.6470947265625, 1430.758056640625, 1598.176025390625, 1482.371826171875, 1489.30517578125, 1188.66455078125, 1106.093994140625, 1272.7001953125, 1669.6544189453125, 1014.4705810546875, 978.979248046875, 901.9161376953125, 897.5953979492188, 880.1246948242188, 1613.4197998046875, 859.9852905273438, 1146.68408203125, 812.8773193359375, 797.151123046875, 768.8781127929688, 758.5060424804688, 749.6114501953125, 774.2630615234375, 741.97802734375, 714.265625, 694.2747192382812, 749.6450805664062, 703.1519165039062, 822.46142578125, 2275.427734375, 1529.4783935546875, 2489.558349609375, 1999.735107421875, 1521.73193359375, 1110.779296875, 1061.3599853515625, 819.5993041992188, 1908.582275390625, 1056.0196533203125, 1795.50048828125, 1667.25732421875, 1487.1800537109375, 2735.671142578125, 2780.10546875, 1625.30029296875, 3537.1103515625, 4898.7919921875, 2020.6611328125, 2849.958740234375], \"Category\": [\"Default\", \"Default\", \"Default\", \"Default\", \"Default\", \"Default\", \"Default\", \"Default\", \"Default\", \"Default\", \"Default\", \"Default\", \"Default\", \"Default\", \"Default\", \"Default\", \"Default\", \"Default\", \"Default\", \"Default\", \"Default\", \"Default\", \"Default\", \"Default\", \"Default\", \"Default\", \"Default\", \"Default\", \"Default\", \"Default\", \"Topic1\", \"Topic1\", \"Topic1\", \"Topic1\", \"Topic1\", \"Topic1\", \"Topic1\", \"Topic1\", \"Topic1\", \"Topic1\", \"Topic1\", \"Topic1\", \"Topic1\", \"Topic1\", \"Topic1\", \"Topic1\", \"Topic1\", \"Topic1\", \"Topic1\", \"Topic1\", \"Topic1\", \"Topic1\", \"Topic1\", \"Topic1\", \"Topic1\", \"Topic1\", \"Topic1\", \"Topic1\", \"Topic1\", \"Topic1\", \"Topic1\", \"Topic1\", \"Topic1\", \"Topic1\", \"Topic1\", \"Topic1\", \"Topic1\", \"Topic1\", \"Topic1\", \"Topic1\", \"Topic1\", \"Topic1\", \"Topic1\", \"Topic1\", \"Topic1\", \"Topic1\", \"Topic1\", \"Topic1\", \"Topic1\", \"Topic1\", \"Topic1\", \"Topic1\", \"Topic1\", \"Topic1\", \"Topic1\", \"Topic1\", \"Topic1\", \"Topic1\", \"Topic1\", \"Topic1\", \"Topic1\", \"Topic2\", \"Topic2\", \"Topic2\", \"Topic2\", \"Topic2\", \"Topic2\", \"Topic2\", \"Topic2\", \"Topic2\", \"Topic2\", \"Topic2\", \"Topic2\", \"Topic2\", \"Topic2\", \"Topic2\", \"Topic2\", \"Topic2\", \"Topic2\", \"Topic2\", \"Topic2\", \"Topic2\", \"Topic2\", \"Topic2\", \"Topic2\", \"Topic2\", \"Topic2\", \"Topic2\", \"Topic2\", \"Topic2\", \"Topic2\", \"Topic2\", \"Topic2\", \"Topic2\", \"Topic2\", \"Topic2\", \"Topic2\", \"Topic2\", \"Topic2\", \"Topic2\", \"Topic2\", \"Topic2\", \"Topic2\", \"Topic2\", \"Topic2\", \"Topic2\", \"Topic2\", \"Topic2\", \"Topic2\", \"Topic2\", \"Topic2\", \"Topic2\", \"Topic2\", \"Topic3\", \"Topic3\", \"Topic3\", \"Topic3\", \"Topic3\", \"Topic3\", \"Topic3\", \"Topic3\", \"Topic3\", \"Topic3\", \"Topic3\", \"Topic3\", \"Topic3\", \"Topic3\", \"Topic3\", \"Topic3\", \"Topic3\", \"Topic3\", \"Topic3\", \"Topic3\", \"Topic3\", \"Topic3\", \"Topic3\", \"Topic3\", \"Topic3\", \"Topic3\", \"Topic3\", \"Topic3\", \"Topic3\", \"Topic3\", \"Topic3\", \"Topic3\", \"Topic3\", \"Topic3\", \"Topic3\", \"Topic3\", \"Topic3\", \"Topic3\", \"Topic3\", \"Topic3\", \"Topic3\", \"Topic3\", \"Topic3\", \"Topic3\", \"Topic3\", \"Topic3\", \"Topic3\", \"Topic3\", \"Topic4\", \"Topic4\", \"Topic4\", \"Topic4\", \"Topic4\", \"Topic4\", \"Topic4\", \"Topic4\", \"Topic4\", \"Topic4\", \"Topic4\", \"Topic4\", \"Topic4\", \"Topic4\", \"Topic4\", \"Topic4\", \"Topic4\", \"Topic4\", \"Topic4\", \"Topic4\", \"Topic4\", \"Topic4\", \"Topic4\", \"Topic4\", \"Topic4\", \"Topic4\", \"Topic4\", \"Topic4\", \"Topic4\", \"Topic4\", \"Topic4\", \"Topic4\", \"Topic4\", \"Topic4\", \"Topic4\", \"Topic4\", \"Topic4\", \"Topic4\", \"Topic4\", \"Topic4\", \"Topic4\", \"Topic4\", \"Topic4\", \"Topic4\", \"Topic4\", \"Topic4\", \"Topic4\", \"Topic4\", \"Topic4\", \"Topic4\", \"Topic4\", \"Topic4\", \"Topic4\", \"Topic4\", \"Topic4\", \"Topic5\", \"Topic5\", \"Topic5\", \"Topic5\", \"Topic5\", \"Topic5\", \"Topic5\", \"Topic5\", \"Topic5\", \"Topic5\", \"Topic5\", \"Topic5\", \"Topic5\", \"Topic5\", \"Topic5\", \"Topic5\", \"Topic5\", \"Topic5\", \"Topic5\", \"Topic5\", \"Topic5\", \"Topic5\", \"Topic5\", \"Topic5\", \"Topic5\", \"Topic5\", \"Topic5\", \"Topic5\", \"Topic5\", \"Topic5\", \"Topic5\", \"Topic5\", \"Topic5\", \"Topic5\", \"Topic5\", \"Topic5\", \"Topic5\", \"Topic5\", \"Topic5\", \"Topic5\", \"Topic5\", \"Topic5\", \"Topic5\", \"Topic5\", \"Topic5\", \"Topic5\", \"Topic5\", \"Topic5\", \"Topic5\", \"Topic5\", \"Topic5\", \"Topic5\", \"Topic5\", \"Topic6\", \"Topic6\", \"Topic6\", \"Topic6\", \"Topic6\", \"Topic6\", \"Topic6\", \"Topic6\", \"Topic6\", \"Topic6\", \"Topic6\", \"Topic6\", \"Topic6\", \"Topic6\", \"Topic6\", \"Topic6\", \"Topic6\", \"Topic6\", \"Topic6\", \"Topic6\", \"Topic6\", \"Topic6\", \"Topic6\", \"Topic6\", \"Topic6\", \"Topic6\", \"Topic6\", \"Topic6\", \"Topic6\", \"Topic6\", \"Topic6\", \"Topic6\", \"Topic6\", \"Topic6\", \"Topic6\", \"Topic6\", \"Topic6\", \"Topic6\", \"Topic6\", \"Topic6\", \"Topic6\", \"Topic6\", \"Topic6\", \"Topic6\", \"Topic6\", \"Topic6\", \"Topic6\", \"Topic6\", \"Topic6\", \"Topic6\", \"Topic6\", \"Topic6\", \"Topic6\", \"Topic6\", \"Topic7\", \"Topic7\", \"Topic7\", \"Topic7\", \"Topic7\", \"Topic7\", \"Topic7\", \"Topic7\", \"Topic7\", \"Topic7\", \"Topic7\", \"Topic7\", \"Topic7\", \"Topic7\", \"Topic7\", \"Topic7\", \"Topic7\", \"Topic7\", \"Topic7\", \"Topic7\", \"Topic7\", \"Topic7\", \"Topic7\", \"Topic7\", \"Topic7\", \"Topic7\", \"Topic7\", \"Topic7\", \"Topic7\", \"Topic7\", \"Topic7\", \"Topic7\", \"Topic7\", \"Topic7\", \"Topic7\", \"Topic7\", \"Topic7\", \"Topic7\", \"Topic7\", \"Topic7\", \"Topic7\", \"Topic7\", \"Topic7\", \"Topic7\", \"Topic7\", \"Topic7\", \"Topic7\", \"Topic7\", \"Topic7\", \"Topic7\", \"Topic7\", \"Topic7\", \"Topic7\", \"Topic7\", \"Topic7\", \"Topic7\", \"Topic7\", \"Topic7\", \"Topic8\", \"Topic8\", \"Topic8\", \"Topic8\", \"Topic8\", \"Topic8\", \"Topic8\", \"Topic8\", \"Topic8\", \"Topic8\", \"Topic8\", \"Topic8\", \"Topic8\", \"Topic8\", \"Topic8\", \"Topic8\", \"Topic8\", \"Topic8\", \"Topic8\", \"Topic8\", \"Topic8\", \"Topic8\", \"Topic8\", \"Topic8\", \"Topic8\", \"Topic8\", \"Topic8\", \"Topic8\", \"Topic8\", \"Topic8\", \"Topic8\", \"Topic8\", \"Topic8\", \"Topic8\", \"Topic8\", \"Topic8\", \"Topic8\", \"Topic8\", \"Topic8\", \"Topic8\", \"Topic8\", \"Topic8\", \"Topic8\", \"Topic8\", \"Topic8\", \"Topic8\", \"Topic8\", \"Topic8\", \"Topic8\", \"Topic8\", \"Topic8\", \"Topic8\", \"Topic8\", \"Topic8\", \"Topic8\", \"Topic9\", \"Topic9\", \"Topic9\", \"Topic9\", \"Topic9\", \"Topic9\", \"Topic9\", \"Topic9\", \"Topic9\", \"Topic9\", \"Topic9\", \"Topic9\", \"Topic9\", \"Topic9\", \"Topic9\", \"Topic9\", \"Topic9\", \"Topic9\", \"Topic9\", \"Topic9\", \"Topic9\", \"Topic9\", \"Topic9\", \"Topic9\", \"Topic9\", \"Topic9\", \"Topic9\", \"Topic9\", \"Topic9\", \"Topic9\", \"Topic9\", \"Topic9\", \"Topic9\", \"Topic9\", \"Topic9\", \"Topic9\", \"Topic9\", \"Topic9\", \"Topic9\", \"Topic9\", \"Topic9\", \"Topic9\", \"Topic9\", \"Topic9\", \"Topic9\", \"Topic9\", \"Topic9\", \"Topic9\", \"Topic9\", \"Topic9\", \"Topic9\", \"Topic10\", \"Topic10\", \"Topic10\", \"Topic10\", \"Topic10\", \"Topic10\", \"Topic10\", \"Topic10\", \"Topic10\", \"Topic10\", \"Topic10\", \"Topic10\", \"Topic10\", \"Topic10\", \"Topic10\", \"Topic10\", \"Topic10\", \"Topic10\", \"Topic10\", \"Topic10\", \"Topic10\", \"Topic10\", \"Topic10\", \"Topic10\", \"Topic10\", \"Topic10\", \"Topic10\", \"Topic10\", \"Topic10\", \"Topic10\", \"Topic10\", \"Topic10\", \"Topic10\", \"Topic10\", \"Topic10\", \"Topic10\", \"Topic10\", \"Topic10\", \"Topic10\", \"Topic10\", \"Topic10\", \"Topic10\", \"Topic10\", \"Topic10\", \"Topic10\", \"Topic10\", \"Topic10\", \"Topic10\", \"Topic10\", \"Topic10\"], \"logprob\": [30.0, 29.0, 28.0, 27.0, 26.0, 25.0, 24.0, 23.0, 22.0, 21.0, 20.0, 19.0, 18.0, 17.0, 16.0, 15.0, 14.0, 13.0, 12.0, 11.0, 10.0, 9.0, 8.0, 7.0, 6.0, 5.0, 4.0, 3.0, 2.0, 1.0, -5.2606000900268555, -5.60230016708374, -5.280099868774414, -5.472300052642822, -5.7480998039245605, -5.779699802398682, -5.715099811553955, -5.582300186157227, -5.779200077056885, -5.82889986038208, -6.030700206756592, -6.008699893951416, -6.112800121307373, -6.041800022125244, -6.14739990234375, -6.143099784851074, -6.206299781799316, -6.171899795532227, -6.026000022888184, -6.059299945831299, -5.146900177001953, -5.912700176239014, -6.304500102996826, -6.20959997177124, -5.833899974822998, -6.362500190734863, -6.276500225067139, -6.351500034332275, -6.347899913787842, -6.390999794006348, -5.162499904632568, -5.442500114440918, -5.6828999519348145, -5.589900016784668, -5.956999778747559, -5.50540018081665, -4.617400169372559, -5.953400135040283, -5.606299877166748, -5.947000026702881, -5.930300235748291, -5.4791998863220215, -5.785999774932861, -5.5447998046875, -5.1315999031066895, -5.855000019073486, -5.117000102996826, -4.93179988861084, -4.424600124359131, -4.961299896240234, -5.568299770355225, -4.9558000564575195, -5.368199825286865, -4.0416998863220215, -4.414999961853027, -5.648200035095215, -5.297399997711182, -5.007699966430664, -5.248199939727783, -5.173600196838379, -5.561699867248535, -5.089900016784668, -5.105100154876709, -5.15369987487793, -5.346499919891357, -5.377900123596191, -5.624199867248535, -5.664400100708008, -5.620999813079834, -4.90880012512207, -5.709499835968018, -5.708899974822998, -5.461900234222412, -5.179500102996826, -5.860199928283691, -4.395699977874756, -5.901899814605713, -6.004899978637695, -5.995999813079834, -6.025899887084961, -6.039100170135498, -6.034200191497803, -5.738900184631348, -5.996699810028076, -5.745800018310547, -5.799300193786621, -5.43149995803833, -6.1656999588012695, -5.99429988861084, -6.031400203704834, -6.17140007019043, -4.240900039672852, -4.953100204467773, -5.0046000480651855, -5.368800163269043, -5.710400104522705, -5.857500076293945, -5.665800094604492, -5.744500160217285, -5.97189998626709, -5.68179988861084, -5.313700199127197, -5.033299922943115, -5.657599925994873, -5.248499870300293, -4.571199893951416, -5.60860013961792, -5.357800006866455, -5.206399917602539, -5.215199947357178, -5.122200012207031, -5.344900131225586, -5.639400005340576, -5.179100036621094, -5.272900104522705, -4.896699905395508, -4.98799991607666, -5.133999824523926, -5.428999900817871, -5.327199935913086, -5.5605998039245605, -5.510300159454346, -5.519400119781494, -5.388000011444092, -5.621500015258789, -5.73829984664917, -5.71589994430542, -5.868899822235107, -5.8694000244140625, -5.849800109863281, -5.918900012969971, -5.668900012969971, -5.929800033569336, -5.8383002281188965, -5.537700176239014, -5.965700149536133, -5.267099857330322, -5.940400123596191, -6.068699836730957, -5.994999885559082, -6.062099933624268, -5.734300136566162, -6.087900161743164, -5.219799995422363, -5.66480016708374, -5.818600177764893, -5.872099876403809, -5.771900177001953, -5.844399929046631, -5.818600177764893, -4.875899791717529, -5.396200180053711, -5.033299922943115, -5.170400142669678, -5.711900234222412, -4.884900093078613, -5.501500129699707, -4.6828999519348145, -5.607399940490723, -5.503600120544434, -5.672399997711182, -4.633600234985352, -4.672800064086914, -5.230899810791016, -5.2453999519348145, -5.1793999671936035, -5.234000205993652, -5.435500144958496, -5.58489990234375, -5.494100093841553, -5.607500076293945, -5.711699962615967, -5.682700157165527, -5.838099956512451, -6.011300086975098, -5.797800064086914, -6.067299842834473, -6.165299892425537, -6.090700149536133, -6.095300197601318, -6.184999942779541, -6.1992998123168945, -6.184700012207031, -6.14739990234375, -6.2845001220703125, -6.235599994659424, -6.288300037384033, -6.291100025177002, -6.239099979400635, -6.21589994430542, -6.172500133514404, -4.2657999992370605, -5.1092000007629395, -4.979000091552734, -5.1905999183654785, -5.1367998123168945, -5.2642998695373535, -5.861100196838379, -5.910299777984619, -5.822299957275391, -6.041399955749512, -5.579500198364258, -5.6381001472473145, -5.318299770355225, -5.037799835205078, -5.4079999923706055, -4.7621002197265625, -5.066299915313721, -3.8931000232696533, -5.059599876403809, -4.769700050354004, -5.444399833679199, -5.479300022125244, -5.513500213623047, -5.379300117492676, -5.349699974060059, -5.348899841308594, -5.401800155639648, -5.4517998695373535, -5.664299964904785, -5.202099800109863, -5.6778998374938965, -5.207900047302246, -5.802000045776367, -5.548500061035156, -5.888500213623047, -5.842800140380859, -5.872499942779541, -5.61460018157959, -5.758900165557861, -6.014999866485596, -6.0218000411987305, -5.960999965667725, -5.947199821472168, -5.967400074005127, -4.813399791717529, -6.060400009155273, -5.367599964141846, -6.182600021362305, -6.204599857330322, -6.216700077056885, -6.14109992980957, -6.2006001472473145, -6.112500190734863, -6.2733001708984375, -6.157400131225586, -4.804699897766113, -4.6493000984191895, -4.867400169372559, -5.841700077056885, -5.530300140380859, -6.014200210571289, -6.032700061798096, -5.0081000328063965, -5.757400035858154, -5.208399772644043, -4.780200004577637, -5.800600051879883, -5.905700206756592, -5.0131001472473145, -5.5605998039245605, -5.414599895477295, -4.400899887084961, -4.197800159454346, -4.611999988555908, -4.990099906921387, -5.752200126647949, -5.724699974060059, -5.765500068664551, -5.174099922180176, -5.228700160980225, -5.019800186157227, -5.673900127410889, -5.004700183868408, -5.558800220489502, -5.464399814605713, -5.720600128173828, -5.7916998863220215, -5.595600128173828, -5.839000225067139, -5.644499778747559, -5.854000091552734, -5.803299903869629, -5.964000225067139, -5.984099864959717, -6.060200214385986, -6.020899772644043, -5.8383002281188965, -6.019100189208984, -6.111299991607666, -6.126500129699707, -6.131899833679199, -6.179599761962891, -6.070000171661377, -6.197000026702881, -6.164899826049805, -6.231200218200684, -6.244500160217285, -6.232900142669678, -5.120100021362305, -5.479499816894531, -5.197700023651123, -5.735000133514404, -5.621600151062012, -5.715099811553955, -4.700900077819824, -5.967400074005127, -5.793799877166748, -5.591800212860107, -5.989999771118164, -4.986000061035156, -4.680600166320801, -5.55649995803833, -5.258399963378906, -4.783299922943115, -5.731599807739258, -4.867300033569336, -5.144100189208984, -5.411300182342529, -5.598199844360352, -5.491700172424316, -5.5802998542785645, -5.604599952697754, -4.882299900054932, -5.621399879455566, -5.432799816131592, -5.728499889373779, -4.216300010681152, -5.7266998291015625, -5.784900188446045, -5.808700084686279, -5.50570011138916, -5.989999771118164, -5.997000217437744, -6.072999954223633, -6.106800079345703, -5.808300018310547, -6.102499961853027, -6.0929999351501465, -6.194799900054932, -6.207900047302246, -6.1996002197265625, -6.223899841308594, -6.219799995422363, -6.226600170135498, -6.172999858856201, -6.268099784851074, -6.308000087738037, -5.445899963378906, -6.2729997634887695, -6.270899772644043, -5.843100070953369, -6.347099781036377, -5.063799858093262, -4.846199989318848, -5.499000072479248, -5.912799835205078, -5.650400161743164, -5.768099784851074, -5.1504998207092285, -4.775100231170654, -5.080900192260742, -5.647500038146973, -5.395500183105469, -6.053599834442139, -5.9222002029418945, -4.771999835968018, -5.521299839019775, -5.751500129699707, -5.510499954223633, -5.018099784851074, -5.115499973297119, -5.391300201416016, -4.095699787139893, -5.566100120544434, -5.535699844360352, -4.605800151824951, -5.404399871826172, -5.193699836730957, -5.688199996948242, -5.361999988555908, -4.976099967956543, -5.198299884796143, -5.346199989318848, -5.434100151062012, -5.469299793243408, -5.567999839782715, -5.55049991607666, -5.5995001792907715, -5.370999813079834, -5.771900177001953, -5.713399887084961, -5.809500217437744, -5.8979997634887695, -5.604899883270264, -5.211699962615967, -5.876200199127197, -5.940000057220459, -5.9670000076293945, -5.035299777984619, -5.985000133514404, -6.060500144958496, -5.694699764251709, -6.028600215911865, -6.087699890136719, -6.062699794769287, -6.107999801635742, -6.0019001960754395, -6.120699882507324, -6.076000213623047, -6.152400016784668, -5.583700180053711, -5.3003997802734375, -5.6483001708984375, -5.796800136566162, -5.776500225067139, -5.792099952697754, -5.164999961853027, -5.258999824523926, -5.314899921417236, -5.612199783325195, -5.388700008392334, -5.464399814605713, -5.472899913787842, -5.843200206756592, -5.191999912261963, -3.8687000274658203, -5.593800067901611, -4.557300090789795, -5.123899936676025, -5.2281999588012695, -4.837900161743164, -5.104300022125244, -5.131100177764893, -5.400199890136719, -5.300300121307373, -5.214000225067139, -5.264599800109863, -5.547599792480469, -5.58620023727417, -5.441800117492676, -5.556700229644775, -5.425300121307373, -5.703000068664551, -5.508999824523926, -5.714399814605713, -5.790200233459473, -5.859499931335449, -5.892600059509277, -5.722499847412109, -5.362199783325195, -5.858399868011475, -5.94290018081665, -5.899600028991699, -5.992800235748291, -5.96999979019165, -5.631700038909912, -5.922399997711182, -5.892000198364258, -5.85890007019043, -5.933000087738037, -6.0289998054504395, -5.999000072479248, -6.047900199890137, -5.991300106048584, -6.0304999351501465, -5.486299991607666, -5.653299808502197, -5.707900047302246, -5.609799861907959, -5.871600151062012, -5.814599990844727, -5.896200180053711, -5.702600002288818, -5.445199966430664, -5.551599979400635, -5.25629997253418, -5.797100067138672, -5.582300186157227, -5.420400142669678, -5.142399787902832, -5.469099998474121, -4.598299980163574, -5.030099868774414, -5.409599781036377, -5.499499797821045, -5.482699871063232, -5.427299976348877, -5.441800117492676, -5.481500148773193, -5.370800018310547, -5.446199893951416, -5.4415998458862305, -5.667099952697754, -5.7393999099731445, -5.599100112915039, -5.327700138092041, -5.826000213623047, -5.861599922180176, -5.94379997253418, -5.948699951171875, -5.968299865722656, -5.362299919128418, -5.991499900817871, -5.70389986038208, -6.047999858856201, -6.067599773406982, -6.103799819946289, -6.117400169372559, -6.129199981689453, -6.09689998626709, -6.139599800109863, -6.177700042724609, -6.206099987030029, -6.12939977645874, -6.19350004196167, -6.0366997718811035, -5.019999980926514, -5.416399955749512, -4.935699939727783, -5.15310001373291, -5.423500061035156, -5.736299991607666, -5.7846999168396, -6.041200160980225, -5.234300136566162, -5.808899879455566, -5.467800140380859, -5.536399841308594, -5.626800060272217, -5.259900093078613, -5.258699893951416, -5.6016998291015625, -5.270100116729736, -5.165999889373779, -5.757999897003174, -5.73390007019043], \"loglift\": [30.0, 29.0, 28.0, 27.0, 26.0, 25.0, 24.0, 23.0, 22.0, 21.0, 20.0, 19.0, 18.0, 17.0, 16.0, 15.0, 14.0, 13.0, 12.0, 11.0, 10.0, 9.0, 8.0, 7.0, 6.0, 5.0, 4.0, 3.0, 2.0, 1.0, 2.222899913787842, 2.222599983215332, 2.222599983215332, 2.222599983215332, 2.222399950027466, 2.222399950027466, 2.2223000526428223, 2.2223000526428223, 2.222100019454956, 2.222100019454956, 2.2218000888824463, 2.2216999530792236, 2.2216999530792236, 2.2216999530792236, 2.22160005569458, 2.2214999198913574, 2.2214999198913574, 2.221400022506714, 2.221400022506714, 2.221299886703491, 2.221299886703491, 2.221299886703491, 2.2211999893188477, 2.221100091934204, 2.2209999561309814, 2.2209999561309814, 2.2209999561309814, 2.2207999229431152, 2.2207999229431152, 2.2207999229431152, 2.219399929046631, 2.218400001525879, 2.2202999591827393, 2.2183001041412354, 2.2204999923706055, 2.21589994430542, 2.2065999507904053, 2.2197000980377197, 2.2119998931884766, 2.2188000679016113, 2.2177000045776367, 2.205899953842163, 2.2111001014709473, 2.196899890899658, 2.1726999282836914, 2.2123000621795654, 2.1087000370025635, 2.07669997215271, 1.9076000452041626, 2.013000011444092, 2.138400077819824, 1.9902000427246094, 2.0678000450134277, 1.5424000024795532, 1.4163000583648682, 2.1126999855041504, 1.8157000541687012, 1.4074000120162964, 1.6586999893188477, 1.524399995803833, 1.2077000141143799, 2.277899980545044, 2.2776999473571777, 2.2776999473571777, 2.277600049972534, 2.277400016784668, 2.277400016784668, 2.2772998809814453, 2.2771999835968018, 2.2771999835968018, 2.2769999504089355, 2.2769999504089355, 2.2769999504089355, 2.276900053024292, 2.276900053024292, 2.2767999172210693, 2.2767999172210693, 2.276599884033203, 2.2764999866485596, 2.276400089263916, 2.276400089263916, 2.276400089263916, 2.2762999534606934, 2.2762999534606934, 2.2762999534606934, 2.27620005607605, 2.27620005607605, 2.27620005607605, 2.27620005607605, 2.276099920272827, 2.276099920272827, 2.27020001411438, 2.275899887084961, 2.274199962615967, 2.2751998901367188, 2.2760000228881836, 2.275899887084961, 2.272599935531616, 2.272599935531616, 2.2757999897003174, 2.2613000869750977, 2.1935999393463135, 1.9952000379562378, 2.196700096130371, 1.9844000339508057, 1.4270999431610107, 2.140500068664551, 1.8805999755859375, 1.6900999546051025, 1.621899962425232, 1.1638000011444092, 1.1581000089645386, 1.6741000413894653, 2.2981998920440674, 2.298099994659424, 2.2980000972747803, 2.2980000972747803, 2.2978999614715576, 2.2978999614715576, 2.297800064086914, 2.2976999282836914, 2.2976999282836914, 2.2976999282836914, 2.297499895095825, 2.297499895095825, 2.2973999977111816, 2.297300100326538, 2.2971999645233154, 2.2971999645233154, 2.2971999645233154, 2.297100067138672, 2.297100067138672, 2.297100067138672, 2.296999931335449, 2.296999931335449, 2.296999931335449, 2.296999931335449, 2.2969000339508057, 2.2967000007629395, 2.2967000007629395, 2.296600103378296, 2.2964999675750732, 2.2964999675750732, 2.29229998588562, 2.295599937438965, 2.296299934387207, 2.2964999675750732, 2.2946999073028564, 2.2957000732421875, 2.2904000282287598, 2.1851999759674072, 2.2339999675750732, 2.1068999767303467, 2.136399984359741, 2.2302000522613525, 1.6098999977111816, 2.0485000610351562, 1.3250999450683594, 1.5369000434875488, 1.1312999725341797, 1.246399998664856, 2.3053998947143555, 2.3048999309539795, 2.3048999309539795, 2.3048999309539795, 2.3048999309539795, 2.3048999309539795, 2.3046000003814697, 2.3043999671936035, 2.3041999340057373, 2.3041000366210938, 2.3041000366210938, 2.3041000366210938, 2.3036999702453613, 2.303499937057495, 2.303499937057495, 2.3034000396728516, 2.3032000064849854, 2.3032000064849854, 2.303100109100342, 2.303100109100342, 2.303100109100342, 2.303100109100342, 2.302999973297119, 2.3029000759124756, 2.302799940109253, 2.302799940109253, 2.302799940109253, 2.302799940109253, 2.302799940109253, 2.302799940109253, 2.29259991645813, 2.301100015640259, 2.299799919128418, 2.300299882888794, 2.2994000911712646, 2.2983999252319336, 2.3024001121520996, 2.3027000427246094, 2.300800085067749, 2.3018999099731445, 2.295799970626831, 2.2934999465942383, 2.281100034713745, 2.268899917602539, 2.2783000469207764, 2.2184998989105225, 2.123300075531006, 1.676300048828125, 1.8624000549316406, 1.6881999969482422, 2.0297999382019043, 2.0467000007629395, 2.0185000896453857, 1.780500054359436, 1.401900053024292, 2.309799909591675, 2.3097000122070312, 2.3096001148223877, 2.3094000816345215, 2.309299945831299, 2.309299945831299, 2.3092000484466553, 2.3090999126434326, 2.3090999126434326, 2.3090999126434326, 2.309000015258789, 2.309000015258789, 2.3089001178741455, 2.3089001178741455, 2.308799982070923, 2.3087000846862793, 2.3087000846862793, 2.3085999488830566, 2.308500051498413, 2.308500051498413, 2.3083999156951904, 2.3083999156951904, 2.308300018310547, 2.308300018310547, 2.308199882507324, 2.3080999851226807, 2.3080999851226807, 2.308000087738037, 2.308000087738037, 2.308000087738037, 2.301800012588501, 2.299099922180176, 2.30049991607666, 2.307800054550171, 2.3039000034332275, 2.307800054550171, 2.306999921798706, 2.296099901199341, 2.3036999702453613, 2.2709999084472656, 2.2346999645233154, 2.280900001525879, 2.289900064468384, 2.101799964904785, 2.180299997329712, 2.0696001052856445, 1.5527000427246094, 1.3464000225067139, 1.4147000312805176, 1.4003000259399414, 2.135499954223633, 1.4694000482559204, 1.378600001335144, 2.311800003051758, 2.3117001056671143, 2.311500072479248, 2.3111000061035156, 2.3111000061035156, 2.3111000061035156, 2.311000108718872, 2.311000108718872, 2.3108999729156494, 2.310800075531006, 2.310800075531006, 2.310699939727783, 2.310699939727783, 2.3106000423431396, 2.310499906539917, 2.310499906539917, 2.3101999759674072, 2.3101999759674072, 2.3101999759674072, 2.3101999759674072, 2.3101999759674072, 2.3101000785827637, 2.309999942779541, 2.309999942779541, 2.3099000453948975, 2.3099000453948975, 2.3099000453948975, 2.309799909591675, 2.3097000122070312, 2.3097000122070312, 2.3094000816345215, 2.308500051498413, 2.3046000003814697, 2.308199882507324, 2.306999921798706, 2.307300090789795, 2.2959001064300537, 2.3083999156951904, 2.3046000003814697, 2.2964000701904297, 2.3078999519348145, 2.264400005340576, 2.244999885559082, 2.278599977493286, 2.2434000968933105, 2.127700090408325, 2.2701001167297363, 2.0764999389648438, 2.1350998878479004, 1.9448000192642212, 2.0748000144958496, 1.8115999698638916, 1.9529000520706177, 1.9563000202178955, 2.3115999698638916, 2.3115999698638916, 2.3113999366760254, 2.3113999366760254, 2.311300039291382, 2.311300039291382, 2.311300039291382, 2.311199903488159, 2.311199903488159, 2.310699939727783, 2.3106000423431396, 2.3106000423431396, 2.310499906539917, 2.310499906539917, 2.3104000091552734, 2.31030011177063, 2.31030011177063, 2.31030011177063, 2.31030011177063, 2.3101999759674072, 2.3101999759674072, 2.3101999759674072, 2.3101000785827637, 2.309999942779541, 2.3099000453948975, 2.3099000453948975, 2.3099000453948975, 2.309799909591675, 2.309799909591675, 2.309799909591675, 2.309499979019165, 2.3066000938415527, 2.3096001148223877, 2.3097000122070312, 2.3064000606536865, 2.3071999549865723, 2.3008999824523926, 2.2967000007629395, 2.2946999073028564, 2.302799940109253, 2.2962000370025635, 2.307800054550171, 2.304500102996826, 2.2679998874664307, 2.2797999382019043, 2.286900043487549, 2.2678000926971436, 2.193700075149536, 2.152600049972534, 2.1373000144958496, 1.5338000059127808, 2.1303000450134277, 2.101799964904785, 1.2337000370025635, 1.877500057220459, 1.5047999620437622, 2.129300117492676, 1.2644000053405762, 2.3155999183654785, 2.3153998851776123, 2.3152999877929688, 2.3152999877929688, 2.315200090408325, 2.315000057220459, 2.315000057220459, 2.3148999214172363, 2.31469988822937, 2.3145999908447266, 2.3145999908447266, 2.314500093460083, 2.314500093460083, 2.314500093460083, 2.3143999576568604, 2.3143999576568604, 2.3143999576568604, 2.314199924468994, 2.314199924468994, 2.314199924468994, 2.3141000270843506, 2.3141000270843506, 2.313999891281128, 2.313999891281128, 2.313999891281128, 2.313999891281128, 2.3138999938964844, 2.3138999938964844, 2.3138999938964844, 2.3138999938964844, 2.313800096511841, 2.310800075531006, 2.3136000633239746, 2.3136000633239746, 2.313199996948242, 2.311500072479248, 2.30430006980896, 2.3036999702453613, 2.302500009536743, 2.307300090789795, 2.2987000942230225, 2.299499988555908, 2.2890000343322754, 2.3108999729156494, 2.200200080871582, 1.8284000158309937, 2.2163000106811523, 1.3487000465393066, 1.7346999645233154, 1.8100999593734741, 1.3739999532699585, 1.6297999620437622, 1.5528000593185425, 1.8265000581741333, 1.2949999570846558, 2.316499948501587, 2.3164000511169434, 2.316200017929077, 2.3160998821258545, 2.3159000873565674, 2.3159000873565674, 2.3157999515533447, 2.3157999515533447, 2.315700054168701, 2.315700054168701, 2.315700054168701, 2.3155999183654785, 2.315500020980835, 2.315500020980835, 2.315500020980835, 2.3153998851776123, 2.3153998851776123, 2.3153998851776123, 2.3152999877929688, 2.3152999877929688, 2.315200090408325, 2.315200090408325, 2.315200090408325, 2.3150999546051025, 2.3150999546051025, 2.3150999546051025, 2.3150999546051025, 2.3150999546051025, 2.3148999214172363, 2.3148999214172363, 2.3148000240325928, 2.3145999908447266, 2.3143999576568604, 2.312700033187866, 2.314300060272217, 2.3127999305725098, 2.3101999759674072, 2.288300037384033, 2.2525999546051025, 2.2504000663757324, 2.17330002784729, 2.284899950027466, 2.214900016784668, 2.1503000259399414, 2.0100998878479004, 2.0481998920440674, 1.437000036239624, 1.3867000341415405, 1.7726000547409058, 1.8903000354766846, 1.469599962234497, 2.349100112915039, 2.3489999771118164, 2.3489999771118164, 2.3489999771118164, 2.34879994392395, 2.3487000465393066, 2.3487000465393066, 2.348400115966797, 2.348400115966797, 2.348299980163574, 2.348299980163574, 2.348299980163574, 2.348099946975708, 2.3480000495910645, 2.3480000495910645, 2.3480000495910645, 2.3480000495910645, 2.347899913787842, 2.3478000164031982, 2.3477001190185547, 2.3477001190185547, 2.3477001190185547, 2.347599983215332, 2.347599983215332, 2.3475000858306885, 2.347399950027466, 2.347399950027466, 2.347399950027466, 2.347399950027466, 2.347399950027466, 2.3464999198913574, 2.3473000526428223, 2.3408000469207764, 2.342600107192993, 2.3452999591827393, 2.3473000526428223, 2.344399929046631, 2.346400022506714, 2.308000087738037, 2.325200080871582, 2.1356000900268555, 2.1410999298095703, 2.1649999618530273, 1.9223999977111816, 1.9074000120162964, 2.1012001037597656, 1.6553000211715698, 1.4336999654769897, 1.7272000312805176, 1.4074000120162964]}, \"token.table\": {\"Topic\": [8, 1, 2, 3, 4, 6, 8, 1, 1, 3, 5, 6, 7, 8, 6, 3, 8, 1, 3, 10, 3, 4, 5, 6, 7, 6, 1, 2, 3, 5, 6, 9, 10, 2, 9, 8, 1, 2, 3, 4, 5, 6, 7, 9, 10, 1, 2, 3, 4, 5, 6, 7, 8, 9, 10, 10, 1, 3, 4, 1, 3, 7, 9, 6, 1, 2, 3, 4, 5, 6, 7, 9, 10, 6, 3, 1, 1, 2, 5, 5, 4, 5, 2, 3, 4, 5, 6, 7, 8, 9, 10, 2, 5, 7, 9, 1, 2, 8, 10, 7, 8, 1, 3, 5, 1, 2, 3, 4, 5, 6, 7, 8, 9, 10, 2, 6, 7, 5, 9, 1, 2, 3, 4, 5, 7, 8, 9, 10, 1, 2, 3, 4, 5, 6, 7, 8, 9, 10, 5, 2, 4, 5, 7, 9, 10, 6, 4, 5, 9, 7, 3, 7, 9, 10, 1, 2, 3, 4, 5, 6, 7, 8, 9, 10, 4, 10, 2, 8, 1, 7, 1, 2, 3, 4, 5, 6, 7, 8, 9, 10, 2, 3, 5, 6, 8, 9, 10, 8, 8, 1, 1, 2, 4, 7, 9, 10, 2, 3, 4, 5, 6, 7, 9, 10, 1, 1, 2, 3, 4, 5, 6, 7, 10, 2, 6, 9, 10, 1, 3, 2, 3, 5, 6, 7, 9, 10, 9, 2, 7, 5, 7, 1, 2, 3, 4, 5, 6, 7, 8, 9, 10, 4, 5, 6, 8, 4, 1, 2, 3, 5, 6, 4, 1, 5, 9, 2, 3, 10, 1, 2, 5, 8, 9, 10, 2, 5, 6, 8, 10, 1, 2, 4, 5, 6, 7, 8, 10, 1, 2, 3, 4, 5, 6, 7, 8, 10, 3, 6, 7, 8, 10, 1, 1, 3, 4, 7, 9, 10, 7, 4, 3, 7, 8, 3, 8, 9, 1, 2, 3, 4, 5, 6, 7, 8, 9, 10, 5, 1, 2, 3, 4, 5, 6, 7, 8, 9, 10, 1, 2, 4, 5, 6, 7, 8, 10, 1, 2, 3, 4, 5, 6, 7, 9, 10, 2, 1, 2, 3, 4, 5, 6, 8, 9, 10, 8, 5, 1, 3, 4, 6, 7, 1, 6, 7, 10, 1, 2, 3, 4, 5, 6, 7, 8, 9, 10, 2, 4, 9, 10, 1, 2, 3, 4, 5, 6, 7, 8, 9, 10, 7, 10, 10, 1, 2, 4, 7, 8, 10, 8, 3, 6, 7, 10, 1, 2, 3, 4, 5, 6, 7, 8, 9, 10, 2, 5, 1, 6, 9, 4, 1, 2, 3, 4, 5, 6, 7, 8, 9, 10, 6, 7, 8, 10, 2, 6, 1, 2, 4, 5, 7, 10, 3, 9, 10, 3, 5, 6, 7, 8, 1, 4, 6, 10, 1, 2, 3, 4, 5, 6, 7, 8, 9, 10, 2, 5, 7, 4, 1, 2, 3, 4, 5, 6, 7, 8, 9, 10, 1, 1, 2, 5, 7, 10, 5, 8, 6, 1, 8, 3, 1, 5, 6, 8, 3, 10, 9, 5, 1, 5, 10, 4, 3, 5, 8, 10, 4, 9, 8, 7, 10, 5, 1, 2, 4, 5, 10, 1, 2, 3, 5, 6, 7, 8, 9, 10, 5, 5, 10, 10, 8, 1, 2, 3, 4, 5, 6, 7, 9, 10, 9, 2, 4, 10, 1, 2, 5, 6, 6, 2, 5, 6, 7, 8, 10, 1, 2, 6, 8, 4, 1, 2, 3, 7, 8, 9, 10, 1, 2, 3, 5, 6, 7, 8, 9, 1, 2, 3, 4, 5, 8, 9, 10, 2, 3, 4, 5, 7, 8, 10, 1, 2, 3, 4, 5, 6, 7, 8, 9, 10, 2, 3, 6, 7, 8, 9, 10, 3, 4, 3, 4, 1, 2, 7, 8, 3, 4, 5, 7, 9, 10, 4, 9, 5, 4, 4, 1, 5, 8, 10, 1, 2, 3, 4, 5, 6, 7, 8, 9, 10, 9, 1, 2, 5, 8, 9, 10, 1, 2, 3, 10, 1, 2, 3, 5, 6, 9, 10, 1, 2, 4, 5, 6, 7, 9, 10, 2, 5, 2, 3, 5, 6, 8, 9, 10, 1, 2, 3, 5, 7, 10, 10, 1, 2, 3, 4, 5, 6, 7, 9, 10, 8, 1, 2, 3, 4, 5, 6, 7, 8, 10, 6, 2, 5, 6, 7, 8, 10, 1, 2, 3, 4, 5, 6, 7, 9, 10, 1, 5, 6, 7, 10, 1, 2, 3, 4, 5, 6, 7, 9, 10, 9, 4, 10, 1, 2, 3, 4, 5, 6, 7, 8, 9, 10, 5, 9, 6, 9, 1, 2, 4, 7, 9, 10, 7, 4, 7, 1, 3, 4, 5, 8, 9, 2, 3, 5, 6, 8, 9, 10, 3, 5, 9, 5, 5, 1, 3, 4, 9, 10, 1, 2, 3, 4, 5, 6, 7, 8, 9, 10, 8, 3, 8, 5, 6, 8, 9, 10, 1, 5, 6, 1, 2, 3, 10, 1, 2, 3, 4, 5, 6, 7, 8, 9, 10, 4, 8, 10, 5, 2, 4, 5, 7, 9, 10, 1, 3, 4, 5, 7, 8, 9, 10, 2, 4, 7, 9, 10, 4, 6, 8, 10, 2, 3, 7, 8, 10, 2, 6, 6, 9, 3, 5, 10, 2, 3, 5, 6, 7, 8, 9, 10, 1, 3, 5, 7, 8, 9, 1, 2, 5, 6, 10, 1, 2, 3, 4, 5, 6, 7, 8, 9, 10, 1, 2, 3, 4, 5, 6, 7, 8, 9, 10, 10, 1, 3, 10, 2, 4, 10, 4, 1, 3, 5, 7, 8, 5, 4, 7, 8, 3, 4, 10, 3, 2, 9, 1, 3, 4, 5, 10, 6, 1, 2, 3, 4, 5, 6, 7, 9, 10, 2, 1, 2, 5, 6, 8, 9, 10, 1, 2, 3, 4, 5, 6, 7, 8, 9, 10, 1, 3, 7, 10, 4, 1, 3, 7, 8, 2, 3, 2, 5, 6, 9, 2, 3, 4, 5, 6, 7, 8, 9, 1, 4, 7, 9, 3, 7, 9, 10, 1, 2, 3, 4, 5, 6, 7, 8, 9, 10, 2, 9, 1, 2, 3, 4, 5, 6, 7, 8, 9, 10, 7, 10, 5, 7, 8, 9, 1, 2, 3, 4, 5, 6, 7, 8, 9, 10, 7, 1, 2, 3, 4, 5, 6, 7, 8, 9, 10, 1, 2, 4, 5, 6, 8, 10, 1, 3, 5, 6, 7, 9, 10, 6, 8, 8, 1, 2, 3, 4, 5, 6, 7, 8, 9, 10, 2, 4, 5, 8, 9, 10, 1, 3, 4, 5, 6, 7, 8, 9, 10, 7, 5, 1, 3, 4, 6, 7, 8, 3, 5, 2, 6, 9, 4, 10, 6, 1, 5, 6, 8, 9, 10, 6, 10, 8, 1, 2, 3, 4, 5, 6, 7, 8, 9, 10, 2, 5, 3, 7, 1, 3, 4, 5, 6, 7, 8, 9, 10, 1, 2, 1, 8, 9, 6, 4, 2, 3, 5, 7, 8, 10, 1, 10, 1, 2, 4, 5, 6, 8, 9, 10, 1, 3, 5, 7, 8, 10, 1, 2, 9, 10, 6, 1, 2, 8, 10, 3, 1, 2, 8, 3, 3, 1, 3, 6, 7, 8, 10, 1, 6, 10, 1, 2, 3, 4, 5, 6, 7, 8, 9, 10, 7, 9, 7, 8, 2, 2, 7, 1, 2, 4, 5, 7, 8, 9, 10, 9, 1, 2, 3, 5, 6, 7, 8, 10, 2, 3, 4, 6, 10, 1, 3, 4, 7, 8, 9, 10, 1, 2, 3, 4, 5, 6, 7, 8, 9, 10, 2, 5, 6, 8, 9, 10, 1, 2, 3, 4, 9, 2, 4, 5, 7, 8, 10, 2, 8, 2, 9, 6, 7, 8, 9, 10, 2, 7, 10, 1, 7, 9, 10, 5, 8, 1, 2, 3, 4, 5, 6, 7, 8, 9, 10, 1, 4, 9, 2, 3, 5, 8, 9, 10, 7, 9, 1, 2, 3, 4, 5, 6, 7, 8, 9, 10, 7, 8, 3, 8, 2, 4, 5, 6, 7, 8, 10, 1, 2, 5, 6, 8, 9, 2, 5, 6, 9, 10, 4, 3, 1, 2, 3, 4, 5, 6, 7, 8, 9, 10, 2, 4, 5, 6, 10, 7, 6, 6, 1, 2, 3, 4, 5, 6, 7, 8, 9, 10, 1, 2, 3, 4, 5, 6, 7, 8, 9, 10, 2, 3, 4, 7, 8, 9, 2, 6, 7, 9, 3, 4, 5, 6, 7, 8, 10, 1, 2, 6, 1, 2, 4, 10, 8, 10, 7, 1, 2, 3, 4, 5, 6, 7, 8, 9, 10, 3, 1, 3, 4, 6, 9, 10, 3, 1, 4, 6, 7, 8, 9, 10, 10, 1, 2, 3, 4, 5, 6, 8, 10, 4, 10, 9, 10, 2, 4, 5, 1, 2, 8, 10, 1, 2, 3, 6, 9, 10, 4, 1, 2, 3, 4, 5, 6, 8, 10, 6, 5, 9, 1, 2, 3, 4, 5, 6, 7, 8, 9, 10, 1, 2, 3, 5, 8, 9, 10, 1, 2, 3, 4, 5, 7, 8, 9, 10, 8, 2, 3, 4, 6, 7, 8, 9, 10, 5, 6, 10, 9, 1, 2, 6, 7, 8, 9, 2, 4, 5, 10, 1, 2, 5, 6, 7, 8, 1, 2, 4, 5, 6, 8, 9, 2, 7, 8, 9, 1, 2, 3, 4, 5, 6, 7, 8, 9, 10, 2, 3, 4, 5, 6, 8, 9, 2, 3, 4, 5, 6, 7, 8, 9, 1, 2, 5, 6, 8, 10, 1, 5, 3, 5, 10, 3, 1, 2, 3, 4, 5, 6, 7, 9, 10, 2, 6, 6, 7, 10, 1, 4, 3, 2, 4, 6, 7, 10, 4, 4, 5, 8, 10, 6, 9, 2, 3, 4, 9, 1, 5, 8, 9, 1, 2, 3, 4, 6, 8, 9, 10, 6, 8, 1, 6, 8, 10, 1, 2, 5, 8, 10, 10, 9, 4, 5, 9, 8, 7, 10, 9, 2, 6, 7, 10, 9, 1, 6, 9, 2, 3, 3, 2, 4, 5, 6, 8, 9, 4, 9, 6, 1, 2, 3, 4, 5, 6, 7, 8, 9, 10, 5, 1, 2, 3, 4, 5, 6, 7, 8, 9, 10, 7, 10, 2, 3, 4, 5, 6, 8, 9, 10, 1, 6, 8, 9, 10, 1, 2, 3, 4, 5, 7, 8, 10, 4, 3, 1, 2, 4, 6, 7, 9, 10, 1, 2, 3, 4, 6, 8, 9, 10, 5, 2, 2, 3, 4, 5, 7, 10, 1, 3, 4, 6, 7, 1, 10, 1, 7, 9, 4, 10, 3, 3, 1, 2, 3, 4, 5, 6, 8, 9, 10, 1, 2, 4, 5, 7, 9, 10, 3, 6, 1, 2, 3, 4, 5, 6, 7, 8, 9, 10, 1, 2, 3, 4, 5, 6, 7, 8, 9, 10, 1, 2, 3, 4, 5, 6, 7, 8, 9, 10, 8, 1, 2, 3, 4, 5, 6, 7, 8, 9, 10, 5, 10, 6, 1, 9, 5, 7, 6, 1, 2, 3, 4, 5, 6, 7, 8, 9, 10, 9, 1, 5, 6, 7, 8, 9, 10, 1, 2, 3, 4, 5, 6, 7, 8, 10, 1, 2, 3, 4, 5, 6, 7, 8, 9, 10, 10, 1, 2, 3, 4, 5, 6, 7, 8, 9, 10, 2, 1, 7, 1, 2, 3, 4, 6, 7, 8, 9, 10, 8, 1, 2, 3, 4, 5, 6, 7, 8, 9, 10, 1, 2, 3, 4, 5, 6, 7, 8, 9, 10, 5, 10, 2, 3, 4, 10, 6, 9, 2, 1, 2, 4, 5, 6, 7, 8, 9, 10, 6, 9, 1, 8, 2, 3, 4, 9, 1, 2, 4, 5, 6, 7, 8, 9, 10, 1, 2, 3, 7, 8, 9, 10, 1, 2, 3, 4, 5, 6, 7, 8, 9, 10, 1, 2, 3, 4, 5, 6, 7, 8, 9, 10, 1, 9, 6, 7, 1, 3, 4, 5, 6, 7, 8, 9, 10, 8, 1, 2, 3, 4, 6, 7, 8, 9, 10, 1, 2, 3, 4, 5, 6, 7, 8, 9, 10, 2, 3, 4, 5, 6, 8, 9, 10, 4], \"Freq\": [0.9975594878196716, 0.0004591809993144125, 0.002755085937678814, 0.0004591809993144125, 0.9950451850891113, 0.0004591809993144125, 0.0004591809993144125, 0.9985601305961609, 0.9940391778945923, 0.0011798684718087316, 0.002359736943617463, 0.0011798684718087316, 0.0005899342359043658, 0.0005899342359043658, 0.997904360294342, 0.9963924884796143, 0.0019051481503993273, 0.9974749684333801, 0.9991241693496704, 0.9965162873268127, 0.0031160626094788313, 0.0020773750729858875, 0.0010386875364929438, 0.0020773750729858875, 0.9909079074859619, 0.9974655508995056, 0.0004016776802018285, 0.000803355360403657, 0.000803355360403657, 0.0004016776802018285, 0.0020083882845938206, 0.004820132162421942, 0.990537166595459, 0.9974011182785034, 0.9975918531417847, 0.9973843693733215, 0.004584586713463068, 0.5459825992584229, 0.05209757760167122, 0.07668763399124146, 0.07710441946983337, 0.05668216571211815, 0.06335065513849258, 0.05626538395881653, 0.06710167974233627, 0.09542597830295563, 0.07841204851865768, 0.07656270265579224, 0.052521273493766785, 0.4308963716030121, 0.0480828583240509, 0.06472692638635635, 0.005548022221773863, 0.07249415665864944, 0.07508323341608047, 0.9976915121078491, 0.0004054922901559621, 0.9987275004386902, 0.0004054922901559621, 0.9952470660209656, 0.0026777947787195444, 0.0008925982401706278, 0.0004462991200853139, 0.99878990650177, 0.0005721031920984387, 0.002288412768393755, 0.9365329146385193, 0.002288412768393755, 0.0005721031920984387, 0.005721032153815031, 0.005148928612470627, 0.002288412768393755, 0.044624049216508865, 0.997042179107666, 0.9968827962875366, 0.9973468780517578, 0.0007670940831303596, 0.0007670940831303596, 0.9979893565177917, 0.9988162517547607, 0.9976997375488281, 0.9978771805763245, 0.02663603611290455, 0.82501620054245, 0.0021028451155871153, 0.009112328290939331, 0.04345879703760147, 0.007359957322478294, 0.0028037934098392725, 0.08271190524101257, 0.00035047417622990906, 0.9971258044242859, 0.0006181809003464878, 0.0006181809003464878, 0.0006181809003464878, 0.9959501624107361, 0.0007516604964621365, 0.0007516604964621365, 0.001503320992924273, 0.9973783493041992, 0.9973082542419434, 0.000370109366485849, 0.998555064201355, 0.000370109366485849, 0.06653893738985062, 0.0728059709072113, 0.06181931123137474, 0.05516541749238968, 0.05949818715453148, 0.0655331164598465, 0.4586544334888458, 0.04147077724337578, 0.060581378638744354, 0.05795076861977577, 0.9983789324760437, 0.9969074130058289, 0.9977591633796692, 0.001061240560375154, 0.9975661039352417, 0.0001899494236567989, 0.0001899494236567989, 0.0005698482855223119, 0.0001899494236567989, 0.0001899494236567989, 0.9981842637062073, 0.0001899494236567989, 0.0003798988473135978, 0.0001899494236567989, 0.07650838047266006, 0.07412812113761902, 0.06154674291610718, 0.07548826932907104, 0.06426703929901123, 0.06851750612258911, 0.06477709859609604, 0.057126257568597794, 0.39410316944122314, 0.06324692815542221, 0.9965710639953613, 0.0006786837475374341, 0.0006786837475374341, 0.028504718095064163, 0.967124342918396, 0.002036051359027624, 0.0006786837475374341, 0.9974589347839355, 0.9974304437637329, 0.0007852496346458793, 0.9972670674324036, 0.99739009141922, 0.9965578317642212, 0.0007959727081470191, 0.0015919454162940383, 0.0007959727081470191, 0.002787024714052677, 0.0013935123570263386, 0.07329875230789185, 0.04905163496732712, 0.007246264256536961, 0.8310908079147339, 0.0033444296568632126, 0.001950917299836874, 0.0016722148284316063, 0.02842765301465988, 0.996050238609314, 0.998106837272644, 0.9974089860916138, 0.0009463083115406334, 0.996837854385376, 0.9968595504760742, 0.011697312816977501, 0.00694527942687273, 0.07128049433231354, 0.0021932460367679596, 0.06762509047985077, 0.02156691998243332, 0.09248187392950058, 0.07237712293863297, 0.0021932460367679596, 0.6517596244812012, 0.0030495203100144863, 0.0003388355835340917, 0.9907552599906921, 0.0003388355835340917, 0.0044048624113202095, 0.0003388355835340917, 0.0006776711670681834, 0.9966121315956116, 0.9980670809745789, 0.9978916645050049, 0.9971300959587097, 0.0004402340273372829, 0.0008804680546745658, 0.0004402340273372829, 0.0004402340273372829, 0.0004402340273372829, 0.0015841054264456034, 0.778323769569397, 0.0005280351615510881, 0.11247148364782333, 0.024817651137709618, 0.02745782770216465, 0.0010560703231021762, 0.05333155021071434, 0.9977246522903442, 0.0021065117325633764, 0.0021065117325633764, 0.011234728619456291, 0.003510852809995413, 0.0007021705387160182, 0.9661867022514343, 0.004213023465126753, 0.009830388240516186, 0.0006787240272387862, 0.0006787240272387862, 0.9970455765724182, 0.0006787240272387862, 0.9966049194335938, 0.9985668063163757, 0.00032380799530074, 0.8920910358428955, 0.0009714240441098809, 0.0009714240441098809, 0.001619040034711361, 0.00259046396240592, 0.10102809965610504, 0.9978922605514526, 0.997066855430603, 0.9967119693756104, 0.004758588038384914, 0.9929587244987488, 0.08134844154119492, 0.06872929632663727, 0.013745858334004879, 0.0761655792593956, 0.07548955082893372, 0.0615183524787426, 0.44550102949142456, 0.050701938569545746, 0.06895463913679123, 0.05768753960728645, 0.9875044822692871, 0.0007733003003522754, 0.0007733003003522754, 0.009279603138566017, 0.9989826679229736, 0.04923516884446144, 0.005470574367791414, 0.9331237077713013, 0.0007815106073394418, 0.009378127753734589, 0.9976963400840759, 0.9983657598495483, 0.9970440864562988, 0.9983358979225159, 0.9980941414833069, 0.0006377598037943244, 0.0006377598037943244, 0.0010780737502500415, 0.04743524640798569, 0.0005390368751250207, 0.0005390368751250207, 0.8457488417625427, 0.10457315295934677, 0.00030919499113224447, 0.9263482093811035, 0.00030919499113224447, 0.07173323631286621, 0.000927584944292903, 0.0033620677422732115, 0.0033620677422732115, 0.030258608981966972, 0.12036202102899551, 0.004034481011331081, 0.001344827120192349, 0.005379308480769396, 0.8304307460784912, 0.0004349430382717401, 0.09177298098802567, 0.0034795443061739206, 0.010003689676523209, 0.05915225297212601, 0.6919943690299988, 0.06263180077075958, 0.011308519169688225, 0.06872100383043289, 0.001369661302305758, 0.008217968046665192, 0.000684830651152879, 0.9046612977981567, 0.08354934304952621, 0.9968245029449463, 0.0012076807906851172, 0.00040256025386042893, 0.9939212799072266, 0.002817921806126833, 0.0012076807906851172, 0.9964715838432312, 0.9973302483558655, 0.9983590841293335, 0.000739597249776125, 0.9984562397003174, 0.0003697986248880625, 0.997707724571228, 0.9969976544380188, 0.0014947490999475121, 0.09247513115406036, 0.07215093076229095, 0.06503745168447495, 0.061785582453012466, 0.07398010790348053, 0.061379097402095795, 0.06889905780553818, 0.35994166135787964, 0.07682549208402634, 0.06727311760187149, 0.9969893097877502, 0.030346348881721497, 0.09740199148654938, 0.057755954563617706, 0.758658766746521, 0.0009789145551621914, 0.00489457231014967, 0.04503006860613823, 0.0014683717163279653, 0.002447286155074835, 0.0009789145551621914, 0.000984047306701541, 0.0004920236533507705, 0.012300590984523296, 0.9604301452636719, 0.009348449297249317, 0.01525273360311985, 0.0004920236533507705, 0.0004920236533507705, 0.5681256651878357, 0.0013877031160518527, 0.047736987471580505, 0.08270710706710815, 0.06771991401910782, 0.03136209025979042, 0.08770283311605453, 0.046626824885606766, 0.06660974770784378, 0.9973813891410828, 0.997819185256958, 0.07567832618951797, 0.0012305418495088816, 0.005537438206374645, 0.01661231555044651, 0.11444038897752762, 0.004922167398035526, 0.0018458127742633224, 0.7795482277870178, 0.9979336857795715, 0.9974505305290222, 0.0006838239496573806, 0.0013676478993147612, 0.0006838239496573806, 0.0006838239496573806, 0.9963314533233643, 0.0009361659758724272, 0.9965487122535706, 0.0004680829879362136, 0.0014042489929124713, 0.44181227684020996, 0.06212189421057701, 0.06195216253399849, 0.06551653146743774, 0.0675533190369606, 0.06297055631875992, 0.06178243085741997, 0.06415867805480957, 0.05906672030687332, 0.053126100450754166, 0.0004976904601790011, 0.9943854808807373, 0.0004976904601790011, 0.003981523681432009, 0.6647799015045166, 0.0013643507845699787, 0.09516346454620361, 0.04229487478733063, 0.0003410876961424947, 0.0006821753922849894, 0.0702640637755394, 0.0037519645411521196, 0.06480666249990463, 0.05627946928143501, 0.9971131682395935, 0.9966960549354553, 0.9967235922813416, 0.00331699475646019, 0.011941181495785713, 0.024545760825276375, 0.9552944898605347, 0.0013267978793010116, 0.002653595758602023, 0.9971474409103394, 0.9908243417739868, 0.00277024507522583, 0.000923415063880384, 0.00277024507522583, 0.07242152094841003, 0.05330518260598183, 0.5018039345741272, 0.0590033233165741, 0.055143292993307114, 0.03271835297346115, 0.05881951004266739, 0.040622226893901825, 0.07425963133573532, 0.052018504589796066, 0.0007181681576184928, 0.9975355863571167, 0.9986838698387146, 0.000503622752148658, 0.000503622752148658, 0.9965429902076721, 0.0010220047552138567, 0.0005110023776069283, 0.03985818848013878, 0.02963813953101635, 0.032193150371313095, 0.051611240953207016, 0.001533007132820785, 0.0005110023776069283, 0.7639485597610474, 0.07920537143945694, 0.9951978325843811, 0.0008646375499665737, 0.0017292750999331474, 0.0008646375499665737, 0.9981969594955444, 0.9981122612953186, 0.004386269021779299, 0.0029241794254630804, 0.989834725856781, 0.0007310448563657701, 0.0007310448563657701, 0.0007310448563657701, 0.9982291460037231, 0.0006046209600754082, 0.9987712502479553, 0.0013274422381073236, 0.00044248075573705137, 0.0013274422381073236, 0.9964666366577148, 0.00044248075573705137, 0.0006198015180416405, 0.0006198015180416405, 0.0006198015180416405, 0.9972606301307678, 0.0003036453854292631, 0.0006072907708585262, 0.002429163083434105, 0.0012145815417170525, 0.0009109360980801284, 0.9832037091255188, 0.0009109360980801284, 0.0018218721961602569, 0.0015182269271463156, 0.0072874887846410275, 0.00118854024913162, 0.00237708049826324, 0.9948081970214844, 0.9987136721611023, 0.0493244007229805, 0.05639155954122543, 0.05522584542632103, 0.5327326655387878, 0.055007271468639374, 0.05522584542632103, 0.05661013349890709, 0.042184386402368546, 0.040217235684394836, 0.05719299241900444, 0.9982115030288696, 0.9939026832580566, 0.0006835644016973674, 0.0013671288033947349, 0.0027342576067894697, 0.0006835644016973674, 0.9979812502861023, 0.9975056648254395, 0.9973739385604858, 0.9984135031700134, 0.0006810460472479463, 0.9985998868942261, 0.0005080144619569182, 0.9982483386993408, 0.0005080144619569182, 0.0005080144619569182, 0.9973679184913635, 0.9982218146324158, 0.997329592704773, 0.9965848326683044, 0.0009002688457258046, 0.0009002688457258046, 0.9965975880622864, 0.9972764849662781, 0.0006538176676258445, 0.0006538176676258445, 0.0006538176676258445, 0.9970719218254089, 0.9978687167167664, 0.0009163165232166648, 0.9987779855728149, 0.9968574047088623, 0.0009325139690190554, 0.9965964555740356, 0.001971437828615308, 0.0006571459816768765, 0.0006571459816768765, 0.001314291963353753, 0.9949190020561218, 0.04390113800764084, 0.05674455687403679, 0.0719231441617012, 0.0632830262184143, 0.0632830262184143, 0.06795335561037064, 0.503228485584259, 0.07682698965072632, 0.05300828814506531, 0.9976831674575806, 0.9963838458061218, 0.0011426419951021671, 0.9969395995140076, 0.9968622922897339, 0.06433150917291641, 0.0022493533324450254, 0.017994826659560204, 0.06748060137033463, 0.09807180613279343, 0.0004498706548474729, 0.008547542616724968, 0.6523124575614929, 0.08862452208995819, 0.9981743693351746, 0.00029791623819619417, 0.9989131689071655, 0.00029791623819619417, 0.9988691806793213, 0.0010911017889156938, 0.0010911017889156938, 0.9950847625732422, 0.9978410601615906, 0.007179034873843193, 0.0013052790891379118, 0.0006526395445689559, 0.008484314195811749, 0.9724329113960266, 0.009136953391134739, 0.001060872687958181, 0.9972203373908997, 0.0007639222894795239, 0.997682511806488, 0.9987733364105225, 0.00021956743148621172, 0.9979339241981506, 0.0008782697259448469, 0.00021956743148621172, 0.00021956743148621172, 0.00021956743148621172, 0.00021956743148621172, 0.04631654545664787, 0.0817587673664093, 0.0024165152572095394, 0.025373412296175957, 0.8373225927352905, 0.0028192680329084396, 0.0028192680329084396, 0.0012082576286047697, 0.000564815301913768, 0.001129630603827536, 0.000564815301913768, 0.000564815301913768, 0.001129630603827536, 0.9856027364730835, 0.001129630603827536, 0.00960186030715704, 0.002581499284133315, 0.001720999600365758, 0.001720999600365758, 0.001720999600365758, 0.9740857481956482, 0.002581499284133315, 0.016349496319890022, 0.06367970257997513, 0.036348145455121994, 0.002535917330533266, 0.6415870785713196, 0.013524891808629036, 0.01831495761871338, 0.08143112063407898, 0.05973494052886963, 0.07466867566108704, 0.0078895203769207, 0.11751598119735718, 0.0027847387827932835, 0.0005569477798417211, 0.0005569477798417211, 0.07073237001895905, 0.0005569477798417211, 0.8064603805541992, 0.0028096300084143877, 0.9946090579032898, 0.0006768200546503067, 0.9983096122741699, 0.9973146915435791, 0.9975084066390991, 0.0008930245530791581, 0.9967314600944519, 0.09613622725009918, 0.0025843072216957808, 0.004134891554713249, 0.838866114616394, 0.05478731170296669, 0.0025843072216957808, 0.9987648725509644, 0.9980174899101257, 0.9976045489311218, 0.9988936185836792, 0.9969908595085144, 0.9953351020812988, 0.0009845055174082518, 0.0009845055174082518, 0.0009845055174082518, 0.49660539627075195, 0.060583606362342834, 0.05765577405691147, 0.002477396512404084, 0.06779057532548904, 0.06125926226377487, 0.06373665481805801, 0.06508796662092209, 0.08197930455207825, 0.04324183240532875, 0.9988685250282288, 0.0007640504045411944, 0.0022921510972082615, 0.004584302194416523, 0.9909733533859253, 0.0007640504045411944, 0.0007640504045411944, 0.9968168139457703, 0.0009889055509120226, 0.0009889055509120226, 0.0009889055509120226, 0.0007401315378956497, 0.008881578221917152, 0.010361840948462486, 0.8385690450668335, 0.0029605261515825987, 0.01628289371728897, 0.12212169915437698, 0.010298147797584534, 0.0018723906250670552, 0.0004680976562667638, 0.006085269618779421, 0.08753426373004913, 0.0004680976562667638, 0.8655125498771667, 0.027617761865258217, 0.9984419345855713, 0.9973468780517578, 0.002161768963560462, 0.00036029479815624654, 0.9893695712089539, 0.002161768963560462, 0.00036029479815624654, 0.0018014740198850632, 0.0036029480397701263, 0.0020647167693823576, 0.0012388300383463502, 0.0004129433655180037, 0.9848698973655701, 0.0053682634606957436, 0.005781206768006086, 0.9970771670341492, 0.7913854718208313, 0.021357595920562744, 0.014719423837959766, 0.020203130319714546, 0.03867456316947937, 0.009812949225306511, 0.002597545273602009, 0.0513736754655838, 0.04964197799563408, 0.9987188577651978, 0.005155092570930719, 0.00147288350854069, 0.001104662660509348, 0.8329156637191772, 0.0036822089459747076, 0.07327595353126526, 0.000736441754270345, 0.00147288350854069, 0.08027215301990509, 0.998501718044281, 0.9182503819465637, 0.001517769182100892, 0.0050592306070029736, 0.007082922849804163, 0.006071076728403568, 0.061722613871097565, 0.0729835107922554, 0.062106162309646606, 0.06877292692661285, 0.07965027540922165, 0.0996505618095398, 0.06280792504549026, 0.0936855673789978, 0.07087822258472443, 0.38947930932044983, 0.9969684481620789, 0.0009467886993661523, 0.0006486664642579854, 0.9963516592979431, 0.0012973329285159707, 0.06537271291017532, 0.0020158987026661634, 0.05414127930998802, 0.0037438117433339357, 0.00028798551647923887, 0.7893683314323425, 0.002303884131833911, 0.08207587152719498, 0.0005759710329584777, 0.9980704188346863, 0.9973967671394348, 0.9983999729156494, 0.44581565260887146, 0.07072080671787262, 0.0632416307926178, 0.06314695626497269, 0.06172686442732811, 0.06712322682142258, 0.05765591934323311, 0.050082072615623474, 0.06191620975732803, 0.05869732424616814, 0.9978018999099731, 0.9980290532112122, 0.0006949162925593555, 0.9978998303413391, 0.037460070103406906, 0.004034161102026701, 0.0028815437108278275, 0.8097137808799744, 0.0737675204873085, 0.07203859090805054, 0.996560275554657, 0.0009649111307226121, 0.9967532157897949, 0.9821435213088989, 0.0012087920913472772, 0.006648356094956398, 0.0012087920913472772, 0.008461544290184975, 0.0006043960456736386, 0.0012241550721228123, 0.052638668566942215, 0.0012241550721228123, 0.0006120775360614061, 0.0030603876803070307, 0.9370907545089722, 0.0030603876803070307, 0.0008019230444915593, 0.0008019230444915593, 0.99679034948349, 0.9961983561515808, 0.9970057010650635, 0.9976990222930908, 0.0010179122909903526, 0.0030537366401404142, 0.9924644231796265, 0.0010179122909903526, 0.07081586122512817, 0.06640437990427017, 0.06268944591283798, 0.05990325286984444, 0.06582392007112503, 0.06965494155883789, 0.06721702218055725, 0.05734923854470253, 0.4144469201564789, 0.06582392007112503, 0.998174250125885, 0.0005091879866085947, 0.9985176920890808, 0.002245428040623665, 0.0016840710304677486, 0.9941632151603699, 0.0011227140203118324, 0.0005613570101559162, 0.9964130520820618, 0.0008748139371164143, 0.0008748139371164143, 0.0018939041765406728, 0.02083294652402401, 0.0009469520882703364, 0.975360631942749, 0.36185967922210693, 0.06917905807495117, 0.08345025777816772, 0.0732911005616188, 0.07183978706598282, 0.06264816969633102, 0.06676020473241806, 0.06216439604759216, 0.08441779762506485, 0.06458324193954468, 0.0007971104932948947, 0.997185230255127, 0.0007971104932948947, 0.9970985651016235, 0.9969558119773865, 0.0007660052506253123, 0.00038300262531265616, 0.0007660052506253123, 0.0007660052506253123, 0.00038300262531265616, 0.004554117098450661, 0.8495498895645142, 0.0012420320417732, 0.027324704453349113, 0.010350266471505165, 0.0012420320417732, 0.028152724727988243, 0.07700598239898682, 0.982480525970459, 0.003128918819129467, 0.003128918819129467, 0.009386756457388401, 0.0007822297047823668, 0.007762569468468428, 0.7881993651390076, 0.11763278394937515, 0.08538826555013657, 0.0009819301776587963, 0.013419712893664837, 0.9835667610168457, 0.001309240236878395, 0.00032731005921959877, 0.000960664707235992, 0.9971699714660645, 0.9983022212982178, 0.9977673888206482, 0.9957597851753235, 0.002655359450727701, 0.0008851198363117874, 0.9912952780723572, 0.0020550787448883057, 0.0013077774783596396, 0.0022419041488319635, 0.00018682534573599696, 0.0024287295527756214, 0.00018682534573599696, 0.0003736506914719939, 0.8551084995269775, 0.008951549418270588, 0.13238869607448578, 0.00047113417531363666, 0.002355670789256692, 0.00047113417531363666, 0.0006698690704070032, 0.0006698690704070032, 0.0006698690704070032, 0.9954254627227783, 0.0020096073858439922, 0.5057100653648376, 0.05434165522456169, 0.05241936445236206, 0.05840803682804108, 0.05463739112019539, 0.07008964568376541, 0.057003285735845566, 0.042807914316654205, 0.05966491624712944, 0.04495200887322426, 0.11920616030693054, 0.5548304915428162, 0.025269508361816406, 0.07992855459451675, 0.0002746685640886426, 0.057405732572078705, 0.0021973485127091408, 0.02746685780584812, 0.06811780482530594, 0.06537111848592758, 0.9984521865844727, 0.18653389811515808, 0.0011995749082416296, 0.8109126091003418, 0.9974950551986694, 0.9974684715270996, 0.9975858926773071, 0.9971822500228882, 0.0005347704282030463, 0.001604311284609139, 0.009625867940485477, 0.0005347704282030463, 0.9871861934661865, 0.9981468915939331, 0.008667407557368279, 0.9896603226661682, 0.9981569647789001, 0.9973536729812622, 0.0007018674514256418, 0.0007018674514256418, 0.9980674386024475, 0.9971706867218018, 0.0008407846908085048, 0.9977084994316101, 0.9982283115386963, 0.9969399571418762, 0.0010246043093502522, 0.0010246043093502522, 0.9970797300338745, 0.10121281445026398, 0.5184891819953918, 0.029509618878364563, 0.00673026405274868, 0.06005466356873512, 0.06885577738285065, 0.0758448988199234, 0.07532718032598495, 0.06341979652643204, 0.998469889163971, 0.0005338076152838767, 0.028825610876083374, 0.003202845575287938, 0.700355589389801, 0.10782913863658905, 0.0827401801943779, 0.07686829566955566, 0.06641408801078796, 0.06618387997150421, 0.06411203742027283, 0.06629898399114609, 0.40803802013397217, 0.0717087984085083, 0.0672198012471199, 0.05501894652843475, 0.07608268409967422, 0.058932431042194366, 0.9949935078620911, 0.001954800682142377, 0.0009774003410711884, 0.0009774003410711884, 0.9993948936462402, 0.997029185295105, 0.9984304904937744, 0.000469187245471403, 0.000469187245471403, 0.9971212148666382, 0.9972993731498718, 0.9964410662651062, 0.0017400018405169249, 0.0005800006329081953, 0.0005800006329081953, 0.0005655782297253609, 0.002545102033764124, 0.005372993182390928, 0.02403707429766655, 0.9343352317810059, 0.022623129189014435, 0.002545102033764124, 0.007635306101292372, 0.005744262132793665, 0.013950351625680923, 0.0073854802176356316, 0.9707803130149841, 0.0015325770946219563, 0.0007662885473109782, 0.9946425557136536, 0.0015325770946219563, 0.7286185622215271, 0.048741210252046585, 0.007967312820255756, 0.008279756642878056, 0.03952412307262421, 0.040617674589157104, 0.0076548694632947445, 0.003905545687302947, 0.052959199994802475, 0.061707619577646255, 0.9972662925720215, 0.0008465758292004466, 0.09569811820983887, 0.06635638326406479, 0.06941132992506027, 0.05775988847017288, 0.38108739256858826, 0.06685369461774826, 0.06216470152139664, 0.06884296983480453, 0.06862983107566833, 0.06330142915248871, 0.9976563453674316, 0.9975573420524597, 0.0017857870552688837, 0.9937905073165894, 0.0008928935276344419, 0.0026786806993186474, 0.09441787749528885, 0.026447582989931107, 0.06426762789487839, 0.0015868550399318337, 0.003438185900449753, 0.06241629645228386, 0.08727702498435974, 0.5588374733924866, 0.0388779491186142, 0.06241629645228386, 0.9972964525222778, 0.06653401255607605, 0.07342503219842911, 0.06724687665700912, 0.4049069881439209, 0.06059347465634346, 0.07176168262958527, 0.06891022622585297, 0.06392017751932144, 0.06035585328936577, 0.06273206323385239, 0.0004394778225105256, 0.0008789556450210512, 0.0004394778225105256, 0.0008789556450210512, 0.0008789556450210512, 0.0004394778225105256, 0.9958567023277283, 0.9825006127357483, 0.009196572937071323, 0.0025546036195009947, 0.00025546038523316383, 0.0005109207704663277, 0.004342826548963785, 0.0005109207704663277, 0.9965917468070984, 0.9980708956718445, 0.998374342918396, 0.08201531320810318, 0.09409290552139282, 0.3488459587097168, 0.0603879876434803, 0.06937596946954727, 0.0713420882821083, 0.0603879876434803, 0.08370056003332138, 0.07892569154500961, 0.05083825811743736, 0.0008988542249426246, 0.027864480391144753, 0.0008988542249426246, 0.0008988542249426246, 0.9680659770965576, 0.0008988542249426246, 0.000494887528475374, 0.0029693252872675657, 0.013856850564479828, 0.09749284386634827, 0.06878937035799026, 0.0772024542093277, 0.07918200641870499, 0.1237218827009201, 0.5359631776809692, 0.9982543587684631, 0.9977421164512634, 0.0004435002338141203, 0.0004435002338141203, 0.0008870004676282406, 0.0022175011690706015, 0.9814659953117371, 0.01419200748205185, 0.9974250793457031, 0.0008539598202332854, 0.0009137132437899709, 0.9913788437843323, 0.005482279229909182, 0.9957468509674072, 0.0011673468397930264, 0.9970832467079163, 0.0035937740467488766, 0.9703190326690674, 0.0053906613029539585, 0.0017968870233744383, 0.017070427536964417, 0.0008984435116872191, 0.9976129531860352, 0.9970072507858276, 0.9974537491798401, 0.06713446974754333, 0.04768120124936104, 0.04097603261470795, 0.03832707554101944, 0.03915487602353096, 0.043211087584495544, 0.00902300514280796, 0.6136471629142761, 0.04735008254647255, 0.05339301377534866, 0.9980705380439758, 0.9975249767303467, 0.9977686405181885, 0.9960865378379822, 0.007567870430648327, 0.00039830897003412247, 0.004381398670375347, 0.0007966179400682449, 0.04580553248524666, 0.8515846133232117, 0.002389853820204735, 0.06850914657115936, 0.017923904582858086, 0.0016338841523975134, 0.9966692924499512, 0.9973272681236267, 0.9974037408828735, 0.0008353465236723423, 0.9978940486907959, 0.9972489476203918, 0.0006057763239368796, 0.0054519870318472385, 0.0006057763239368796, 0.0066635399125516415, 0.9819634556770325, 0.004240434151142836, 0.997585117816925, 0.997108519077301, 0.006654124706983566, 0.0005786195397377014, 0.0002893097698688507, 0.9879928827285767, 0.0017358586192131042, 0.0011572390794754028, 0.0002893097698688507, 0.0011572390794754028, 0.0003764656139537692, 0.0007529312279075384, 0.03199957683682442, 0.8873294591903687, 0.0007529312279075384, 0.07830484956502914, 0.002526987111195922, 0.993948221206665, 0.0016846579965204, 0.0008423289982602, 0.9975467920303345, 0.000366905820555985, 0.9983507394790649, 0.00073381164111197, 0.9984838962554932, 0.9984433650970459, 0.0005155589315108955, 0.001031117863021791, 0.9976065158843994, 0.9977485537528992, 0.9979515075683594, 0.9178048372268677, 0.025940649211406708, 0.001235269010066986, 0.019146669656038284, 0.033352263271808624, 0.0018529035151004791, 0.000598926329985261, 0.000598926329985261, 0.9978112578392029, 0.08596616983413696, 0.07569216936826706, 0.07003097981214523, 0.0861758440732956, 0.06122468784451485, 0.06688587367534637, 0.3503645658493042, 0.060805339366197586, 0.07338576018810272, 0.06961163133382797, 0.9977346062660217, 0.9982581734657288, 0.9966921806335449, 0.9972031712532043, 0.9977518320083618, 0.9978273510932922, 0.9967622756958008, 0.00040257786167785525, 0.9951725006103516, 0.00040257786167785525, 0.0012077336432412267, 0.0012077336432412267, 0.00040257786167785525, 0.00040257786167785525, 0.0008051557233557105, 0.9975891709327698, 0.8945654630661011, 0.0019560467917472124, 0.053465280681848526, 0.006520156282931566, 0.02477659471333027, 0.0006520156166516244, 0.006520156282931566, 0.011736281216144562, 0.0016936593456193805, 0.0008468296728096902, 0.0008468296728096902, 0.994178056716919, 0.0016936593456193805, 0.004277973435819149, 0.0005347466794773936, 0.9924898743629456, 0.0005347466794773936, 0.0005347466794773936, 0.0010694933589547873, 0.0005347466794773936, 0.0007098626811057329, 0.0010647940216585994, 0.0007098626811057329, 0.0007098626811057329, 0.00035493134055286646, 0.00035493134055286646, 0.9934528470039368, 0.00035493134055286646, 0.0017746567027643323, 0.0007098626811057329, 0.00043206228292547166, 0.00043206228292547166, 0.00043206228292547166, 0.9976317882537842, 0.00043206228292547166, 0.00043206228292547166, 0.9728090167045593, 0.0012791703920811415, 0.021106310188770294, 0.0006395851960405707, 0.002558340784162283, 0.0004712079535238445, 0.9933063387870789, 0.0032984556164592505, 0.0014136238023638725, 0.0004712079535238445, 0.0004712079535238445, 0.9967252016067505, 0.001126243150793016, 0.9972877502441406, 0.9988587498664856, 0.0009184644441120327, 0.0009184644441120327, 0.9946969747543335, 0.0009184644441120327, 0.0009184644441120327, 0.006500861141830683, 0.0005000662058591843, 0.9921314120292664, 0.9972839951515198, 0.002826562151312828, 0.0018843747675418854, 0.9940077066421509, 0.9961659908294678, 0.001923100440762937, 0.09029659628868103, 0.07292452454566956, 0.07311543077230453, 0.06252036988735199, 0.08180146664381027, 0.06490664929151535, 0.33970993757247925, 0.08218327164649963, 0.07130186259746552, 0.06118405982851982, 0.9968655109405518, 0.001060495269484818, 0.997845470905304, 0.9975084066390991, 0.0006539690075442195, 0.0006539690075442195, 0.9829154014587402, 0.012425410561263561, 0.002615876030176878, 0.0016935084713622928, 0.9966297149658203, 0.07368400692939758, 0.07136586308479309, 0.07120028138160706, 0.06557048857212067, 0.40219879150390625, 0.06507374346256256, 0.06623281538486481, 0.056297894567251205, 0.06689514219760895, 0.06176210194826126, 0.9968833327293396, 0.9973783493041992, 0.9982370138168335, 0.0005691202823072672, 0.0006050876108929515, 0.9723758101463318, 0.0060508763417601585, 0.001210175221785903, 0.0006050876108929515, 0.0006050876108929515, 0.0181526280939579, 0.0019482072675600648, 0.007792829070240259, 0.0009741036337800324, 0.0004870518168900162, 0.9877410531044006, 0.0009741036337800324, 0.0019171916646882892, 0.8774346709251404, 0.11183618009090424, 0.0070297024212777615, 0.0012781277764588594, 0.9969245791435242, 0.997589647769928, 0.0004943992826156318, 0.0004943992826156318, 0.010876784101128578, 0.0009887985652312636, 0.7856004238128662, 0.010876784101128578, 0.0004943992826156318, 0.09294705837965012, 0.09789105504751205, 0.0004943992826156318, 0.000701574725098908, 0.000701574725098908, 0.9927282929420471, 0.001403149450197816, 0.0035078737419098616, 0.9964438080787659, 0.9976328015327454, 0.9988101720809937, 0.0851786732673645, 0.3278856575489044, 0.09353244304656982, 0.06966451555490494, 0.07637736946344376, 0.0802559107542038, 0.06802359968423843, 0.06399588286876678, 0.07026121765375137, 0.06459258496761322, 0.08690159767866135, 0.7448159456253052, 0.011535611003637314, 0.0015380814438685775, 0.003076162887737155, 0.052679289132356644, 0.014996293932199478, 0.00038452036096714437, 0.0007690407219342887, 0.08305639773607254, 0.8704745769500732, 0.11791031807661057, 0.0006443187012337148, 0.009020461700856686, 0.0006443187012337148, 0.997298538684845, 0.0004177567025180906, 0.9980207681655884, 0.0004177567025180906, 0.0004177567025180906, 0.10556308180093765, 0.02069864235818386, 0.036567602306604385, 0.0027598191518336535, 0.8320854306221008, 0.0006899547879584134, 0.0013799095759168267, 0.014069290831685066, 0.0007404889911413193, 0.9833693504333496, 0.9920124411582947, 0.002506664488464594, 0.003759996732696891, 0.0006266661221161485, 0.9963087439537048, 0.0018114703707396984, 0.9981433153152466, 0.007913368754088879, 0.07481730729341507, 0.0025178901851177216, 0.0003596985770855099, 0.07265911251306534, 0.07769489288330078, 0.004316383041441441, 0.0003596985770855099, 0.11726173758506775, 0.6420619487762451, 0.9973482489585876, 0.0005034211208112538, 0.0015102634206414223, 0.0005034211208112538, 0.9917396306991577, 0.0010068422416225076, 0.0035239479038864374, 0.998045027256012, 0.00041395798325538635, 0.9636942148208618, 0.00041395798325538635, 0.007037285715341568, 0.00041395798325538635, 0.00041395798325538635, 0.0273212268948555, 0.9976904988288879, 0.042906880378723145, 0.10850489884614944, 0.050333067774772644, 0.08911428600549698, 0.000825132301542908, 0.605647087097168, 0.04909536987543106, 0.05322103202342987, 0.9969480633735657, 0.997875452041626, 0.9973361492156982, 0.9979782700538635, 0.9979657530784607, 0.18827849626541138, 0.8112035393714905, 0.0019319781567901373, 0.0009659890783950686, 0.9940027594566345, 0.0009659890783950686, 0.8911038041114807, 0.0026725479401648045, 0.09888426959514618, 0.0003817925462499261, 0.006490473635494709, 0.0003817925462499261, 0.9967373013496399, 0.008423004299402237, 0.00019588382565416396, 0.00019588382565416396, 0.9866667985916138, 0.002546489704400301, 0.0013711866922676563, 0.0003917676513083279, 0.00019588382565416396, 0.9977340698242188, 0.9985880851745605, 0.997530996799469, 0.0009018195560202003, 0.0004509097780101001, 0.07124374806880951, 0.003607278224080801, 0.0013527293922379613, 0.0004509097780101001, 0.004509097896516323, 0.8900958895683289, 0.0004509097780101001, 0.02705458737909794, 0.001016777940094471, 0.0005083889700472355, 0.9928836822509766, 0.0025419448502361774, 0.0005083889700472355, 0.0015251669101417065, 0.001016777940094471, 0.07124459743499756, 0.07322361320257187, 0.07209274917840958, 0.00028271664632484317, 0.052868012338876724, 0.07774707674980164, 0.06163223087787628, 0.09188291430473328, 0.4989948868751526, 0.9971259832382202, 0.0008076814701780677, 0.00040384073508903384, 0.0008076814701780677, 0.09046033024787903, 0.6469528675079346, 0.08844112604856491, 0.08319119364023209, 0.08803728222846985, 0.9971840977668762, 0.0003440938889980316, 0.0013763755559921265, 0.9984243512153625, 0.010950891301035881, 0.0018251485889777541, 0.0006083828629925847, 0.9831467270851135, 0.0006083828629925847, 0.002433531451970339, 0.004401169717311859, 0.0008802339434623718, 0.9929038882255554, 0.0008802339434623718, 0.014931242913007736, 0.0008295135339722037, 0.003318054135888815, 0.9580880999565125, 0.0016590270679444075, 0.019908323884010315, 0.9866039752960205, 0.0016512200236320496, 0.0016512200236320496, 0.0008256100118160248, 0.006604880094528198, 0.0008256100118160248, 0.0016512200236320496, 0.9984067678451538, 0.9979614019393921, 0.9967787265777588, 0.0009246555855497718, 0.08393409848213196, 0.0679604783654213, 0.08364366739988327, 0.06069974601268768, 0.05953802913427353, 0.07434992492198944, 0.05692416429519653, 0.018006622791290283, 0.42809295654296875, 0.06708919256925583, 0.011409211903810501, 0.0005186005146242678, 0.7498963475227356, 0.01503941509872675, 0.09282949566841125, 0.12498272210359573, 0.0046674045734107494, 0.004278719890862703, 0.0018337370129302144, 0.004889965523034334, 0.0012224913807585835, 0.05929083004593849, 0.832516610622406, 0.0006112456903792918, 0.09535432606935501, 0.0007157622603699565, 0.9211860299110413, 0.0694289356470108, 0.0007157622603699565, 0.0035788114182651043, 0.0035788114182651043, 0.9976646304130554, 0.0010963347740471363, 0.0005108740297146142, 0.9977369904518127, 0.0005108740297146142, 0.9971567392349243, 0.019746016710996628, 0.7528560757637024, 0.05892462283372879, 0.0376114621758461, 0.021940018981695175, 0.00031342884176410735, 0.00031342884176410735, 0.08243178576231003, 0.025701165199279785, 0.9988568425178528, 0.9971784353256226, 0.9981992840766907, 0.9961492419242859, 0.0010344228940084577, 0.001950209611095488, 0.9965571165084839, 0.9976741075515747, 0.0013319534482434392, 0.9963011741638184, 0.0008720798068679869, 0.0008720798068679869, 0.9976592659950256, 0.9984561800956726, 0.9752392768859863, 0.0011094872606918216, 0.0005547436303459108, 0.02163500152528286, 0.9987401366233826, 0.0004242736322339624, 0.08585742115974426, 0.008788554929196835, 0.0027041707653552294, 0.9025169610977173, 0.9880425333976746, 0.0013809120282530785, 0.0006904560141265392, 0.00828547216951847, 0.998125433921814, 0.03402252122759819, 0.006701405625790358, 0.7716926336288452, 0.09227320551872253, 0.09330418705940247, 0.0010309854988008738, 0.9975646734237671, 0.9982059001922607, 0.0006615016027353704, 0.9937408566474915, 0.0019202721305191517, 0.0009601360652595758, 0.0019202721305191517, 0.002013779478147626, 0.013089567422866821, 0.978696882724762, 0.0030206693336367607, 0.001006889739073813, 0.997301459312439, 0.9986627101898193, 0.9964191913604736, 0.9955414533615112, 0.0011630157241597772, 0.9977707266807556, 0.9976956248283386, 0.0006894924445077777, 0.9982609152793884, 0.000771017512306571, 0.9938415288925171, 0.000771017512306571, 0.003084070049226284, 0.9983657002449036, 0.000649925961624831, 0.000649925961624831, 0.998286247253418, 0.0009800918633118272, 0.996753454208374, 0.9980784058570862, 0.9934613108634949, 0.0007785746711306274, 0.0007785746711306274, 0.0007785746711306274, 0.0015571493422612548, 0.0007785746711306274, 0.996631920337677, 0.9977655410766602, 0.9971428513526917, 0.05164538696408272, 0.06797593832015991, 0.07246684283018112, 0.07981559634208679, 0.07675361633300781, 0.06879246979951859, 0.07022139430046082, 0.05266604572534561, 0.0602189265191555, 0.3996903598308563, 0.9977068901062012, 0.1074642613530159, 0.01315888948738575, 0.04422849044203758, 0.08626382797956467, 0.08004990965127945, 0.0003655246982816607, 0.05629080533981323, 0.03070407547056675, 0.5797221660614014, 0.0014620987931266427, 0.9978660345077515, 0.9973341226577759, 0.0452621728181839, 0.09273997694253922, 0.00221563084051013, 0.08261137455701828, 0.0015825934242457151, 0.6026515960693359, 0.07818011939525604, 0.094322569668293, 0.988379180431366, 0.006199510768055916, 0.001771288807503879, 0.001771288807503879, 0.0008856444037519395, 0.008907134644687176, 0.0036676437593996525, 0.02200586348772049, 0.0005239491001702845, 0.0015718473587185144, 0.001047898200340569, 0.0036676437593996525, 0.958302915096283, 0.9965948462486267, 0.9974082112312317, 0.8629719018936157, 0.051305197179317474, 0.00491546792909503, 0.00030721674556843936, 0.07956913858652115, 0.0006144334911368787, 0.00030721674556843936, 0.8097015023231506, 0.0023753619752824306, 0.0026722822804003954, 0.03592735156416893, 0.08402843028306961, 0.0011876809876412153, 0.00148460129275918, 0.0626501739025116, 0.9970840811729431, 0.9983683228492737, 0.9977125525474548, 0.0004808253434021026, 0.0004808253434021026, 0.0004808253434021026, 0.0004808253434021026, 0.996828019618988, 0.0011154408566653728, 0.0011154408566653728, 0.0011154408566653728, 0.9949732422828674, 0.998014509677887, 0.0007857310120016336, 0.99787837266922, 0.0028219646774232388, 0.0009406548924744129, 0.9952129125595093, 0.0012201083591207862, 0.9956084489822388, 0.9988365173339844, 0.9982197284698486, 0.09921489655971527, 0.07282795757055283, 0.06755056977272034, 0.06860604137182236, 0.3933413028717041, 0.10202950239181519, 0.07212430238723755, 0.06403230875730515, 0.059810396283864975, 0.003827061038464308, 0.0004783826298080385, 0.002870295662432909, 0.0033486783504486084, 0.9878600835800171, 0.0004783826298080385, 0.0014351478312164545, 0.9966846108436584, 0.0009288766304962337, 0.06173648685216904, 0.04130570590496063, 0.06084819138050079, 0.06640003621578217, 0.06218063458800316, 0.06662210822105408, 0.03841874748468399, 0.4659106135368347, 0.075282983481884, 0.06151441112160683, 0.08467324078083038, 0.07079906761646271, 0.06926883012056351, 0.06161763519048691, 0.06937084347009659, 0.06865673512220383, 0.05641482025384903, 0.37980538606643677, 0.07783816754817963, 0.06171964854001999, 0.0884525254368782, 0.06823158264160156, 0.3775330185890198, 0.06405182927846909, 0.0642777606844902, 0.07049090415239334, 0.0648425966501236, 0.07365395873785019, 0.06405182927846909, 0.06439072638750076, 0.998681902885437, 0.003216774435713887, 0.0646929070353508, 0.007505807094275951, 0.5911716818809509, 0.008935484103858471, 0.0947161391377449, 0.0010722581064328551, 0.06076129525899887, 0.10937032848596573, 0.05861677974462509, 0.9971203207969666, 0.0011977421818301082, 0.998231828212738, 0.998468279838562, 0.0006103107007220387, 0.9978743195533752, 0.9977746605873108, 0.9972111582756042, 0.08093606680631638, 0.07636141777038574, 0.4666140079498291, 0.04574647173285484, 0.04293130338191986, 0.06510074436664581, 0.0443388856947422, 0.04363509640097618, 0.06686022877693176, 0.06721211969852448, 0.9976597428321838, 0.0005031874752603471, 0.002515937201678753, 0.9329095482826233, 0.0010063749505206943, 0.014592436142265797, 0.044783685356378555, 0.002515937201678753, 0.01792779378592968, 0.006573524326086044, 0.02808687649667263, 0.9161102175712585, 0.001195186167024076, 0.004780744668096304, 0.009860286489129066, 0.000298796541756019, 0.014939827844500542, 0.08290494233369827, 0.42660802602767944, 0.07854152470827103, 0.06052843853831291, 0.05885020270943642, 0.06410867720842361, 0.048892658203840256, 0.05057089403271675, 0.06422056257724762, 0.06489185988903046, 0.998599648475647, 0.09549480676651001, 0.6715565919876099, 0.0003866186598315835, 0.011985178105533123, 0.005799280013889074, 0.08466948568820953, 0.0003866186598315835, 0.07500401884317398, 0.0019330932991579175, 0.052966754883527756, 0.9988442063331604, 0.9979909062385559, 0.9969658255577087, 0.09398053586483002, 0.007269212976098061, 0.0010384590132161975, 0.009865360334515572, 0.6978444457054138, 0.09657668322324753, 0.027519162744283676, 0.0010384590132161975, 0.06438446044921875, 0.9973720908164978, 0.07487180829048157, 0.32598888874053955, 0.0745011493563652, 0.0691266879439354, 0.07950495928525925, 0.07857833057641983, 0.07097995281219482, 0.07246256619691849, 0.08710333704948425, 0.06708810478448868, 0.095366932451725, 0.07083796709775925, 0.31105268001556396, 0.07570146769285202, 0.07739312201738358, 0.06724320352077484, 0.06449426710605621, 0.07104942202568054, 0.09388673305511475, 0.07295253127813339, 0.9985049962997437, 0.9986384510993958, 0.0005354894674383104, 0.9976168274879456, 0.0005354894674383104, 0.0005354894674383104, 0.0009972582338377833, 0.9962610006332397, 0.9989170432090759, 0.0020379836205393076, 0.001358655747026205, 0.04823227971792221, 0.0006793278735131025, 0.001358655747026205, 0.001358655747026205, 0.009510590694844723, 0.9347551465034485, 0.001358655747026205, 0.9971152544021606, 0.9976392984390259, 0.0006047064671292901, 0.9977657198905945, 0.9977595210075378, 0.0005998855922371149, 0.0005998855922371149, 0.9976097345352173, 0.0009511981625109911, 0.001268264139071107, 0.007609585300087929, 0.019023962318897247, 0.001268264139071107, 0.9556370973587036, 0.0019023963250219822, 0.010780245997011662, 0.0015853302320465446, 0.9498541951179504, 0.0008259601308964193, 0.010324502363801003, 0.00041298006544820964, 0.0008259601308964193, 0.0024778805673122406, 0.03510330617427826, 0.06204647943377495, 0.06579066067934036, 0.06193950027227402, 0.06504182517528534, 0.46834394335746765, 0.05466508865356445, 0.05316741392016411, 0.049958113580942154, 0.05905112996697426, 0.060013920068740845, 0.04216203838586807, 0.05031100660562515, 0.06607748568058014, 0.539071798324585, 0.046945128589868546, 0.058459971100091934, 0.04322494938969612, 0.05279112607240677, 0.058282818645238876, 0.04251634329557419, 0.9969678521156311, 0.9979735016822815, 0.0006412045913748443, 0.998355507850647, 0.07309627532958984, 0.10183802247047424, 0.054644789546728134, 0.0007096726330928504, 0.02519337832927704, 0.0003548363165464252, 0.0003548363165464252, 0.7352208495140076, 0.008870907127857208, 0.9975842833518982, 0.04661917686462402, 0.08827073872089386, 0.02713083289563656, 0.011081608012318611, 0.043562185019254684, 0.001528497668914497, 0.6125454306602478, 0.08636011928319931, 0.08253887295722961, 0.07853981852531433, 0.06773539632558823, 0.06025541573762894, 0.059008751064538956, 0.04806581512093544, 0.08435758203268051, 0.05803912505507469, 0.38951316475868225, 0.07784722745418549, 0.0764620453119278, 0.0003912894462700933, 0.0027390262112021446, 0.0003912894462700933, 0.0003912894462700933, 0.952789843082428, 0.0007825788925401866, 0.014868998900055885, 0.027781551703810692, 0.997764527797699], \"Term\": [\"accomplish\", \"account\", \"account\", \"account\", \"account\", \"account\", \"account\", \"achiev\", \"activ\", \"activ\", \"activ\", \"activ\", \"activ\", \"activ\", \"actor\", \"add\", \"add\", \"address\", \"advantag\", \"advantag_disadvantag\", \"advic\", \"advic\", \"advic\", \"advic\", \"advic\", \"advic_move\", \"ag\", \"ag\", \"ag\", \"ag\", \"ag\", \"ag\", \"ag\", \"air\", \"altern\", \"amazon\", \"america\", \"america\", \"america\", \"america\", \"america\", \"america\", \"america\", \"america\", \"america\", \"american\", \"american\", \"american\", \"american\", \"american\", \"american\", \"american\", \"american\", \"american\", \"american\", \"android\", \"anim\", \"anim\", \"anim\", \"answer\", \"answer\", \"answer\", \"answer\", \"app\", \"applic\", \"applic\", \"applic\", \"applic\", \"applic\", \"applic\", \"applic\", \"applic\", \"applic\", \"arab\", \"art\", \"artist\", \"attract\", \"attract\", \"attract\", \"australia\", \"avail\", \"babi\", \"bad\", \"bad\", \"bad\", \"bad\", \"bad\", \"bad\", \"bad\", \"bad\", \"bad\", \"bangalor\", \"bangalor\", \"bangalor\", \"bangalor\", \"bank\", \"bank\", \"bank\", \"bank\", \"beat\", \"beauti\", \"benefit\", \"benefit\", \"benefit\", \"best\", \"best\", \"best\", \"best\", \"best\", \"best\", \"best\", \"best\", \"best\", \"best\", \"best_book\", \"best_friend\", \"best_place\", \"best_thing\", \"best_thing\", \"best_wai\", \"best_wai\", \"best_wai\", \"best_wai\", \"best_wai\", \"best_wai\", \"best_wai\", \"best_wai\", \"best_wai\", \"better\", \"better\", \"better\", \"better\", \"better\", \"better\", \"better\", \"better\", \"better\", \"better\", \"bibl\", \"big\", \"big\", \"big\", \"big\", \"big\", \"big\", \"biggest\", \"bitcoin\", \"black\", \"black\", \"blood\", \"boi\", \"boi\", \"boi\", \"boi\", \"book\", \"book\", \"book\", \"book\", \"book\", \"book\", \"book\", \"book\", \"book\", \"book\", \"bore\", \"boyfriend\", \"brain\", \"brain\", \"brand\", \"brother\", \"bui\", \"bui\", \"bui\", \"bui\", \"bui\", \"bui\", \"bui\", \"bui\", \"bui\", \"bui\", \"busi\", \"busi\", \"busi\", \"busi\", \"busi\", \"busi\", \"busi\", \"busi_travel\", \"calcul\", \"california\", \"canada\", \"canada\", \"canada\", \"canada\", \"canada\", \"canada\", \"car\", \"car\", \"car\", \"car\", \"car\", \"car\", \"car\", \"car\", \"card\", \"care\", \"care\", \"care\", \"care\", \"care\", \"care\", \"care\", \"care\", \"career\", \"career\", \"career\", \"career\", \"cast\", \"cat\", \"caus\", \"caus\", \"caus\", \"caus\", \"caus\", \"caus\", \"caus\", \"celebr\", \"cell\", \"certif\", \"challeng\", \"challeng\", \"chang\", \"chang\", \"chang\", \"chang\", \"chang\", \"chang\", \"chang\", \"chang\", \"chang\", \"chang\", \"charact\", \"charact\", \"charact\", \"charact\", \"characterist\", \"charg\", \"charg\", \"charg\", \"charg\", \"charg\", \"cheat\", \"check\", \"chemistri\", \"chennai\", \"child\", \"child\", \"child\", \"children\", \"children\", \"children\", \"children\", \"children\", \"children\", \"china\", \"china\", \"china\", \"china\", \"china\", \"chines\", \"chines\", \"chines\", \"chines\", \"chines\", \"chines\", \"chines\", \"chines\", \"choos\", \"choos\", \"choos\", \"choos\", \"choos\", \"choos\", \"choos\", \"choos\", \"choos\", \"citi\", \"citi\", \"citi\", \"citi\", \"citi\", \"civil_engin\", \"class\", \"class\", \"class\", \"class\", \"class\", \"clean\", \"coach\", \"code\", \"colleg\", \"colleg\", \"colleg\", \"color\", \"com\", \"com\", \"come\", \"come\", \"come\", \"come\", \"come\", \"come\", \"come\", \"come\", \"come\", \"come\", \"comment\", \"common\", \"common\", \"common\", \"common\", \"common\", \"common\", \"common\", \"common\", \"common\", \"common\", \"commun\", \"commun\", \"commun\", \"commun\", \"commun\", \"commun\", \"commun\", \"commun\", \"compani\", \"compani\", \"compani\", \"compani\", \"compani\", \"compani\", \"compani\", \"compani\", \"compani\", \"concept\", \"condit\", \"connect\", \"connect\", \"connect\", \"connect\", \"connect\", \"connect\", \"connect\", \"connect\", \"convert\", \"cool\", \"correct\", \"correct\", \"correct\", \"correct\", \"correct\", \"cost\", \"cost\", \"cost\", \"cost\", \"countri\", \"countri\", \"countri\", \"countri\", \"countri\", \"countri\", \"countri\", \"countri\", \"countri\", \"countri\", \"cours\", \"cours\", \"cours\", \"cours\", \"creat\", \"creat\", \"creat\", \"creat\", \"creat\", \"creat\", \"creat\", \"creat\", \"creat\", \"creat\", \"critic\", \"crush\", \"cryptocurr\", \"cultur\", \"cultur\", \"cultur\", \"cultur\", \"cultur\", \"cultur\", \"custom\", \"cut\", \"cut\", \"cut\", \"cut\", \"dai\", \"dai\", \"dai\", \"dai\", \"dai\", \"dai\", \"dai\", \"dai\", \"dai\", \"dai\", \"danger\", \"danger\", \"date\", \"date\", \"date\", \"dead\", \"deal\", \"deal\", \"deal\", \"deal\", \"deal\", \"deal\", \"deal\", \"deal\", \"deal\", \"deal\", \"death\", \"death\", \"death\", \"death\", \"defin\", \"definit\", \"degre\", \"degre\", \"degre\", \"degre\", \"degre\", \"degre\", \"delhi\", \"delhi\", \"depress\", \"design\", \"design\", \"design\", \"design\", \"design\", \"determin\", \"determin\", \"determin\", \"determin\", \"develop\", \"develop\", \"develop\", \"develop\", \"develop\", \"develop\", \"develop\", \"develop\", \"develop\", \"develop\", \"di\", \"di\", \"di\", \"die\", \"differ\", \"differ\", \"differ\", \"differ\", \"differ\", \"differ\", \"differ\", \"differ\", \"differ\", \"differ\", \"differ_type\", \"difficult\", \"difficult\", \"difficult\", \"difficult\", \"difficult\", \"disadvantag\", \"discov\", \"diseas\", \"doctor\", \"doctor\", \"dog\", \"donald_trump\", \"donald_trump\", \"donald_trump\", \"donald_trump\", \"download\", \"dream\", \"drive\", \"dubai\", \"earn\", \"earn\", \"earn\", \"earn_monei\", \"earth\", \"earth\", \"earth\", \"earth\", \"easi\", \"easi\", \"eat\", \"econom\", \"econom\", \"economi\", \"educ\", \"educ\", \"educ\", \"educ\", \"educ\", \"effect\", \"effect\", \"effect\", \"effect\", \"effect\", \"effect\", \"effect\", \"effect\", \"effect\", \"electr\", \"electron\", \"electron\", \"emot\", \"employe\", \"end\", \"end\", \"end\", \"end\", \"end\", \"end\", \"end\", \"end\", \"end\", \"energi\", \"engin\", \"engin\", \"engin\", \"english\", \"equal\", \"equal\", \"equal\", \"establish\", \"europ\", \"europ\", \"europ\", \"europ\", \"europ\", \"europ\", \"event\", \"event\", \"exactli\", \"exactli\", \"exam\", \"exampl\", \"exampl\", \"exampl\", \"exampl\", \"exampl\", \"exampl\", \"exampl\", \"exist\", \"exist\", \"exist\", \"exist\", \"exist\", \"exist\", \"exist\", \"exist\", \"expect\", \"expect\", \"expect\", \"expect\", \"expect\", \"expect\", \"expect\", \"expect\", \"expens\", \"expens\", \"expens\", \"expens\", \"expens\", \"expens\", \"expens\", \"experi\", \"experi\", \"experi\", \"experi\", \"experi\", \"experi\", \"experi\", \"experi\", \"experi\", \"experi\", \"explain\", \"explain\", \"explain\", \"explain\", \"explain\", \"explain\", \"explain\", \"ey\", \"ey\", \"facebook\", \"facebook\", \"factor\", \"fail\", \"fail\", \"fake\", \"famili\", \"famili\", \"famili\", \"famili\", \"famili\", \"famili\", \"famou\", \"fast\", \"father\", \"favorit\", \"favourit\", \"featur\", \"featur\", \"featur\", \"featur\", \"feel\", \"feel\", \"feel\", \"feel\", \"feel\", \"feel\", \"feel\", \"feel\", \"feel\", \"feel\", \"feel_like\", \"fight\", \"fight\", \"fight\", \"fight\", \"fight\", \"fight\", \"film\", \"film\", \"film\", \"film\", \"fix\", \"fix\", \"fix\", \"fix\", \"fix\", \"fix\", \"fix\", \"follow\", \"follow\", \"follow\", \"follow\", \"follow\", \"follow\", \"follow\", \"follow\", \"food\", \"foreign\", \"form\", \"form\", \"form\", \"form\", \"form\", \"form\", \"form\", \"free\", \"free\", \"free\", \"free\", \"free\", \"free\", \"french\", \"friend\", \"friend\", \"friend\", \"friend\", \"friend\", \"friend\", \"friend\", \"friend\", \"friend\", \"function\", \"futur\", \"futur\", \"futur\", \"futur\", \"futur\", \"futur\", \"futur\", \"futur\", \"futur\", \"gai\", \"game\", \"game\", \"game\", \"game\", \"game\", \"game\", \"gener\", \"gener\", \"gener\", \"gener\", \"gener\", \"gener\", \"gener\", \"gener\", \"gener\", \"german\", \"german\", \"germani\", \"germani\", \"germani\", \"girl\", \"girl\", \"girl\", \"girl\", \"girl\", \"girl\", \"girl\", \"girl\", \"girl\", \"girlfriend\", \"goal\", \"god\", \"good\", \"good\", \"good\", \"good\", \"good\", \"good\", \"good\", \"good\", \"good\", \"good\", \"good_bad_neighborhood\", \"good_idea\", \"googl\", \"googl\", \"govern\", \"govern\", \"govern\", \"govern\", \"govern\", \"govern\", \"grade\", \"graduat\", \"graduat\", \"great\", \"great\", \"great\", \"great\", \"great\", \"great\", \"group\", \"group\", \"group\", \"group\", \"group\", \"group\", \"group\", \"grow\", \"grow\", \"grow\", \"gun\", \"hack\", \"hair\", \"handl\", \"handl\", \"handl\", \"handl\", \"happen\", \"happen\", \"happen\", \"happen\", \"happen\", \"happen\", \"happen\", \"happen\", \"happen\", \"happen\", \"happi\", \"hard\", \"hard\", \"hate\", \"hate\", \"hate\", \"hate\", \"hate\", \"head\", \"head\", \"head\", \"heard\", \"heard\", \"heard\", \"heard\", \"help\", \"help\", \"help\", \"help\", \"help\", \"help\", \"help\", \"help\", \"help\", \"help\", \"high_school\", \"high_school\", \"high_school\", \"hindi\", \"histori\", \"histori\", \"histori\", \"histori\", \"histori\", \"histori\", \"home\", \"home\", \"home\", \"home\", \"home\", \"home\", \"home\", \"home\", \"hour\", \"hour\", \"hour\", \"hour\", \"hour\", \"hous\", \"hous\", \"hous\", \"hous\", \"human\", \"human\", \"human\", \"human\", \"human\", \"hurt\", \"hurt\", \"hyderabad\", \"iit\", \"impact\", \"impact\", \"impact\", \"import\", \"import\", \"import\", \"import\", \"import\", \"import\", \"import\", \"import\", \"improv\", \"improv\", \"improv\", \"improv\", \"improv\", \"improv\", \"increas\", \"increas\", \"increas\", \"increas\", \"increas\", \"india\", \"india\", \"india\", \"india\", \"india\", \"india\", \"india\", \"india\", \"india\", \"india\", \"indian\", \"indian\", \"indian\", \"indian\", \"indian\", \"indian\", \"indian\", \"indian\", \"indian\", \"indian\", \"industri\", \"influenc\", \"influenc\", \"influenc\", \"instagram\", \"institut\", \"integr\", \"intellig\", \"interest\", \"interest\", \"interest\", \"interest\", \"interest\", \"internet\", \"interview\", \"interview\", \"invent\", \"invest\", \"invest\", \"invest\", \"iphon\", \"islam\", \"islam\", \"israel\", \"japan\", \"japanes\", \"japanes\", \"japanes\", \"java\", \"job\", \"job\", \"job\", \"job\", \"job\", \"job\", \"job\", \"job\", \"job\", \"kid\", \"kill\", \"kill\", \"kill\", \"kill\", \"kill\", \"kill\", \"kill\", \"know\", \"know\", \"know\", \"know\", \"know\", \"know\", \"know\", \"know\", \"know\", \"know\", \"knowledg\", \"knowledg\", \"knowledg\", \"knowledg\", \"known\", \"kolkata\", \"languag\", \"languag\", \"languag\", \"laptop\", \"late\", \"law\", \"law\", \"law\", \"law\", \"learn\", \"learn\", \"learn\", \"learn\", \"learn\", \"learn\", \"learn\", \"learn\", \"let\", \"let\", \"let\", \"let\", \"liber\", \"liber\", \"liber\", \"liber\", \"life\", \"life\", \"life\", \"life\", \"life\", \"life\", \"life\", \"life\", \"life\", \"life\", \"light\", \"light\", \"like\", \"like\", \"like\", \"like\", \"like\", \"like\", \"like\", \"like\", \"like\", \"like\", \"like_live\", \"like_work\", \"limit\", \"limit\", \"limit\", \"limit\", \"live\", \"live\", \"live\", \"live\", \"live\", \"live\", \"live\", \"live\", \"live\", \"live\", \"london\", \"long\", \"long\", \"long\", \"long\", \"long\", \"long\", \"long\", \"long\", \"long\", \"long\", \"look_like\", \"look_like\", \"look_like\", \"look_like\", \"look_like\", \"look_like\", \"look_like\", \"love\", \"love\", \"love\", \"love\", \"love\", \"love\", \"love\", \"machin\", \"main\", \"major_accomplish\", \"make\", \"make\", \"make\", \"make\", \"make\", \"make\", \"make\", \"make\", \"make\", \"make\", \"male\", \"male\", \"male\", \"male\", \"male\", \"male\", \"man\", \"man\", \"man\", \"man\", \"man\", \"man\", \"man\", \"man\", \"man\", \"manufactur\", \"mark\", \"market\", \"market\", \"market\", \"market\", \"market\", \"market\", \"marri\", \"marri\", \"marriag\", \"marriag\", \"marriag\", \"master\", \"master\", \"masturb\", \"materi\", \"materi\", \"materi\", \"materi\", \"materi\", \"materi\", \"math\", \"mathemat\", \"mba\", \"mean\", \"mean\", \"mean\", \"mean\", \"mean\", \"mean\", \"mean\", \"mean\", \"mean\", \"mean\", \"meant\", \"measur\", \"mechan_engin\", \"memori\", \"men\", \"men\", \"men\", \"men\", \"men\", \"men\", \"men\", \"men\", \"men\", \"method\", \"method\", \"mexico\", \"mind\", \"mind\", \"miss\", \"mobil\", \"model\", \"model\", \"model\", \"model\", \"model\", \"model\", \"modi\", \"moment\", \"monei\", \"monei\", \"monei\", \"monei\", \"monei\", \"monei\", \"monei\", \"monei\", \"month\", \"month\", \"month\", \"month\", \"month\", \"month\", \"mother\", \"mother\", \"mother\", \"mother\", \"motiv\", \"movi\", \"movi\", \"movi\", \"mumbai\", \"music\", \"muslim\", \"muslim\", \"muslim\", \"name\", \"narcissist\", \"nation\", \"nation\", \"nation\", \"nation\", \"nation\", \"nation\", \"natur\", \"natur\", \"natur\", \"need\", \"need\", \"need\", \"need\", \"need\", \"need\", \"need\", \"need\", \"need\", \"need\", \"neet\", \"network\", \"new_zealand\", \"nigeria\", \"night\", \"north_korea\", \"novel\", \"number\", \"number\", \"number\", \"number\", \"number\", \"number\", \"number\", \"number\", \"occur\", \"offic\", \"offic\", \"offic\", \"offic\", \"offic\", \"offic\", \"offic\", \"offic\", \"okai\", \"okai\", \"okai\", \"okai\", \"okai\", \"old\", \"old\", \"old\", \"old\", \"old\", \"old\", \"old\", \"onlin\", \"onlin\", \"onlin\", \"onlin\", \"onlin\", \"onlin\", \"onlin\", \"onlin\", \"onlin\", \"onlin\", \"opinion\", \"opinion\", \"opinion\", \"opinion\", \"opinion\", \"opinion\", \"organ\", \"organ\", \"organ\", \"organ\", \"organ\", \"origin\", \"origin\", \"origin\", \"origin\", \"origin\", \"origin\", \"paid\", \"paid\", \"pain\", \"pakistan\", \"paper\", \"paper\", \"paper\", \"paper\", \"paper\", \"parent\", \"parent\", \"parent\", \"part\", \"parti\", \"parti\", \"parti\", \"partner\", \"partner\", \"peopl\", \"peopl\", \"peopl\", \"peopl\", \"peopl\", \"peopl\", \"peopl\", \"peopl\", \"peopl\", \"peopl\", \"peopl_like\", \"peopl_like\", \"peopl_think\", \"percentag\", \"perform\", \"perform\", \"perform\", \"perform\", \"perform\", \"period\", \"period\", \"person\", \"person\", \"person\", \"person\", \"person\", \"person\", \"person\", \"person\", \"person\", \"person\", \"pet\", \"philippin\", \"phone\", \"phone\", \"physic\", \"physic\", \"physic\", \"physic\", \"physic\", \"physic\", \"physic\", \"plai\", \"plai\", \"plai\", \"plai\", \"plai\", \"plai\", \"plan\", \"plan\", \"plan\", \"plan\", \"plan\", \"planet\", \"plant\", \"point\", \"point\", \"point\", \"point\", \"point\", \"point\", \"point\", \"point\", \"point\", \"point\", \"polit\", \"polit\", \"polit\", \"polit\", \"polit\", \"politician\", \"popul\", \"popular\", \"possibl\", \"possibl\", \"possibl\", \"possibl\", \"possibl\", \"possibl\", \"possibl\", \"possibl\", \"possibl\", \"possibl\", \"power\", \"power\", \"power\", \"power\", \"power\", \"power\", \"power\", \"power\", \"power\", \"power\", \"practic\", \"practic\", \"practic\", \"practic\", \"practic\", \"pregnant\", \"prepar\", \"prepar\", \"prepar\", \"prepar\", \"present\", \"present\", \"present\", \"present\", \"present\", \"present\", \"present\", \"presid\", \"presid\", \"presid\", \"prevent\", \"prevent\", \"prevent\", \"prevent\", \"price\", \"price\", \"pro_con\", \"problem\", \"problem\", \"problem\", \"problem\", \"problem\", \"problem\", \"problem\", \"problem\", \"problem\", \"problem\", \"procedur\", \"process\", \"process\", \"process\", \"process\", \"process\", \"process\", \"produc\", \"product\", \"product\", \"product\", \"product\", \"product\", \"product\", \"product\", \"profit\", \"program\", \"program\", \"program\", \"program\", \"program\", \"program\", \"program\", \"program\", \"programm\", \"properti\", \"prove\", \"psycholog\", \"pune\", \"purpos\", \"purpos\", \"qualiti\", \"qualiti\", \"qualiti\", \"qualiti\", \"question\", \"question\", \"question\", \"question\", \"question\", \"question\", \"question_ask\", \"quora\", \"quora\", \"quora\", \"quora\", \"quora\", \"quora\", \"quora\", \"quora\", \"rank\", \"rate\", \"reaction\", \"read\", \"read\", \"read\", \"read\", \"read\", \"read\", \"read\", \"read\", \"read\", \"read\", \"real\", \"real\", \"real\", \"real\", \"real\", \"real\", \"real\", \"reason\", \"reason\", \"reason\", \"reason\", \"reason\", \"reason\", \"reason\", \"reason\", \"reason\", \"reduc\", \"relat\", \"relat\", \"relat\", \"relat\", \"relat\", \"relat\", \"relat\", \"relat\", \"relationship\", \"relationship\", \"relationship\", \"religion\", \"remov\", \"remov\", \"remov\", \"remov\", \"remov\", \"remov\", \"replac\", \"replac\", \"replac\", \"replac\", \"research\", \"research\", \"research\", \"research\", \"research\", \"research\", \"respons\", \"respons\", \"respons\", \"respons\", \"respons\", \"respons\", \"respons\", \"review\", \"rich\", \"rid\", \"rid\", \"right\", \"right\", \"right\", \"right\", \"right\", \"right\", \"right\", \"right\", \"right\", \"right\", \"role\", \"role\", \"role\", \"role\", \"role\", \"role\", \"role\", \"run\", \"run\", \"run\", \"run\", \"run\", \"run\", \"run\", \"run\", \"russia\", \"russia\", \"russia\", \"russia\", \"russia\", \"russia\", \"russian\", \"russian\", \"safe\", \"safe\", \"safe\", \"salari\", \"school\", \"school\", \"school\", \"school\", \"school\", \"school\", \"school\", \"school\", \"school\", \"scienc\", \"scope\", \"score\", \"second\", \"second\", \"secur\", \"secur\", \"sentenc\", \"separ\", \"separ\", \"seri\", \"seri\", \"seri\", \"serv\", \"servic\", \"servic\", \"servic\", \"servic\", \"sex\", \"sex\", \"share\", \"share\", \"share\", \"share\", \"sign\", \"sign\", \"sign\", \"sign\", \"signific\", \"similar\", \"similar\", \"similar\", \"similar\", \"similar\", \"similar\", \"singapor\", \"site\", \"site\", \"situat\", \"situat\", \"situat\", \"situat\", \"skill\", \"skill\", \"skill\", \"skill\", \"skill\", \"skin\", \"sleep\", \"smart\", \"social\", \"social\", \"social_media\", \"societi\", \"societi\", \"softwar\", \"solut\", \"solut\", \"solut\", \"solut\", \"solv\", \"song\", \"song\", \"song\", \"sound\", \"sound\", \"space\", \"special\", \"special\", \"special\", \"special\", \"special\", \"special\", \"sport\", \"stand\", \"star\", \"start\", \"start\", \"start\", \"start\", \"start\", \"start\", \"start\", \"start\", \"start\", \"start\", \"startup\", \"state\", \"state\", \"state\", \"state\", \"state\", \"state\", \"state\", \"state\", \"state\", \"state\", \"step\", \"stock\", \"stop\", \"stop\", \"stop\", \"stop\", \"stop\", \"stop\", \"stop\", \"stop\", \"store\", \"store\", \"store\", \"store\", \"store\", \"stori\", \"stori\", \"stori\", \"stori\", \"stori\", \"stori\", \"stori\", \"stori\", \"strategi\", \"structur\", \"student\", \"student\", \"student\", \"student\", \"student\", \"student\", \"student\", \"studi\", \"studi\", \"studi\", \"studi\", \"studi\", \"studi\", \"studi\", \"studi\", \"style\", \"subject\", \"success\", \"success\", \"success\", \"success\", \"success\", \"symbol\", \"taken\", \"taken\", \"taken\", \"taken\", \"teach\", \"teacher\", \"teacher\", \"team\", \"team\", \"team\", \"techniqu\", \"techniqu\", \"technolog\", \"teenag\", \"tell\", \"tell\", \"tell\", \"tell\", \"tell\", \"tell\", \"tell\", \"tell\", \"tell\", \"test\", \"test\", \"test\", \"test\", \"test\", \"test\", \"test\", \"theori\", \"theori\", \"thing\", \"thing\", \"thing\", \"thing\", \"thing\", \"thing\", \"thing\", \"thing\", \"thing\", \"thing\", \"think\", \"think\", \"think\", \"think\", \"think\", \"think\", \"think\", \"think\", \"think\", \"think\", \"time\", \"time\", \"time\", \"time\", \"time\", \"time\", \"time\", \"time\", \"time\", \"time\", \"tip\", \"todai\", \"todai\", \"todai\", \"todai\", \"todai\", \"todai\", \"todai\", \"todai\", \"todai\", \"todai\", \"train\", \"train\", \"travel\", \"treat\", \"treat\", \"treatment\", \"trust\", \"turkei\", \"type\", \"type\", \"type\", \"type\", \"type\", \"type\", \"type\", \"type\", \"type\", \"type\", \"unit\", \"unit_state\", \"unit_state\", \"unit_state\", \"unit_state\", \"unit_state\", \"unit_state\", \"unit_state\", \"univers\", \"univers\", \"univers\", \"univers\", \"univers\", \"univers\", \"univers\", \"univers\", \"univers\", \"us\", \"us\", \"us\", \"us\", \"us\", \"us\", \"us\", \"us\", \"us\", \"us\", \"us_tip_start_work\", \"usa\", \"usa\", \"usa\", \"usa\", \"usa\", \"usa\", \"usa\", \"usa\", \"usa\", \"usa\", \"valu\", \"video\", \"video_game\", \"view\", \"view\", \"view\", \"view\", \"view\", \"view\", \"view\", \"view\", \"view\", \"visit\", \"wai\", \"wai\", \"wai\", \"wai\", \"wai\", \"wai\", \"wai\", \"wai\", \"wai\", \"wai\", \"want\", \"want\", \"want\", \"want\", \"want\", \"want\", \"want\", \"want\", \"want\", \"want\", \"war\", \"watch\", \"water\", \"water\", \"water\", \"water\", \"wear\", \"wear\", \"websit\", \"week\", \"week\", \"week\", \"week\", \"week\", \"week\", \"week\", \"week\", \"week\", \"weight\", \"wife\", \"win\", \"win\", \"window\", \"woman\", \"woman\", \"woman\", \"women\", \"women\", \"women\", \"women\", \"women\", \"women\", \"women\", \"women\", \"women\", \"word\", \"word\", \"word\", \"word\", \"word\", \"word\", \"word\", \"work\", \"work\", \"work\", \"work\", \"work\", \"work\", \"work\", \"work\", \"work\", \"work\", \"world\", \"world\", \"world\", \"world\", \"world\", \"world\", \"world\", \"world\", \"world\", \"world\", \"world_war\", \"worst\", \"worth\", \"worth\", \"write\", \"write\", \"write\", \"write\", \"write\", \"write\", \"write\", \"write\", \"write\", \"writer\", \"wrong\", \"wrong\", \"wrong\", \"wrong\", \"wrong\", \"wrong\", \"wrong\", \"wrong\", \"wrong\", \"year\", \"year\", \"year\", \"year\", \"year\", \"year\", \"year\", \"year\", \"year\", \"year\", \"year_old\", \"year_old\", \"year_old\", \"year_old\", \"year_old\", \"year_old\", \"year_old\", \"year_old\", \"youtub\"]}, \"R\": 30, \"lambda.step\": 0.01, \"plot.opts\": {\"xlab\": \"PC1\", \"ylab\": \"PC2\"}, \"topic.order\": [10, 2, 6, 3, 4, 5, 1, 8, 9, 7]};\n",
       "\n",
       "function LDAvis_load_lib(url, callback){\n",
       "  var s = document.createElement('script');\n",
       "  s.src = url;\n",
       "  s.async = true;\n",
       "  s.onreadystatechange = s.onload = callback;\n",
       "  s.onerror = function(){console.warn(\"failed to load library \" + url);};\n",
       "  document.getElementsByTagName(\"head\")[0].appendChild(s);\n",
       "}\n",
       "\n",
       "if(typeof(LDAvis) !== \"undefined\"){\n",
       "   // already loaded: just create the visualization\n",
       "   !function(LDAvis){\n",
       "       new LDAvis(\"#\" + \"ldavis_el1443618000689513684040099725\", ldavis_el1443618000689513684040099725_data);\n",
       "   }(LDAvis);\n",
       "}else if(typeof define === \"function\" && define.amd){\n",
       "   // require.js is available: use it to load d3/LDAvis\n",
       "   require.config({paths: {d3: \"https://cdnjs.cloudflare.com/ajax/libs/d3/3.5.5/d3.min\"}});\n",
       "   require([\"d3\"], function(d3){\n",
       "      window.d3 = d3;\n",
       "      LDAvis_load_lib(\"https://cdn.rawgit.com/bmabey/pyLDAvis/files/ldavis.v1.0.0.js\", function(){\n",
       "        new LDAvis(\"#\" + \"ldavis_el1443618000689513684040099725\", ldavis_el1443618000689513684040099725_data);\n",
       "      });\n",
       "    });\n",
       "}else{\n",
       "    // require.js not available: dynamically load d3 & LDAvis\n",
       "    LDAvis_load_lib(\"https://cdnjs.cloudflare.com/ajax/libs/d3/3.5.5/d3.min.js\", function(){\n",
       "         LDAvis_load_lib(\"https://cdn.rawgit.com/bmabey/pyLDAvis/files/ldavis.v1.0.0.js\", function(){\n",
       "                 new LDAvis(\"#\" + \"ldavis_el1443618000689513684040099725\", ldavis_el1443618000689513684040099725_data);\n",
       "            })\n",
       "         });\n",
       "}\n",
       "</script>"
      ],
      "text/plain": [
       "PreparedData(topic_coordinates=              x         y  topics  cluster       Freq\n",
       "topic                                                \n",
       "9      0.001558  0.018049       1        1  10.815603\n",
       "1      0.012997 -0.085423       2        1  10.238897\n",
       "5     -0.121256  0.026848       3        1  10.032555\n",
       "2      0.331502 -0.098716       4        1   9.965502\n",
       "3     -0.016158  0.033114       5        1   9.914048\n",
       "4      0.020220 -0.124539       6        1   9.897655\n",
       "0      0.063533  0.340378       7        1   9.893970\n",
       "7     -0.167761 -0.114110       8        1   9.859880\n",
       "8     -0.073354  0.019371       9        1   9.849759\n",
       "6     -0.051281 -0.014971      10        1   9.532133, topic_info=          Term          Freq         Total Category  logprob  loglift\n",
       "371   best_wai   5264.000000   5264.000000  Default  30.0000  30.0000\n",
       "1932    import   5352.000000   5352.000000  Default  29.0000  29.0000\n",
       "486      quora   5105.000000   5105.000000  Default  28.0000  28.0000\n",
       "495     exampl   4554.000000   4554.000000  Default  27.0000  27.0000\n",
       "123       mean  12080.000000  12080.000000  Default  26.0000  26.0000\n",
       "...        ...           ...           ...      ...      ...      ...\n",
       "2901   connect   1266.703613   1625.300293  Topic10  -5.6017   2.1012\n",
       "335     reason   1764.885986   3537.110352  Topic10  -5.2701   1.6553\n",
       "435      start   1958.438965   4898.791992  Topic10  -5.1660   1.4337\n",
       "609        man   1083.439331   2020.661133  Topic10  -5.7580   1.7272\n",
       "866      gener   1109.879883   2849.958740  Topic10  -5.7339   1.4074\n",
       "\n",
       "[567 rows x 6 columns], token_table=      Topic      Freq        Term\n",
       "term                             \n",
       "373       8  0.997559  accomplish\n",
       "1954      1  0.000459     account\n",
       "1954      2  0.002755     account\n",
       "1954      3  0.000459     account\n",
       "1954      4  0.995045     account\n",
       "...     ...       ...         ...\n",
       "1125      6  0.952790    year_old\n",
       "1125      8  0.000783    year_old\n",
       "1125      9  0.014869    year_old\n",
       "1125     10  0.027782    year_old\n",
       "1704      4  0.997765      youtub\n",
       "\n",
       "[1968 rows x 3 columns], R=30, lambda_step=0.01, plot_opts={'xlab': 'PC1', 'ylab': 'PC2'}, topic_order=[10, 2, 6, 3, 4, 5, 1, 8, 9, 7])"
      ]
     },
     "execution_count": 13,
     "metadata": {},
     "output_type": "execute_result"
    }
   ],
   "source": [
    "# Visualize the topics\n",
    "pyLDAvis.enable_notebook()\n",
    "vis = pyLDAvis.gensim.prepare(train_lda, train_corpus, train_dictionary)\n",
    "vis"
   ]
  },
  {
   "cell_type": "markdown",
   "metadata": {
    "_uuid": "4a20663d8c7f7541cd8778379475e89e684dfe9f"
   },
   "source": [
    "From the visualization above we can see that several topics overlap significantly."
   ]
  },
  {
   "cell_type": "code",
   "execution_count": null,
   "metadata": {
    "_uuid": "ae783ac166551bd49ec52047b54f4da5160996ab"
   },
   "outputs": [],
   "source": [
    "# using coherence score to find optimal number of topics\n",
    "# ref: https://www.machinelearningplus.com/nlp/topic-modeling-gensim-python/\n",
    "\n",
    "def compute_coherence_values(dictionary, corpus, texts, limit, start=2, step=3):\n",
    "    \"\"\"\n",
    "    Compute c_v coherence for various number of topics\n",
    "\n",
    "    Parameters:\n",
    "    ----------\n",
    "    dictionary : Gensim dictionary\n",
    "    corpus : Gensim corpus\n",
    "    texts : List of input texts\n",
    "    limit : Max num of topics\n",
    "\n",
    "    Returns:\n",
    "    -------\n",
    "    model_list : List of LDA topic models\n",
    "    coherence_values : Coherence values corresponding to the LDA model with respective number of topics\n",
    "    \"\"\"\n",
    "    coherence_values = []\n",
    "    model_list = []\n",
    "    for num_topics in range(start, limit, step):\n",
    "        model = models.LdaMulticore(corpus=corpus, num_topics=num_topics, id2word=dictionary, workers=6, passes=2)\n",
    "        model_list.append(model)\n",
    "        coherencemodel = models.CoherenceModel(model=model, texts=texts, dictionary=dictionary, coherence='c_v')\n",
    "        coherence_values.append(coherencemodel.get_coherence())\n",
    "\n",
    "    return model_list, coherence_values\n",
    "\n",
    "model_list, coherence_values = compute_coherence_values(dictionary=train_dictionary,\n",
    "                                                        corpus=train_tfidf,\n",
    "                                                        texts=train_clean,\n",
    "                                                        start=2,\n",
    "                                                        limit=262,\n",
    "                                                        step=20)\n"
   ]
  },
  {
   "cell_type": "code",
   "execution_count": null,
   "metadata": {
    "_uuid": "b25e217a20af301e44cf73a61e4a36015b60ed9e"
   },
   "outputs": [],
   "source": [
    "coherence_values"
   ]
  },
  {
   "cell_type": "code",
   "execution_count": null,
   "metadata": {
    "_uuid": "2bb7f0c7cb60f2f09c4f3752772d4ca8a15bf8eb"
   },
   "outputs": [],
   "source": [
    "# Show graph\n",
    "limit=262; start=2; step=20;\n",
    "x = range(start, limit, step)\n",
    "sns.lineplot(x, coherence_values)\n",
    "sns.despine(left=True, bottom=True)\n",
    "plt.title('Training LDA Coherence Scores', fontsize=30)\n",
    "plt.xlabel(\"Number of Topics\")\n",
    "plt.ylabel(\"Coherence Score\")\n",
    "plt.show()"
   ]
  },
  {
   "cell_type": "code",
   "execution_count": null,
   "metadata": {
    "_uuid": "88e2b46d95635cdc4fb5740d50f1e65a8fc531ef"
   },
   "outputs": [],
   "source": [
    "# LDA on tfidf\n",
    "%time train_lda = models.LdaMulticore(train_tfidf, num_topics=180, id2word=train_dictionary, passes=2, workers=6)"
   ]
  },
  {
   "cell_type": "code",
   "execution_count": null,
   "metadata": {
    "_uuid": "bd1a1e9ad9051ac150b32b2f8f648c73abd5c112"
   },
   "outputs": [],
   "source": [
    "# Visualize the topics\n",
    "pyLDAvis.enable_notebook()\n",
    "vis = pyLDAvis.gensim.prepare(train_lda, train_tfidf, train_dictionary)\n",
    "vis"
   ]
  },
  {
   "cell_type": "code",
   "execution_count": null,
   "metadata": {
    "_uuid": "4de35735d52e8b109a4c055f6e78163058de39f5"
   },
   "outputs": [],
   "source": []
  },
  {
   "cell_type": "code",
   "execution_count": null,
   "metadata": {
    "_uuid": "4dcb1cd1ee939a47c260a9de061a1dbe98d9aaa8"
   },
   "outputs": [],
   "source": []
  }
 ],
 "metadata": {
  "kernelspec": {
   "display_name": "Python 3",
   "language": "python",
   "name": "python3"
  },
  "language_info": {
   "codemirror_mode": {
    "name": "ipython",
    "version": 3
   },
   "file_extension": ".py",
   "mimetype": "text/x-python",
   "name": "python",
   "nbconvert_exporter": "python",
   "pygments_lexer": "ipython3",
   "version": "3.7.6"
  }
 },
 "nbformat": 4,
 "nbformat_minor": 1
}
