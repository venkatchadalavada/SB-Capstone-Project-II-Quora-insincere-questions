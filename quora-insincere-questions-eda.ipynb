{
 "cells": [
  {
   "cell_type": "markdown",
   "metadata": {
    "_uuid": "a21b1a9185f4634d8ae72aff10b2679a9285bdde"
   },
   "source": [
    "# Quora Insincere Questions Exploratory Data Analysis\n",
    "\n",
    "We will begin exploring the training data in order to come up with insights and a plan for modeling."
   ]
  },
  {
   "cell_type": "code",
   "execution_count": 1,
   "metadata": {
    "_uuid": "f627f68db31821e36f9b39736702956d0ba0b5f6"
   },
   "outputs": [],
   "source": [
    "# import packages\n",
    "import numpy as np\n",
    "import pandas as pd\n",
    "\n",
    "import matplotlib.pyplot as plt\n",
    "import seaborn as sns\n",
    "\n",
    "import spacy\n",
    "import nltk\n",
    "import re\n",
    "\n",
    "import string\n",
    "from nltk.corpus import stopwords\n",
    "from collections import Counter\n",
    "\n",
    "# print any variable/statement on its own line (not just the last one!)\n",
    "#from IPython.core.interactiveshell import InteractiveShell\n",
    "#InteractiveShell.ast_node_interactivity = \"all\"\n",
    "\n",
    "np.random.seed(27)"
   ]
  },
  {
   "cell_type": "code",
   "execution_count": 2,
   "metadata": {
    "_uuid": "ba862b614139fd9f6578d383124d4cb1ad6b8e30"
   },
   "outputs": [],
   "source": [
    "# setting up default plotting parameters\n",
    "%matplotlib inline\n",
    "\n",
    "plt.rcParams['figure.figsize'] = [20.0, 7.0]\n",
    "plt.rcParams.update({'font.size': 22,})\n",
    "\n",
    "sns.set_palette('viridis')\n",
    "sns.set_style('white')\n",
    "sns.set_context('talk', font_scale=0.8)"
   ]
  },
  {
   "cell_type": "code",
   "execution_count": 3,
   "metadata": {
    "_uuid": "b4a047a5616fbc049af4482381a1fba57efe5db3"
   },
   "outputs": [
    {
     "name": "stdout",
     "output_type": "stream",
     "text": [
      "(1306122, 3)\n"
     ]
    },
    {
     "data": {
      "text/html": [
       "<div>\n",
       "<style scoped>\n",
       "    .dataframe tbody tr th:only-of-type {\n",
       "        vertical-align: middle;\n",
       "    }\n",
       "\n",
       "    .dataframe tbody tr th {\n",
       "        vertical-align: top;\n",
       "    }\n",
       "\n",
       "    .dataframe thead th {\n",
       "        text-align: right;\n",
       "    }\n",
       "</style>\n",
       "<table border=\"1\" class=\"dataframe\">\n",
       "  <thead>\n",
       "    <tr style=\"text-align: right;\">\n",
       "      <th></th>\n",
       "      <th>qid</th>\n",
       "      <th>question_text</th>\n",
       "      <th>target</th>\n",
       "    </tr>\n",
       "  </thead>\n",
       "  <tbody>\n",
       "    <tr>\n",
       "      <th>0</th>\n",
       "      <td>00002165364db923c7e6</td>\n",
       "      <td>How did Quebec nationalists see their province...</td>\n",
       "      <td>0</td>\n",
       "    </tr>\n",
       "    <tr>\n",
       "      <th>1</th>\n",
       "      <td>000032939017120e6e44</td>\n",
       "      <td>Do you have an adopted dog, how would you enco...</td>\n",
       "      <td>0</td>\n",
       "    </tr>\n",
       "    <tr>\n",
       "      <th>2</th>\n",
       "      <td>0000412ca6e4628ce2cf</td>\n",
       "      <td>Why does velocity affect time? Does velocity a...</td>\n",
       "      <td>0</td>\n",
       "    </tr>\n",
       "    <tr>\n",
       "      <th>3</th>\n",
       "      <td>000042bf85aa498cd78e</td>\n",
       "      <td>How did Otto von Guericke used the Magdeburg h...</td>\n",
       "      <td>0</td>\n",
       "    </tr>\n",
       "    <tr>\n",
       "      <th>4</th>\n",
       "      <td>0000455dfa3e01eae3af</td>\n",
       "      <td>Can I convert montra helicon D to a mountain b...</td>\n",
       "      <td>0</td>\n",
       "    </tr>\n",
       "  </tbody>\n",
       "</table>\n",
       "</div>"
      ],
      "text/plain": [
       "                    qid                                      question_text  \\\n",
       "0  00002165364db923c7e6  How did Quebec nationalists see their province...   \n",
       "1  000032939017120e6e44  Do you have an adopted dog, how would you enco...   \n",
       "2  0000412ca6e4628ce2cf  Why does velocity affect time? Does velocity a...   \n",
       "3  000042bf85aa498cd78e  How did Otto von Guericke used the Magdeburg h...   \n",
       "4  0000455dfa3e01eae3af  Can I convert montra helicon D to a mountain b...   \n",
       "\n",
       "   target  \n",
       "0       0  \n",
       "1       0  \n",
       "2       0  \n",
       "3       0  \n",
       "4       0  "
      ]
     },
     "execution_count": 3,
     "metadata": {},
     "output_type": "execute_result"
    }
   ],
   "source": [
    "# load in data and print shape/head/tail\n",
    "raw_data = pd.read_csv('../SUDHEER/train.csv')\n",
    "print(raw_data.shape)\n",
    "raw_data.head()"
   ]
  },
  {
   "cell_type": "code",
   "execution_count": 4,
   "metadata": {
    "_uuid": "b93c8f21a0d0fe8f670336e5ff37416aeb707e28"
   },
   "outputs": [
    {
     "data": {
      "image/png": "[encoded data removed]",
      "text/plain": [
       "<Figure size 1440x504 with 1 Axes>"
      ]
     },
     "metadata": {},
     "output_type": "display_data"
    }
   ],
   "source": [
    "# using seaborns countplot to show distribution of questions in dataset\n",
    "fig, ax = plt.subplots()\n",
    "g = sns.countplot(raw_data.target, palette='viridis')\n",
    "g.set_xticklabels(['Sincere', 'Insincere'])\n",
    "g.set_yticklabels([])\n",
    "\n",
    "# function to show values on bars\n",
    "def show_values_on_bars(axs):\n",
    "    def _show_on_single_plot(ax):        \n",
    "        for p in ax.patches:\n",
    "            _x = p.get_x() + p.get_width() / 2\n",
    "            _y = p.get_y() + p.get_height()\n",
    "            value = '{:.0f}'.format(p.get_height())\n",
    "            ax.text(_x, _y, value, ha=\"center\") \n",
    "\n",
    "    if isinstance(axs, np.ndarray):\n",
    "        for idx, ax in np.ndenumerate(axs):\n",
    "            _show_on_single_plot(ax)\n",
    "    else:\n",
    "        _show_on_single_plot(axs)\n",
    "show_values_on_bars(ax)\n",
    "\n",
    "sns.despine(left=True, bottom=True)\n",
    "plt.xlabel('')\n",
    "plt.ylabel('')\n",
    "plt.title('Distribution of Questions', fontsize=30)\n",
    "plt.tick_params(axis='x', which='major', labelsize=15)\n",
    "fig.savefig('classes.png')\n",
    "plt.show()"
   ]
  },
  {
   "cell_type": "code",
   "execution_count": 5,
   "metadata": {
    "_uuid": "76bd58ce0b3c817a51d9611a3fcbc3f772a1c3e0"
   },
   "outputs": [
    {
     "data": {
      "text/plain": [
       "6.595054973753624"
      ]
     },
     "execution_count": 5,
     "metadata": {},
     "output_type": "execute_result"
    }
   ],
   "source": [
    "# print percentage of questions where target == 1\n",
    "(len(raw_data.loc[raw_data.target==1])) / (len(raw_data.loc[raw_data.target == 0])) * 100"
   ]
  },
  {
   "cell_type": "markdown",
   "metadata": {
    "_uuid": "dd36f29f3902d9f356b369ec5e5d6dba5830aebf"
   },
   "source": [
    "### Class Imbalance\n",
    "Imbalanced classes are a common problem in machine learning classification where there are a disproportionate ratio of observations in each class.  With just 6.6% of our dataset belonging to the target class, we can definitely have an imbalanced class!\n",
    "\n",
    "This is a problem because many machine learning models are designed to maximize overall accuracy, which especially with imbalanced classes may not be the best metric to use.  Classification accuracy is defined as the number of correct predictions divided by total predictions times 100.  For example, if we simply predicted that all questions are sincere, we would get a classification acuracy score of 93%!\n",
    "\n",
    "This competition uses the F1 score which balances precision and recall.\n",
    " - Precision is the number of true positives divided by all positive predictions.  Precision is also called Positive Predictive Value.  It is a measure of a classifier's exactness.  Low precision indicates a high number of false positives.\n",
    " - Recall is the number of true positives divided by the number of positive values in the test data.  Recall is also called Sensitivity or the True Positive Rate.  It is a measure of a classifier's completeness.  Low recall indicates a high number of false negatives."
   ]
  },
  {
   "cell_type": "code",
   "execution_count": 6,
   "metadata": {
    "_uuid": "edd79a10a092344ce409c06047d53e62c220674f"
   },
   "outputs": [
    {
     "name": "stdout",
     "output_type": "stream",
     "text": [
      "Why are most Finnish people so Islamaphobic?\n",
      "Why don't libertarians see that \"crony\" capitalism is an inevitable aspect of capitalism?\n",
      "Why don't supporters of gun rights organize a national system of financial support for victims of gun violence?\n",
      "How did the Republican Party share it’s voter database with the Russians?\n",
      "Could I chop off my hand and staple it back on and use it?\n"
     ]
    }
   ],
   "source": [
    "# printing out a random sample of questions labeled insincere\n",
    "import random\n",
    "\n",
    "index = random.sample(raw_data.index[raw_data.target == 1].tolist(), 5)\n",
    "for i in index:\n",
    "    print(raw_data.iloc[i, 1])"
   ]
  },
  {
   "cell_type": "code",
   "execution_count": 7,
   "metadata": {
    "_uuid": "5967982e9ff239cb7d49d7829a22146005a408a4"
   },
   "outputs": [
    {
     "data": {
      "text/plain": [
       "(391837, 3)"
      ]
     },
     "execution_count": 7,
     "metadata": {},
     "output_type": "execute_result"
    }
   ],
   "source": [
    "# taking a sample of the training data to speed up processing\n",
    "df = raw_data.sample(frac=0.3)\n",
    "df.shape"
   ]
  },
  {
   "cell_type": "code",
   "execution_count": 8,
   "metadata": {},
   "outputs": [
    {
     "name": "stdout",
     "output_type": "stream",
     "text": [
      "Requirement already satisfied: spacy in c:\\users\\sudheer\\anaconda3\\lib\\site-packages (2.2.3)\n",
      "Requirement already satisfied: catalogue<1.1.0,>=0.0.7 in c:\\users\\sudheer\\anaconda3\\lib\\site-packages (from spacy) (1.0.0)\n",
      "Requirement already satisfied: preshed<3.1.0,>=3.0.2 in c:\\users\\sudheer\\anaconda3\\lib\\site-packages (from spacy) (3.0.2)\n",
      "Requirement already satisfied: wasabi<1.1.0,>=0.4.0 in c:\\users\\sudheer\\anaconda3\\lib\\site-packages (from spacy) (0.6.0)\n",
      "Requirement already satisfied: srsly<1.1.0,>=0.1.0 in c:\\users\\sudheer\\anaconda3\\lib\\site-packages (from spacy) (1.0.1)\n",
      "Requirement already satisfied: requests<3.0.0,>=2.13.0 in c:\\users\\sudheer\\anaconda3\\lib\\site-packages (from spacy) (2.22.0)\n",
      "Requirement already satisfied: cymem<2.1.0,>=2.0.2 in c:\\users\\sudheer\\anaconda3\\lib\\site-packages (from spacy) (2.0.2)\n",
      "Requirement already satisfied: setuptools in c:\\users\\sudheer\\anaconda3\\lib\\site-packages (from spacy) (45.1.0.post20200127)\n",
      "Requirement already satisfied: thinc<7.4.0,>=7.3.0 in c:\\users\\sudheer\\anaconda3\\lib\\site-packages (from spacy) (7.3.1)\n",
      "Requirement already satisfied: murmurhash<1.1.0,>=0.28.0 in c:\\users\\sudheer\\anaconda3\\lib\\site-packages (from spacy) (1.0.2)\n",
      "Requirement already satisfied: numpy>=1.15.0 in c:\\users\\sudheer\\anaconda3\\lib\\site-packages (from spacy) (1.18.1)\n",
      "Requirement already satisfied: blis<0.5.0,>=0.4.0 in c:\\users\\sudheer\\anaconda3\\lib\\site-packages (from spacy) (0.4.1)\n",
      "Requirement already satisfied: plac<1.2.0,>=0.9.6 in c:\\users\\sudheer\\anaconda3\\lib\\site-packages (from spacy) (1.1.3)\n",
      "Requirement already satisfied: importlib-metadata>=0.20; python_version < \"3.8\" in c:\\users\\sudheer\\anaconda3\\lib\\site-packages (from catalogue<1.1.0,>=0.0.7->spacy) (1.4.0)\n",
      "Requirement already satisfied: chardet<3.1.0,>=3.0.2 in c:\\users\\sudheer\\anaconda3\\lib\\site-packages (from requests<3.0.0,>=2.13.0->spacy) (3.0.4)\n",
      "Requirement already satisfied: certifi>=2017.4.17 in c:\\users\\sudheer\\anaconda3\\lib\\site-packages (from requests<3.0.0,>=2.13.0->spacy) (2019.11.28)\n",
      "Requirement already satisfied: idna<2.9,>=2.5 in c:\\users\\sudheer\\anaconda3\\lib\\site-packages (from requests<3.0.0,>=2.13.0->spacy) (2.8)\n",
      "Requirement already satisfied: urllib3!=1.25.0,!=1.25.1,<1.26,>=1.21.1 in c:\\users\\sudheer\\anaconda3\\lib\\site-packages (from requests<3.0.0,>=2.13.0->spacy) (1.25.8)\n",
      "Requirement already satisfied: tqdm<5.0.0,>=4.10.0 in c:\\users\\sudheer\\anaconda3\\lib\\site-packages (from thinc<7.4.0,>=7.3.0->spacy) (4.42.0)\n",
      "Requirement already satisfied: zipp>=0.5 in c:\\users\\sudheer\\anaconda3\\lib\\site-packages (from importlib-metadata>=0.20; python_version < \"3.8\"->catalogue<1.1.0,>=0.0.7->spacy) (0.6.0)\n",
      "Requirement already satisfied: more-itertools in c:\\users\\sudheer\\anaconda3\\lib\\site-packages (from zipp>=0.5->importlib-metadata>=0.20; python_version < \"3.8\"->catalogue<1.1.0,>=0.0.7->spacy) (8.0.2)\n"
     ]
    }
   ],
   "source": [
    "!pip install spacy"
   ]
  },
  {
   "cell_type": "code",
   "execution_count": 9,
   "metadata": {
    "_uuid": "b5fc27688403760452c669e2c0db47440344909c"
   },
   "outputs": [
    {
     "data": {
      "text/html": [
       "<div>\n",
       "<style scoped>\n",
       "    .dataframe tbody tr th:only-of-type {\n",
       "        vertical-align: middle;\n",
       "    }\n",
       "\n",
       "    .dataframe tbody tr th {\n",
       "        vertical-align: top;\n",
       "    }\n",
       "\n",
       "    .dataframe thead th {\n",
       "        text-align: right;\n",
       "    }\n",
       "</style>\n",
       "<table border=\"1\" class=\"dataframe\">\n",
       "  <thead>\n",
       "    <tr style=\"text-align: right;\">\n",
       "      <th></th>\n",
       "      <th>qid</th>\n",
       "      <th>question_text</th>\n",
       "      <th>target</th>\n",
       "      <th>tokens</th>\n",
       "    </tr>\n",
       "  </thead>\n",
       "  <tbody>\n",
       "    <tr>\n",
       "      <th>1259827</th>\n",
       "      <td>f6e443619a0c1fec7e31</td>\n",
       "      <td>Are all mental diseases on the same spectrum?</td>\n",
       "      <td>0</td>\n",
       "      <td>(Are, all, mental, diseases, on, the, same, sp...</td>\n",
       "    </tr>\n",
       "    <tr>\n",
       "      <th>486303</th>\n",
       "      <td>5f3d05b2c44df44a0bf7</td>\n",
       "      <td>What is the procedure to get a management PHD ...</td>\n",
       "      <td>0</td>\n",
       "      <td>(What, is, the, procedure, to, get, a, managem...</td>\n",
       "    </tr>\n",
       "    <tr>\n",
       "      <th>87500</th>\n",
       "      <td>11259a3b1e5b6f8468d9</td>\n",
       "      <td>How did Boeing redesign its airplane productio...</td>\n",
       "      <td>0</td>\n",
       "      <td>(How, did, Boeing, redesign, its, airplane, pr...</td>\n",
       "    </tr>\n",
       "    <tr>\n",
       "      <th>99551</th>\n",
       "      <td>137ec33ea540e8f8c123</td>\n",
       "      <td>How can we find the right oil seals online? Or...</td>\n",
       "      <td>0</td>\n",
       "      <td>(How, can, we, find, the, right, oil, seals, o...</td>\n",
       "    </tr>\n",
       "    <tr>\n",
       "      <th>63856</th>\n",
       "      <td>0c8744752bfd2ab06ddd</td>\n",
       "      <td>Do you have any regrets to tell?</td>\n",
       "      <td>0</td>\n",
       "      <td>(Do, you, have, any, regrets, to, tell, ?)</td>\n",
       "    </tr>\n",
       "  </tbody>\n",
       "</table>\n",
       "</div>"
      ],
      "text/plain": [
       "                          qid  \\\n",
       "1259827  f6e443619a0c1fec7e31   \n",
       "486303   5f3d05b2c44df44a0bf7   \n",
       "87500    11259a3b1e5b6f8468d9   \n",
       "99551    137ec33ea540e8f8c123   \n",
       "63856    0c8744752bfd2ab06ddd   \n",
       "\n",
       "                                             question_text  target  \\\n",
       "1259827      Are all mental diseases on the same spectrum?       0   \n",
       "486303   What is the procedure to get a management PHD ...       0   \n",
       "87500    How did Boeing redesign its airplane productio...       0   \n",
       "99551    How can we find the right oil seals online? Or...       0   \n",
       "63856                     Do you have any regrets to tell?       0   \n",
       "\n",
       "                                                    tokens  \n",
       "1259827  (Are, all, mental, diseases, on, the, same, sp...  \n",
       "486303   (What, is, the, procedure, to, get, a, managem...  \n",
       "87500    (How, did, Boeing, redesign, its, airplane, pr...  \n",
       "99551    (How, can, we, find, the, right, oil, seals, o...  \n",
       "63856           (Do, you, have, any, regrets, to, tell, ?)  "
      ]
     },
     "execution_count": 9,
     "metadata": {},
     "output_type": "execute_result"
    }
   ],
   "source": [
    "# tokenize with spacy\n",
    "nlp = spacy.load('en')\n",
    "\n",
    "df['tokens'] = [nlp(text, # disable parts of the language processing pipeline we don't need here to speed up processing\n",
    "                    disable=['ner', # named entity recognition\n",
    "                                   'tagger', # part-of-speech tagger\n",
    "                                   'textcat', # document label categorizer\n",
    "                                  ]) for text in df.question_text]\n",
    "df.sample(5)"
   ]
  },
  {
   "cell_type": "code",
   "execution_count": 10,
   "metadata": {
    "_uuid": "f6c7e3243e453595ef7bdae68a39e2e69ea5d9a9"
   },
   "outputs": [
    {
     "data": {
      "text/html": [
       "<div>\n",
       "<style scoped>\n",
       "    .dataframe tbody tr th:only-of-type {\n",
       "        vertical-align: middle;\n",
       "    }\n",
       "\n",
       "    .dataframe tbody tr th {\n",
       "        vertical-align: top;\n",
       "    }\n",
       "\n",
       "    .dataframe thead th {\n",
       "        text-align: right;\n",
       "    }\n",
       "</style>\n",
       "<table border=\"1\" class=\"dataframe\">\n",
       "  <thead>\n",
       "    <tr style=\"text-align: right;\">\n",
       "      <th></th>\n",
       "      <th>qid</th>\n",
       "      <th>question_text</th>\n",
       "      <th>target</th>\n",
       "      <th>tokens</th>\n",
       "      <th>num_tokens</th>\n",
       "    </tr>\n",
       "  </thead>\n",
       "  <tbody>\n",
       "    <tr>\n",
       "      <th>1232251</th>\n",
       "      <td>f179a95cfc0d9c39dab9</td>\n",
       "      <td>Where can I find cheap mobile phones in Bangkok?</td>\n",
       "      <td>0</td>\n",
       "      <td>(Where, can, I, find, cheap, mobile, phones, i...</td>\n",
       "      <td>10</td>\n",
       "    </tr>\n",
       "    <tr>\n",
       "      <th>641307</th>\n",
       "      <td>7d9c760d1173c645c8c0</td>\n",
       "      <td>Can psychopaths enjoy watching porn?</td>\n",
       "      <td>0</td>\n",
       "      <td>(Can, psychopaths, enjoy, watching, porn, ?)</td>\n",
       "      <td>6</td>\n",
       "    </tr>\n",
       "    <tr>\n",
       "      <th>1026477</th>\n",
       "      <td>c92511e6c20c54d39db2</td>\n",
       "      <td>What is the cost price of maintenance dredging...</td>\n",
       "      <td>0</td>\n",
       "      <td>(What, is, the, cost, price, of, maintenance, ...</td>\n",
       "      <td>11</td>\n",
       "    </tr>\n",
       "    <tr>\n",
       "      <th>403417</th>\n",
       "      <td>4f0bd82beb717872502b</td>\n",
       "      <td>Do phycopaths experience PTSD?</td>\n",
       "      <td>0</td>\n",
       "      <td>(Do, phycopaths, experience, PTSD, ?)</td>\n",
       "      <td>5</td>\n",
       "    </tr>\n",
       "    <tr>\n",
       "      <th>1078465</th>\n",
       "      <td>d356f449702a9e789acc</td>\n",
       "      <td>How shall I check my pan card number through c...</td>\n",
       "      <td>0</td>\n",
       "      <td>(How, shall, I, check, my, pan, card, number, ...</td>\n",
       "      <td>11</td>\n",
       "    </tr>\n",
       "  </tbody>\n",
       "</table>\n",
       "</div>"
      ],
      "text/plain": [
       "                          qid  \\\n",
       "1232251  f179a95cfc0d9c39dab9   \n",
       "641307   7d9c760d1173c645c8c0   \n",
       "1026477  c92511e6c20c54d39db2   \n",
       "403417   4f0bd82beb717872502b   \n",
       "1078465  d356f449702a9e789acc   \n",
       "\n",
       "                                             question_text  target  \\\n",
       "1232251   Where can I find cheap mobile phones in Bangkok?       0   \n",
       "641307                Can psychopaths enjoy watching porn?       0   \n",
       "1026477  What is the cost price of maintenance dredging...       0   \n",
       "403417                      Do phycopaths experience PTSD?       0   \n",
       "1078465  How shall I check my pan card number through c...       0   \n",
       "\n",
       "                                                    tokens  num_tokens  \n",
       "1232251  (Where, can, I, find, cheap, mobile, phones, i...          10  \n",
       "641307        (Can, psychopaths, enjoy, watching, porn, ?)           6  \n",
       "1026477  (What, is, the, cost, price, of, maintenance, ...          11  \n",
       "403417               (Do, phycopaths, experience, PTSD, ?)           5  \n",
       "1078465  (How, shall, I, check, my, pan, card, number, ...          11  "
      ]
     },
     "execution_count": 10,
     "metadata": {},
     "output_type": "execute_result"
    }
   ],
   "source": [
    "df['num_tokens'] = [len(token) for token in df.tokens]\n",
    "df.sample(5)"
   ]
  },
  {
   "cell_type": "code",
   "execution_count": 11,
   "metadata": {
    "_uuid": "c34b01e6ce6291675ad5242631374b5c0633ae2a"
   },
   "outputs": [
    {
     "data": {
      "image/png": "[encoded data removed]",
      "text/plain": [
       "<Figure size 1440x504 with 1 Axes>"
      ]
     },
     "metadata": {},
     "output_type": "display_data"
    }
   ],
   "source": [
    "# using seaborns boxplot to visualize number of tokens per question\n",
    "fig, ax = plt.subplots()\n",
    "g = sns.boxplot(x=df.target, y=df.num_tokens, palette='viridis')\n",
    "g.set_xticklabels(['Sincere', 'Insincere'])\n",
    "g.set_yticklabels([])\n",
    "\n",
    "sns.despine(left=True, bottom=True)\n",
    "plt.xlabel('')\n",
    "plt.ylabel('')\n",
    "plt.title('Number of Tokens per Question', fontsize=30)\n",
    "plt.tick_params(axis='x', which='major', labelsize=15)\n",
    "fig.savefig('tokens.png')\n",
    "plt.show()"
   ]
  },
  {
   "cell_type": "code",
   "execution_count": 12,
   "metadata": {
    "_uuid": "d658ecbb578a31dcdd3365b33b9669a25a8888d4"
   },
   "outputs": [
    {
     "name": "stdout",
     "output_type": "stream",
     "text": [
      "[How should HSEB student prepare for applying to US universities after their grade 12?]\n"
     ]
    },
    {
     "data": {
      "text/html": [
       "<div>\n",
       "<style scoped>\n",
       "    .dataframe tbody tr th:only-of-type {\n",
       "        vertical-align: middle;\n",
       "    }\n",
       "\n",
       "    .dataframe tbody tr th {\n",
       "        vertical-align: top;\n",
       "    }\n",
       "\n",
       "    .dataframe thead th {\n",
       "        text-align: right;\n",
       "    }\n",
       "</style>\n",
       "<table border=\"1\" class=\"dataframe\">\n",
       "  <thead>\n",
       "    <tr style=\"text-align: right;\">\n",
       "      <th></th>\n",
       "      <th>qid</th>\n",
       "      <th>question_text</th>\n",
       "      <th>target</th>\n",
       "      <th>tokens</th>\n",
       "      <th>num_tokens</th>\n",
       "      <th>num_sents</th>\n",
       "    </tr>\n",
       "  </thead>\n",
       "  <tbody>\n",
       "    <tr>\n",
       "      <th>356894</th>\n",
       "      <td>45f5332baeff001f879a</td>\n",
       "      <td>Will my son become gay? He saw two guys kissin...</td>\n",
       "      <td>1</td>\n",
       "      <td>(Will, my, son, become, gay, ?, He, saw, two, ...</td>\n",
       "      <td>19</td>\n",
       "      <td>3</td>\n",
       "    </tr>\n",
       "    <tr>\n",
       "      <th>1054866</th>\n",
       "      <td>ceb552509b2db6f3f616</td>\n",
       "      <td>How can a person or a business best prepare fo...</td>\n",
       "      <td>0</td>\n",
       "      <td>(How, can, a, person, or, a, business, best, p...</td>\n",
       "      <td>26</td>\n",
       "      <td>2</td>\n",
       "    </tr>\n",
       "    <tr>\n",
       "      <th>636998</th>\n",
       "      <td>7cc2650187c481c21a94</td>\n",
       "      <td>If something is a possibility in the mind is i...</td>\n",
       "      <td>0</td>\n",
       "      <td>(If, something, is, a, possibility, in, the, m...</td>\n",
       "      <td>15</td>\n",
       "      <td>1</td>\n",
       "    </tr>\n",
       "    <tr>\n",
       "      <th>1080700</th>\n",
       "      <td>d3c85895afb6a22495c7</td>\n",
       "      <td>How do I explain that liberalism is a mental d...</td>\n",
       "      <td>0</td>\n",
       "      <td>(How, do, I, explain, that, liberalism, is, a,...</td>\n",
       "      <td>11</td>\n",
       "      <td>1</td>\n",
       "    </tr>\n",
       "    <tr>\n",
       "      <th>901106</th>\n",
       "      <td>b08f3eb4dc54d9d2f28f</td>\n",
       "      <td>Can any one tell me everything I need to know ...</td>\n",
       "      <td>0</td>\n",
       "      <td>(Can, any, one, tell, me, everything, I, need,...</td>\n",
       "      <td>20</td>\n",
       "      <td>2</td>\n",
       "    </tr>\n",
       "  </tbody>\n",
       "</table>\n",
       "</div>"
      ],
      "text/plain": [
       "                          qid  \\\n",
       "356894   45f5332baeff001f879a   \n",
       "1054866  ceb552509b2db6f3f616   \n",
       "636998   7cc2650187c481c21a94   \n",
       "1080700  d3c85895afb6a22495c7   \n",
       "901106   b08f3eb4dc54d9d2f28f   \n",
       "\n",
       "                                             question_text  target  \\\n",
       "356894   Will my son become gay? He saw two guys kissin...       1   \n",
       "1054866  How can a person or a business best prepare fo...       0   \n",
       "636998   If something is a possibility in the mind is i...       0   \n",
       "1080700  How do I explain that liberalism is a mental d...       0   \n",
       "901106   Can any one tell me everything I need to know ...       0   \n",
       "\n",
       "                                                    tokens  num_tokens  \\\n",
       "356894   (Will, my, son, become, gay, ?, He, saw, two, ...          19   \n",
       "1054866  (How, can, a, person, or, a, business, best, p...          26   \n",
       "636998   (If, something, is, a, possibility, in, the, m...          15   \n",
       "1080700  (How, do, I, explain, that, liberalism, is, a,...          11   \n",
       "901106   (Can, any, one, tell, me, everything, I, need,...          20   \n",
       "\n",
       "         num_sents  \n",
       "356894           3  \n",
       "1054866          2  \n",
       "636998           1  \n",
       "1080700          1  \n",
       "901106           2  "
      ]
     },
     "execution_count": 12,
     "metadata": {},
     "output_type": "execute_result"
    }
   ],
   "source": [
    "# get number of sentences per question\n",
    "print(list(df.iloc[0,3].sents))\n",
    "\n",
    "sents = [list(x.sents) for x in df.tokens]\n",
    "df['num_sents'] = [len(sent) for sent in sents]\n",
    "df.sample(5)"
   ]
  },
  {
   "cell_type": "code",
   "execution_count": 13,
   "metadata": {
    "_uuid": "c8043a18f27857dfba831fe8d090ec5f1bffc927"
   },
   "outputs": [
    {
     "data": {
      "image/png": "[encoded data removed]",
      "text/plain": [
       "<Figure size 1440x504 with 1 Axes>"
      ]
     },
     "metadata": {},
     "output_type": "display_data"
    }
   ],
   "source": [
    "# plotting number of sentences per question\n",
    "fig, ax = plt.subplots()\n",
    "g = sns.countplot(df.num_sents, hue=df.target, palette='viridis')\n",
    "#g.set_xticklabels(['Sincere', 'Insincere'])\n",
    "g.set_yticklabels([])\n",
    "\n",
    "# using log scale on y-axis so we can better see the questions with more sentences\n",
    "ax.set(yscale='log')\n",
    "\n",
    "sns.despine(left=True, bottom=True)\n",
    "plt.xlabel('')\n",
    "plt.ylabel('')\n",
    "plt.title('Number of Sentences per Question', fontsize=30)\n",
    "plt.tick_params(axis='x', which='major', labelsize=15)\n",
    "fig.savefig('sentences.png')\n",
    "plt.show()"
   ]
  },
  {
   "cell_type": "code",
   "execution_count": 14,
   "metadata": {},
   "outputs": [
    {
     "name": "stdout",
     "output_type": "stream",
     "text": [
      "showing info https://raw.githubusercontent.com/nltk/nltk_data/gh-pages/index.xml\n"
     ]
    },
    {
     "data": {
      "text/plain": [
       "True"
      ]
     },
     "execution_count": 14,
     "metadata": {},
     "output_type": "execute_result"
    }
   ],
   "source": [
    "import nltk\n",
    "nltk.download()"
   ]
  },
  {
   "cell_type": "code",
   "execution_count": 15,
   "metadata": {},
   "outputs": [],
   "source": [
    "from nltk.corpus import stopwords\n"
   ]
  },
  {
   "cell_type": "code",
   "execution_count": 16,
   "metadata": {
    "_uuid": "a094cda6b83f0385526aa2460693e5d8c2859874"
   },
   "outputs": [],
   "source": [
    "# Finding most common words\n",
    "# Define function to cleanup text by removing personal pronouns, stopwords, and puncuation\n",
    "punctuations = string.punctuation\n",
    "stopwords = set(stopwords.words('english'))\n",
    "#stop_words = set(stopwords.words(\"english\"))\n",
    "\n",
    "def cleanup_text(docs):\n",
    "    texts = []\n",
    "    for doc in docs:\n",
    "        doc = re.sub(r'[^a-zA-Z\\s]', '', doc, re.I|re.A)\n",
    "        doc = nlp(doc, disable=['ner'])\n",
    "        tokens = [tok.lemma_.lower().strip() for tok in doc if tok.lemma_ != '-PRON-']\n",
    "        tokens = [tok for tok in tokens if tok not in stopwords and tok not in punctuations]\n",
    "        tokens = ' '.join(tokens)\n",
    "        texts.append(tokens)\n",
    "    return pd.Series(texts)"
   ]
  },
  {
   "cell_type": "code",
   "execution_count": 17,
   "metadata": {
    "_uuid": "cd669d3b16208535ee597d5c527e4a46c0e91cc6"
   },
   "outputs": [],
   "source": [
    "# Grab all text associated with insincere questions\n",
    "insincere_text = [text for text in df[df['target'] == 1]['question_text']]\n",
    "insincere_clean = cleanup_text(insincere_text)\n",
    "insincere_clean = ' '.join(insincere_clean).split()"
   ]
  },
  {
   "cell_type": "code",
   "execution_count": 18,
   "metadata": {
    "_uuid": "97b964439b1f0e0b8bbf4b75836aebd0ce6955db"
   },
   "outputs": [
    {
     "data": {
      "image/png": "[encoded data removed]",
      "text/plain": [
       "<Figure size 1440x504 with 1 Axes>"
      ]
     },
     "metadata": {},
     "output_type": "display_data"
    }
   ],
   "source": [
    "# Count all unique words\n",
    "insincere_counts = Counter(insincere_clean)\n",
    "# get words and word counts\n",
    "insincere_common_words = [word[0] for word in insincere_counts.most_common(20)]\n",
    "insincere_common_counts = [word[1] for word in insincere_counts.most_common(20)]\n",
    "\n",
    "# plot 20 most common words in insincere questions\n",
    "sns.barplot(insincere_common_words, insincere_common_counts, palette='viridis')\n",
    "sns.despine(left=True, bottom=True)\n",
    "plt.xlabel('')\n",
    "plt.ylabel('')\n",
    "plt.title('Insincere Questions Common Words', fontsize=30)\n",
    "plt.tick_params(axis='x', which='major', labelsize=15)\n",
    "fig.savefig('insincere_words.png')\n",
    "plt.show()"
   ]
  },
  {
   "cell_type": "code",
   "execution_count": 24,
   "metadata": {
    "_uuid": "6c32e41120eb9871970cb51c04e268e76b45246f"
   },
   "outputs": [],
   "source": [
    "# Grab all text associated with sincere questions\n",
    "sincere_text = [text for text in df[df['target'] == 0]['question_text']]\n",
    "sincere_clean = cleanup_text(sincere_text)\n",
    "sincere_clean = ' '.join(sincere_clean).split()"
   ]
  },
  {
   "cell_type": "code",
   "execution_count": 25,
   "metadata": {
    "_uuid": "99f55a49dfabae2ee708aca1bf5fcedb47825b5a"
   },
   "outputs": [
    {
     "data": {
      "image/png": "[encoded data removed]",
      "text/plain": [
       "<Figure size 1440x504 with 1 Axes>"
      ]
     },
     "metadata": {},
     "output_type": "display_data"
    }
   ],
   "source": [
    "# Count all unique words\n",
    "sincere_counts = Counter(sincere_clean)\n",
    "# get words and word counts\n",
    "sincere_common_words = [word[0] for word in sincere_counts.most_common(20)]\n",
    "sincere_common_counts = [word[1] for word in sincere_counts.most_common(20)]\n",
    "\n",
    "# plot 20 most common words in sincere questions\n",
    "sns.barplot(sincere_common_words, sincere_common_counts, palette='viridis')\n",
    "sns.despine(left=True, bottom=True)\n",
    "plt.xlabel('')\n",
    "plt.ylabel('')\n",
    "plt.title('Sincere Questions Common Words', fontsize=30)\n",
    "plt.tick_params(axis='x', which='major', labelsize=15)\n",
    "fig.savefig('sincere.png')\n",
    "plt.show()"
   ]
  }
 ],
 "metadata": {
  "kernelspec": {
   "display_name": "Python 3",
   "language": "python",
   "name": "python3"
  },
  "language_info": {
   "codemirror_mode": {
    "name": "ipython",
    "version": 3
   },
   "file_extension": ".py",
   "mimetype": "text/x-python",
   "name": "python",
   "nbconvert_exporter": "python",
   "pygments_lexer": "ipython3",
   "version": "3.7.6"
  }
 },
 "nbformat": 4,
 "nbformat_minor": 1
}
